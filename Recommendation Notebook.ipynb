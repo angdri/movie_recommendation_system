{
 "cells": [
  {
   "cell_type": "code",
   "execution_count": 1,
   "metadata": {
    "ExecuteTime": {
     "end_time": "2019-11-18T04:19:13.505125Z",
     "start_time": "2019-11-18T04:19:12.879799Z"
    }
   },
   "outputs": [],
   "source": [
    "import pandas as pd\n",
    "import numpy as np\n",
    "\n",
    "import re"
   ]
  },
  {
   "cell_type": "code",
   "execution_count": 2,
   "metadata": {
    "ExecuteTime": {
     "end_time": "2019-11-18T04:19:13.512108Z",
     "start_time": "2019-11-18T04:19:13.507121Z"
    }
   },
   "outputs": [],
   "source": [
    "import warnings\n",
    "warnings.filterwarnings('ignore')\n",
    "\n",
    "pd.set_option('display.max_rows', 500)\n",
    "pd.set_option('display.max_columns', 200)\n",
    "pd.set_option('display.width', 500)\n",
    "pd.set_option('display.max_colwidth', -1)"
   ]
  },
  {
   "cell_type": "markdown",
   "metadata": {
    "heading_collapsed": true
   },
   "source": [
    "## read, info, head"
   ]
  },
  {
   "cell_type": "code",
   "execution_count": 3,
   "metadata": {
    "ExecuteTime": {
     "end_time": "2019-11-18T04:19:13.714565Z",
     "start_time": "2019-11-18T04:19:13.516097Z"
    },
    "hidden": true
   },
   "outputs": [],
   "source": [
    "usecols=['id','title','genres','keywords','overview','popularity','production_companies','release_date','release_month',\n",
    "         'tagline','vote_average','vote_count','cast_name','producer','director']\n",
    "\n",
    "movie_df = pd.read_csv('./data/clean_movie_plus_credit.csv', encoding='raw_unicode_escape', usecols=usecols)"
   ]
  },
  {
   "cell_type": "code",
   "execution_count": 4,
   "metadata": {
    "ExecuteTime": {
     "end_time": "2019-11-18T04:19:13.730523Z",
     "start_time": "2019-11-18T04:19:13.716560Z"
    },
    "hidden": true
   },
   "outputs": [
    {
     "name": "stdout",
     "output_type": "stream",
     "text": [
      "<class 'pandas.core.frame.DataFrame'>\n",
      "RangeIndex: 4803 entries, 0 to 4802\n",
      "Data columns (total 15 columns):\n",
      "genres                  4775 non-null object\n",
      "id                      4803 non-null int64\n",
      "keywords                4390 non-null object\n",
      "overview                4803 non-null object\n",
      "popularity              4803 non-null float64\n",
      "production_companies    4451 non-null object\n",
      "release_date            4803 non-null object\n",
      "tagline                 3959 non-null object\n",
      "title                   4803 non-null object\n",
      "vote_average            4803 non-null float64\n",
      "vote_count              4803 non-null int64\n",
      "release_month           4803 non-null int64\n",
      "cast_name               4757 non-null object\n",
      "producer                3743 non-null object\n",
      "director                4562 non-null object\n",
      "dtypes: float64(2), int64(3), object(10)\n",
      "memory usage: 562.9+ KB\n"
     ]
    }
   ],
   "source": [
    "movie_df.info()"
   ]
  },
  {
   "cell_type": "code",
   "execution_count": 5,
   "metadata": {
    "ExecuteTime": {
     "end_time": "2019-11-18T04:19:13.827265Z",
     "start_time": "2019-11-18T04:19:13.732522Z"
    },
    "hidden": true
   },
   "outputs": [
    {
     "data": {
      "text/html": [
       "<div>\n",
       "<style scoped>\n",
       "    .dataframe tbody tr th:only-of-type {\n",
       "        vertical-align: middle;\n",
       "    }\n",
       "\n",
       "    .dataframe tbody tr th {\n",
       "        vertical-align: top;\n",
       "    }\n",
       "\n",
       "    .dataframe thead th {\n",
       "        text-align: right;\n",
       "    }\n",
       "</style>\n",
       "<table border=\"1\" class=\"dataframe\">\n",
       "  <thead>\n",
       "    <tr style=\"text-align: right;\">\n",
       "      <th></th>\n",
       "      <th>genres</th>\n",
       "      <th>id</th>\n",
       "      <th>keywords</th>\n",
       "      <th>overview</th>\n",
       "      <th>popularity</th>\n",
       "      <th>production_companies</th>\n",
       "      <th>release_date</th>\n",
       "      <th>tagline</th>\n",
       "      <th>title</th>\n",
       "      <th>vote_average</th>\n",
       "      <th>vote_count</th>\n",
       "      <th>release_month</th>\n",
       "      <th>cast_name</th>\n",
       "      <th>producer</th>\n",
       "      <th>director</th>\n",
       "    </tr>\n",
       "  </thead>\n",
       "  <tbody>\n",
       "    <tr>\n",
       "      <th>0</th>\n",
       "      <td>Action,Adventure,Fantasy,Science Fiction</td>\n",
       "      <td>19995</td>\n",
       "      <td>culture clash,future,space war,space colony,society,space travel,futuristic,romance,space,alien,tribe,alien planet,cgi,marine,soldier,battle,love affair,anti war,power relations,mind and soul,3d</td>\n",
       "      <td>In the 22nd century, a paraplegic Marine is dispatched to the moon Pandora on a unique mission, but becomes torn between following orders and protecting an alien civilization.</td>\n",
       "      <td>150.437577</td>\n",
       "      <td>Ingenious Film Partners,Twentieth Century Fox Film Corporation,Dune Entertainment,Lightstorm Entertainment</td>\n",
       "      <td>2009-12-10</td>\n",
       "      <td>Enter the World of Pandora.</td>\n",
       "      <td>Avatar</td>\n",
       "      <td>7.2</td>\n",
       "      <td>11800</td>\n",
       "      <td>12</td>\n",
       "      <td>Sam Worthington,Zoe Saldana,Sigourney Weaver,Stephen Lang,Michelle Rodriguez,Giovanni Ribisi,Joel David Moore,CCH Pounder,Wes Studi,Laz Alonso,Dileep Rao,Matt Gerald,Sean Anthony Moran,Jason Whyte,Scott Lawrence,Kelly Kilgour,James Patrick Pitt,Sean Patrick Murphy,Peter Dillon,Kevin Dorman,Kelson Henderson,David Van Horn,Jacob Tomuri,Jon Curry,Luke Hawker,Woody Schultz,Peter Mensah,Sonia Yee,Jahnel Curfman,Ilram Choi,Kyla Warren,Lisa Roumain,Debra Wilson,Chris Mala,Taylor Kibby,Jodie Landau,Julie Lamm,Cullen B. Madden,Joseph Brady Madden,Frankie Torres,Austin Wilson,Sara Wilson,Lucy Briant,Nathan Meister,Gerry Blair,Matthew Chamberlain,Paul Yates,Wray Wilson,James Gaylyn,Melvin Leno Clark III,Carvon Futrell,Brandon Jelkes,Micah Moch,Hanniyah Muhammad,Christopher Nolen,Christa Oliver,April Marie Thomas,Bravita A. Threatt,Colin Bleasdale,Mike Bodnar,Matt Clayton,Nicole Dionne,Jamie Harrison,Allan Henry,Anthony Ingruber,Ashley Jeffery,Dean Knowsley,Terry Notary,Kai Pantano,Logan Pithyou,Stuart Pollock,Raja,Gareth Ruck,Rhian Sheehan,T. J. Storm,Jodie Taylor,Richard Whiteside,Nikie Zambo,Julene Renee</td>\n",
       "      <td>James Cameron,Jon Landau</td>\n",
       "      <td>James Cameron</td>\n",
       "    </tr>\n",
       "    <tr>\n",
       "      <th>1</th>\n",
       "      <td>Adventure,Fantasy,Action</td>\n",
       "      <td>285</td>\n",
       "      <td>ocean,drug abuse,exotic island,east india trading company,love of one's life,traitor,shipwreck,strong woman,ship,alliance,calypso,afterlife,fighter,pirate,swashbuckler,aftercreditsstinger</td>\n",
       "      <td>Captain Barbossa, long believed to be dead, has come back to life and is headed to the edge of the Earth with Will Turner and Elizabeth Swann. But nothing is quite as it seems.</td>\n",
       "      <td>139.082615</td>\n",
       "      <td>Walt Disney Pictures,Jerry Bruckheimer Films,Second Mate Productions</td>\n",
       "      <td>2007-05-19</td>\n",
       "      <td>At the end of the world, the adventure begins.</td>\n",
       "      <td>Pirates of the Caribbean: At World's End</td>\n",
       "      <td>6.9</td>\n",
       "      <td>4500</td>\n",
       "      <td>5</td>\n",
       "      <td>Johnny Depp,Orlando Bloom,Keira Knightley,Bill Nighy,Geoffrey Rush,Jack Davenport,Kevin McNally,Tom Hollander,Naomie Harris,Jonathan Pryce,Keith Richards,Lee Arenberg,Mackenzie Crook,Greg Ellis,David Bailie,Martin Klebba,David Schofield,Lauren Maher,Vanessa Branch,Angus Barnett,Giles New,Reggie Lee,Dominic Scott Kay,Takayo Fischer,David Meunier,Andy Beckwith,Peter Donald Badalamenti II,Christopher S. Capp,Keith Richards,Ghassan Massoud</td>\n",
       "      <td>Jerry Bruckheimer,Eric McLeod,Chad Oman,Peter Kohn,Pat Sandston</td>\n",
       "      <td>Gore Verbinski</td>\n",
       "    </tr>\n",
       "    <tr>\n",
       "      <th>2</th>\n",
       "      <td>Action,Adventure,Crime</td>\n",
       "      <td>206647</td>\n",
       "      <td>spy,based on novel,secret agent,sequel,mi6,british secret service,united kingdom</td>\n",
       "      <td>A cryptic message from BondÃÂ¢ÃÂÃÂs past sends him on a trail to uncover a sinister organization. While M battles political forces to keep the secret service alive, Bond peels back the layers of deceit to reveal the terrible truth behind SPECTRE.</td>\n",
       "      <td>107.376788</td>\n",
       "      <td>Columbia Pictures,Danjaq,B24</td>\n",
       "      <td>2015-10-26</td>\n",
       "      <td>A Plan No One Escapes</td>\n",
       "      <td>Spectre</td>\n",
       "      <td>6.3</td>\n",
       "      <td>4466</td>\n",
       "      <td>10</td>\n",
       "      <td>Daniel Craig,Christoph Waltz,Ralph Fiennes,Monica Bellucci,Ben Whishaw,Naomie Harris,Dave Bautista,Andrew Scott,Rory Kinnear,Jesper Christensen,Alessandro Cremona,Stephanie Sigman,Tenoch Huerta,Adriana Paz,Domenico Fortunato,Marco Zingaro,Stefano Elfi DiClaudia,Ian Bonar,Tam Williams,Richard Banham,Pip Carter,Simon Lenagan,Alessandro Bressanello,Marc Zinga,Brigitte Millar,Adel Bencherif,Gediminas Adomaitis,Peppe Lanzetta,Francesco Arca,Matteo Taranto,Emilio Aniba,Benito Sagredo,Dai Tabuchi,George Lasha,Sargon Yelda,Andy Cheung,Erick Hayden,Oleg Mirochnikov,Antonio Salines,Miloud Mourad Benamara,Gido Schimanski,Nigel Barber,Patrice Naiambana,Stephane Cornicard,Gary Fannin,Sadao Ueda,Phillip Law,Wai Wong,Joseph Balderrama,Eiji Mihara,Junichi Kajioka,Harald Windisch,Tristan Matthiae,Detlef Bothe,Bodo Friesecke,Wilhem Iben,Noemi Krausz,Noah Saavedra,Francis Attakpah,Michael Glantschnig,Marlon Boess,Marie Wohlmuth,Lili Epply,Konstantin Gerlach,Lara Parmiani,Umit Ulgen,Amra Mallassi,Ziad Abaza,Walid Mumuni,Derek Horsham,Michael White,Adam McGrady,Nader Dernaika,Pezhmaan Alinia,Judi Dench,Neve Gachev,Karl Farrer,Kim Adis,Maurisa Selene Coleman</td>\n",
       "      <td>Barbara Broccoli,Michael G. Wilson</td>\n",
       "      <td>Sam Mendes</td>\n",
       "    </tr>\n",
       "    <tr>\n",
       "      <th>3</th>\n",
       "      <td>Action,Crime,Drama,Thriller</td>\n",
       "      <td>49026</td>\n",
       "      <td>dc comics,crime fighter,terrorist,secret identity,burglar,hostage drama,time bomb,gotham city,vigilante,cover-up,superhero,villainess,tragic hero,terrorism,destruction,catwoman,cat burglar,imax,flood,criminal underworld,batman</td>\n",
       "      <td>Following the death of District Attorney Harvey Dent, Batman assumes responsibility for Dent's crimes to protect the late attorney's reputation and is subsequently hunted by the Gotham City Police Department. Eight years later, Batman encounters the mysterious Selina Kyle and the villainous Bane, a new terrorist leader who overwhelms Gotham's finest. The Dark Knight resurfaces to protect a city that has branded him an enemy.</td>\n",
       "      <td>112.312950</td>\n",
       "      <td>Legendary Pictures,Warner Bros.,DC Entertainment,Syncopy</td>\n",
       "      <td>2012-07-16</td>\n",
       "      <td>The Legend Ends</td>\n",
       "      <td>The Dark Knight Rises</td>\n",
       "      <td>7.6</td>\n",
       "      <td>9106</td>\n",
       "      <td>7</td>\n",
       "      <td>Christian Bale,Michael Caine,Gary Oldman,Anne Hathaway,Tom Hardy,Marion Cotillard,Morgan Freeman,Cillian Murphy,Juno Temple,Liam Neeson,Matthew Modine,Alon Aboutboul,Ben Mendelsohn,Nestor Carbonell,Josh Pence,Tom Conti,Joey King,Warren Brown,Daniel Sunjata,Sam Kennard,Aliash Tepina,Nick Julian,Miranda Nolan,Claire Julien,Aidan Gillen,Burn Gorman,Brett Cullen,Reggie Lee,Joseph Lyle Taylor,Chris Ellis,Duane Henry,James Harvey Ward,Gonzalo Menendez,Cameron Jack,Lex Daniel,Tyler Dean Flores,Thomas Lennon,Trevor White,Rob Brown,Fredric Lehne,Courtney Munch,Chris Hill,Travis Guba,Jay Benedict,Will Estes,David Dayan Fisher,Glen Powell,Russ Fega,Brent Briscoe,John Nolan,Oliver Cotton,Mark Killeen,Sarah Goldberg,John MacMillan,Robert Wisdom,Ronnie Gene Blevins,John Hollingworth,Ian Bohen,Uri Gavriel,Noel Gugliemi,Hector Atreyu Ruiz,Patrick Cox,Aramis Knight,Josh Stewart,William Devane,David Gyasi,Patrick Jordan,Joshua Elijah Reese,Desmond Harrington,Mychael Bates,Tomas Arana,Peter Holden,David Monahan,Jillian Armenante,Aja Evans,Aldous Davidson,Wade Williams,Jake Canuso,Massi Furlan,Christopher Judge,Patrick Leahy,Todd Gearhart,Marc Abbink,Isiah Adams,Charlie Alejandro,Robert Arensen,Grant Babbitt,Fileena Bahris,Rick Bolander,Kyle Patrick Brennan,Scott Churchson,Bill Cowher,Graham Curry,Stephanie Domini Ehlert,John Farrer,Frank Fata,Christopher Bryan Gomez,Vito Grassi,Michael Wren Gucciardo,Sam Harris,Ed Heavey,John W. Iwanonkiw,Cindy Jackson,Daniel Jordano,William Kania,Tiffany Kemp,Sun Jae Kim,Hrvoje Klecz,Alex Kruz,Tyler La Marr,LeJon,Paul Jude Letersky,Joe Lipari,Silvia Lombardo,Jorge Mardel,Cale McConnell,David Dale McCue,Tiffany Sander McKenzie,Allen Merritt,Olan Montgomery,Alex Moore,Shane Nolan,Jackson Nunn,Michael Papajohn,Salomon Passariello,Kyle David Pierce,Troy Polamalu,Michael Power,James Rawlings,Kirsten Roeters,Ben Roethlisberger,Mark Roman,Anthony J. Sacco,Eric Salazar,Emily Schooley,Thomas Tull,Chris Vaina,Vincent van Ommen,Michelle Vezzani,Barbara Vincent,Justin Michael Woods,Jason Yee,Maria Zambrana,John Zion,Alex Ziwak,Tommy Bayiokos,Matthew Gooley,Jeff Moffitt,Mark Falvo,Diogo Hausen,Gary Sievers,Orion McCabe,London May,James Quinn,Daniel Newman</td>\n",
       "      <td>Charles Roven,Christopher Nolan,Emma Thomas</td>\n",
       "      <td>Christopher Nolan</td>\n",
       "    </tr>\n",
       "    <tr>\n",
       "      <th>4</th>\n",
       "      <td>Action,Adventure,Science Fiction</td>\n",
       "      <td>49529</td>\n",
       "      <td>based on novel,mars,medallion,space travel,princess,alien,steampunk,martian,escape,edgar rice burroughs,alien race,superhuman strength,mars civilization,sword and planet,19th century,3d</td>\n",
       "      <td>John Carter is a war-weary, former military captain who's inexplicably transported to the mysterious and exotic planet of Barsoom (Mars) and reluctantly becomes embroiled in an epic conflict. It's a world on the brink of collapse, and Carter rediscovers his humanity when he realizes the survival of Barsoom and its people rests in his hands.</td>\n",
       "      <td>43.926995</td>\n",
       "      <td>Walt Disney Pictures</td>\n",
       "      <td>2012-03-07</td>\n",
       "      <td>Lost in our world, found in another.</td>\n",
       "      <td>John Carter</td>\n",
       "      <td>6.1</td>\n",
       "      <td>2124</td>\n",
       "      <td>3</td>\n",
       "      <td>Taylor Kitsch,Lynn Collins,Samantha Morton,Willem Dafoe,Thomas Haden Church,Mark Strong,Dominic West,James Purefoy,Bryan Cranston,Polly Walker,Daryl Sabara,Arkie Reece,Davood Ghadami,Pippa Nixon,James Embree,Philip Philmar,Emily Tierney,Edmund Kente,Nicholas Woodeson,Kyle Agnew,Don Stark,Josh Daugherty,Jared Cyr,Christopher Goodman,Amanda Clayton,Joseph Billingiere</td>\n",
       "      <td>Colin Wilson,Jim Morris,Lindsey Collins</td>\n",
       "      <td>Andrew Stanton</td>\n",
       "    </tr>\n",
       "  </tbody>\n",
       "</table>\n",
       "</div>"
      ],
      "text/plain": [
       "                                     genres      id                                                                                                                                                                                                                            keywords  \\\n",
       "0  Action,Adventure,Fantasy,Science Fiction  19995   culture clash,future,space war,space colony,society,space travel,futuristic,romance,space,alien,tribe,alien planet,cgi,marine,soldier,battle,love affair,anti war,power relations,mind and soul,3d                                   \n",
       "1  Adventure,Fantasy,Action                  285     ocean,drug abuse,exotic island,east india trading company,love of one's life,traitor,shipwreck,strong woman,ship,alliance,calypso,afterlife,fighter,pirate,swashbuckler,aftercreditsstinger                                          \n",
       "2  Action,Adventure,Crime                    206647  spy,based on novel,secret agent,sequel,mi6,british secret service,united kingdom                                                                                                                                                     \n",
       "3  Action,Crime,Drama,Thriller               49026   dc comics,crime fighter,terrorist,secret identity,burglar,hostage drama,time bomb,gotham city,vigilante,cover-up,superhero,villainess,tragic hero,terrorism,destruction,catwoman,cat burglar,imax,flood,criminal underworld,batman   \n",
       "4  Action,Adventure,Science Fiction          49529   based on novel,mars,medallion,space travel,princess,alien,steampunk,martian,escape,edgar rice burroughs,alien race,superhuman strength,mars civilization,sword and planet,19th century,3d                                            \n",
       "\n",
       "                                                                                                                                                                                                                                                                                                                                                                                                                                       overview  popularity  \\\n",
       "0  In the 22nd century, a paraplegic Marine is dispatched to the moon Pandora on a unique mission, but becomes torn between following orders and protecting an alien civilization.                                                                                                                                                                                                                                                               150.437577   \n",
       "1  Captain Barbossa, long believed to be dead, has come back to life and is headed to the edge of the Earth with Will Turner and Elizabeth Swann. But nothing is quite as it seems.                                                                                                                                                                                                                                                              139.082615   \n",
       "2  A cryptic message from BondÃÂ¢ÃÂÃÂs past sends him on a trail to uncover a sinister organization. While M battles political forces to keep the secret service alive, Bond peels back the layers of deceit to reveal the terrible truth behind SPECTRE.                                                                                                                                                                                   107.376788   \n",
       "3  Following the death of District Attorney Harvey Dent, Batman assumes responsibility for Dent's crimes to protect the late attorney's reputation and is subsequently hunted by the Gotham City Police Department. Eight years later, Batman encounters the mysterious Selina Kyle and the villainous Bane, a new terrorist leader who overwhelms Gotham's finest. The Dark Knight resurfaces to protect a city that has branded him an enemy.  112.312950   \n",
       "4  John Carter is a war-weary, former military captain who's inexplicably transported to the mysterious and exotic planet of Barsoom (Mars) and reluctantly becomes embroiled in an epic conflict. It's a world on the brink of collapse, and Carter rediscovers his humanity when he realizes the survival of Barsoom and its people rests in his hands.                                                                                        43.926995    \n",
       "\n",
       "                                                                                         production_companies release_date                                         tagline                                     title  vote_average  vote_count  release_month  \\\n",
       "0  Ingenious Film Partners,Twentieth Century Fox Film Corporation,Dune Entertainment,Lightstorm Entertainment  2009-12-10   Enter the World of Pandora.                     Avatar                                    7.2           11800       12              \n",
       "1  Walt Disney Pictures,Jerry Bruckheimer Films,Second Mate Productions                                        2007-05-19   At the end of the world, the adventure begins.  Pirates of the Caribbean: At World's End  6.9           4500        5               \n",
       "2  Columbia Pictures,Danjaq,B24                                                                                2015-10-26   A Plan No One Escapes                           Spectre                                   6.3           4466        10              \n",
       "3  Legendary Pictures,Warner Bros.,DC Entertainment,Syncopy                                                    2012-07-16   The Legend Ends                                 The Dark Knight Rises                     7.6           9106        7               \n",
       "4  Walt Disney Pictures                                                                                        2012-03-07   Lost in our world, found in another.            John Carter                               6.1           2124        3               \n",
       "\n",
       "                                                                                                                                                                                                                                                                                                                                                                                                                                                                                                                                                                                                                                                                                                                                                                                                                                                                                                                                                                                                                                                                                                                                                                                                                                                                                                                                                                                                                                                                                                                                                                                                                                                                                                                                                                                                                                                                                                                                                                                                                                                                                                                                                                                                                                                                              cast_name  \\\n",
       "0  Sam Worthington,Zoe Saldana,Sigourney Weaver,Stephen Lang,Michelle Rodriguez,Giovanni Ribisi,Joel David Moore,CCH Pounder,Wes Studi,Laz Alonso,Dileep Rao,Matt Gerald,Sean Anthony Moran,Jason Whyte,Scott Lawrence,Kelly Kilgour,James Patrick Pitt,Sean Patrick Murphy,Peter Dillon,Kevin Dorman,Kelson Henderson,David Van Horn,Jacob Tomuri,Jon Curry,Luke Hawker,Woody Schultz,Peter Mensah,Sonia Yee,Jahnel Curfman,Ilram Choi,Kyla Warren,Lisa Roumain,Debra Wilson,Chris Mala,Taylor Kibby,Jodie Landau,Julie Lamm,Cullen B. Madden,Joseph Brady Madden,Frankie Torres,Austin Wilson,Sara Wilson,Lucy Briant,Nathan Meister,Gerry Blair,Matthew Chamberlain,Paul Yates,Wray Wilson,James Gaylyn,Melvin Leno Clark III,Carvon Futrell,Brandon Jelkes,Micah Moch,Hanniyah Muhammad,Christopher Nolen,Christa Oliver,April Marie Thomas,Bravita A. Threatt,Colin Bleasdale,Mike Bodnar,Matt Clayton,Nicole Dionne,Jamie Harrison,Allan Henry,Anthony Ingruber,Ashley Jeffery,Dean Knowsley,Terry Notary,Kai Pantano,Logan Pithyou,Stuart Pollock,Raja,Gareth Ruck,Rhian Sheehan,T. J. Storm,Jodie Taylor,Richard Whiteside,Nikie Zambo,Julene Renee                                                                                                                                                                                                                                                                                                                                                                                                                                                                                                                                                                                                                                                                                                                                                                                                                                                                                                                                                                                                                                                                                                                               \n",
       "1  Johnny Depp,Orlando Bloom,Keira Knightley,Bill Nighy,Geoffrey Rush,Jack Davenport,Kevin McNally,Tom Hollander,Naomie Harris,Jonathan Pryce,Keith Richards,Lee Arenberg,Mackenzie Crook,Greg Ellis,David Bailie,Martin Klebba,David Schofield,Lauren Maher,Vanessa Branch,Angus Barnett,Giles New,Reggie Lee,Dominic Scott Kay,Takayo Fischer,David Meunier,Andy Beckwith,Peter Donald Badalamenti II,Christopher S. Capp,Keith Richards,Ghassan Massoud                                                                                                                                                                                                                                                                                                                                                                                                                                                                                                                                                                                                                                                                                                                                                                                                                                                                                                                                                                                                                                                                                                                                                                                                                                                                                                                                                                                                                                                                                                                                                                                                                                                                                                                                                                                                                                \n",
       "2  Daniel Craig,Christoph Waltz,Ralph Fiennes,Monica Bellucci,Ben Whishaw,Naomie Harris,Dave Bautista,Andrew Scott,Rory Kinnear,Jesper Christensen,Alessandro Cremona,Stephanie Sigman,Tenoch Huerta,Adriana Paz,Domenico Fortunato,Marco Zingaro,Stefano Elfi DiClaudia,Ian Bonar,Tam Williams,Richard Banham,Pip Carter,Simon Lenagan,Alessandro Bressanello,Marc Zinga,Brigitte Millar,Adel Bencherif,Gediminas Adomaitis,Peppe Lanzetta,Francesco Arca,Matteo Taranto,Emilio Aniba,Benito Sagredo,Dai Tabuchi,George Lasha,Sargon Yelda,Andy Cheung,Erick Hayden,Oleg Mirochnikov,Antonio Salines,Miloud Mourad Benamara,Gido Schimanski,Nigel Barber,Patrice Naiambana,Stephane Cornicard,Gary Fannin,Sadao Ueda,Phillip Law,Wai Wong,Joseph Balderrama,Eiji Mihara,Junichi Kajioka,Harald Windisch,Tristan Matthiae,Detlef Bothe,Bodo Friesecke,Wilhem Iben,Noemi Krausz,Noah Saavedra,Francis Attakpah,Michael Glantschnig,Marlon Boess,Marie Wohlmuth,Lili Epply,Konstantin Gerlach,Lara Parmiani,Umit Ulgen,Amra Mallassi,Ziad Abaza,Walid Mumuni,Derek Horsham,Michael White,Adam McGrady,Nader Dernaika,Pezhmaan Alinia,Judi Dench,Neve Gachev,Karl Farrer,Kim Adis,Maurisa Selene Coleman                                                                                                                                                                                                                                                                                                                                                                                                                                                                                                                                                                                                                                                                                                                                                                                                                                                                                                                                                                                                                                                                                     \n",
       "3  Christian Bale,Michael Caine,Gary Oldman,Anne Hathaway,Tom Hardy,Marion Cotillard,Morgan Freeman,Cillian Murphy,Juno Temple,Liam Neeson,Matthew Modine,Alon Aboutboul,Ben Mendelsohn,Nestor Carbonell,Josh Pence,Tom Conti,Joey King,Warren Brown,Daniel Sunjata,Sam Kennard,Aliash Tepina,Nick Julian,Miranda Nolan,Claire Julien,Aidan Gillen,Burn Gorman,Brett Cullen,Reggie Lee,Joseph Lyle Taylor,Chris Ellis,Duane Henry,James Harvey Ward,Gonzalo Menendez,Cameron Jack,Lex Daniel,Tyler Dean Flores,Thomas Lennon,Trevor White,Rob Brown,Fredric Lehne,Courtney Munch,Chris Hill,Travis Guba,Jay Benedict,Will Estes,David Dayan Fisher,Glen Powell,Russ Fega,Brent Briscoe,John Nolan,Oliver Cotton,Mark Killeen,Sarah Goldberg,John MacMillan,Robert Wisdom,Ronnie Gene Blevins,John Hollingworth,Ian Bohen,Uri Gavriel,Noel Gugliemi,Hector Atreyu Ruiz,Patrick Cox,Aramis Knight,Josh Stewart,William Devane,David Gyasi,Patrick Jordan,Joshua Elijah Reese,Desmond Harrington,Mychael Bates,Tomas Arana,Peter Holden,David Monahan,Jillian Armenante,Aja Evans,Aldous Davidson,Wade Williams,Jake Canuso,Massi Furlan,Christopher Judge,Patrick Leahy,Todd Gearhart,Marc Abbink,Isiah Adams,Charlie Alejandro,Robert Arensen,Grant Babbitt,Fileena Bahris,Rick Bolander,Kyle Patrick Brennan,Scott Churchson,Bill Cowher,Graham Curry,Stephanie Domini Ehlert,John Farrer,Frank Fata,Christopher Bryan Gomez,Vito Grassi,Michael Wren Gucciardo,Sam Harris,Ed Heavey,John W. Iwanonkiw,Cindy Jackson,Daniel Jordano,William Kania,Tiffany Kemp,Sun Jae Kim,Hrvoje Klecz,Alex Kruz,Tyler La Marr,LeJon,Paul Jude Letersky,Joe Lipari,Silvia Lombardo,Jorge Mardel,Cale McConnell,David Dale McCue,Tiffany Sander McKenzie,Allen Merritt,Olan Montgomery,Alex Moore,Shane Nolan,Jackson Nunn,Michael Papajohn,Salomon Passariello,Kyle David Pierce,Troy Polamalu,Michael Power,James Rawlings,Kirsten Roeters,Ben Roethlisberger,Mark Roman,Anthony J. Sacco,Eric Salazar,Emily Schooley,Thomas Tull,Chris Vaina,Vincent van Ommen,Michelle Vezzani,Barbara Vincent,Justin Michael Woods,Jason Yee,Maria Zambrana,John Zion,Alex Ziwak,Tommy Bayiokos,Matthew Gooley,Jeff Moffitt,Mark Falvo,Diogo Hausen,Gary Sievers,Orion McCabe,London May,James Quinn,Daniel Newman   \n",
       "4  Taylor Kitsch,Lynn Collins,Samantha Morton,Willem Dafoe,Thomas Haden Church,Mark Strong,Dominic West,James Purefoy,Bryan Cranston,Polly Walker,Daryl Sabara,Arkie Reece,Davood Ghadami,Pippa Nixon,James Embree,Philip Philmar,Emily Tierney,Edmund Kente,Nicholas Woodeson,Kyle Agnew,Don Stark,Josh Daugherty,Jared Cyr,Christopher Goodman,Amanda Clayton,Joseph Billingiere                                                                                                                                                                                                                                                                                                                                                                                                                                                                                                                                                                                                                                                                                                                                                                                                                                                                                                                                                                                                                                                                                                                                                                                                                                                                                                                                                                                                                                                                                                                                                                                                                                                                                                                                                                                                                                                                                                        \n",
       "\n",
       "                                                          producer           director  \n",
       "0  James Cameron,Jon Landau                                         James Cameron      \n",
       "1  Jerry Bruckheimer,Eric McLeod,Chad Oman,Peter Kohn,Pat Sandston  Gore Verbinski     \n",
       "2  Barbara Broccoli,Michael G. Wilson                               Sam Mendes         \n",
       "3  Charles Roven,Christopher Nolan,Emma Thomas                      Christopher Nolan  \n",
       "4  Colin Wilson,Jim Morris,Lindsey Collins                          Andrew Stanton     "
      ]
     },
     "execution_count": 5,
     "metadata": {},
     "output_type": "execute_result"
    }
   ],
   "source": [
    "movie_df.head()"
   ]
  },
  {
   "cell_type": "markdown",
   "metadata": {
    "heading_collapsed": true
   },
   "source": [
    "## Get only 3 actor's name"
   ]
  },
  {
   "cell_type": "code",
   "execution_count": 6,
   "metadata": {
    "ExecuteTime": {
     "end_time": "2019-11-18T04:19:13.921013Z",
     "start_time": "2019-11-18T04:19:13.829260Z"
    },
    "hidden": true
   },
   "outputs": [],
   "source": [
    "#Fill all NaN with empty string\n",
    "movie_df.fillna('', inplace=True)"
   ]
  },
  {
   "cell_type": "code",
   "execution_count": 7,
   "metadata": {
    "ExecuteTime": {
     "end_time": "2019-11-18T04:19:14.025764Z",
     "start_time": "2019-11-18T04:19:13.923008Z"
    },
    "hidden": true
   },
   "outputs": [],
   "source": [
    "movie_df['cast_name'] = movie_df['cast_name'].apply(lambda x: str(x.split(',')[:3])[1:-1] if len(x.split(',')) > 3 else str(x))"
   ]
  },
  {
   "cell_type": "markdown",
   "metadata": {
    "heading_collapsed": true
   },
   "source": [
    "## Recommendation base on Weighted Rating"
   ]
  },
  {
   "cell_type": "markdown",
   "metadata": {
    "hidden": true
   },
   "source": [
    "I use the TMDB Ratings to come up with our Top Movies Chart. I will use IMDB's weighted rating formula to construct my chart. Mathematically, it is represented as follows:\n",
    "\n",
    "![](https://image.ibb.co/jYWZp9/wr.png)\n",
    "\n",
    "v is the number of votes for the movie <br>\n",
    "m is the minimum votes required to be listed in the chart<br>\n",
    "R is the average rating of the movie<br>\n",
    "C is the mean vote across the whole report<br>"
   ]
  },
  {
   "cell_type": "code",
   "execution_count": 8,
   "metadata": {
    "ExecuteTime": {
     "end_time": "2019-11-18T04:19:14.111530Z",
     "start_time": "2019-11-18T04:19:14.028728Z"
    },
    "hidden": true
   },
   "outputs": [
    {
     "data": {
      "text/plain": [
       "(481, 15)"
      ]
     },
     "execution_count": 8,
     "metadata": {},
     "output_type": "execute_result"
    }
   ],
   "source": [
    "C= movie_df['vote_average'].mean()\n",
    "\n",
    "#minimum vote required, only 10% of the highest vote_count \n",
    "m= movie_df['vote_count'].quantile(0.9)\n",
    "\n",
    "#get 10% of top vote_count movies\n",
    "q_movies = movie_df.copy().loc[movie_df['vote_count'] >= m]\n",
    "q_movies.shape"
   ]
  },
  {
   "cell_type": "code",
   "execution_count": 9,
   "metadata": {
    "ExecuteTime": {
     "end_time": "2019-11-18T04:19:14.226209Z",
     "start_time": "2019-11-18T04:19:14.114504Z"
    },
    "hidden": true
   },
   "outputs": [],
   "source": [
    "#function for count weight rating\n",
    "def weighted_rating(x, m=m, C=C):\n",
    "    v = x['vote_count']\n",
    "    R = x['vote_average']\n",
    "    # Calculation based on the IMDB formula\n",
    "    return (v/(v+m) * R) + (m/(m+v) * C)"
   ]
  },
  {
   "cell_type": "code",
   "execution_count": 10,
   "metadata": {
    "ExecuteTime": {
     "end_time": "2019-11-18T04:19:14.362832Z",
     "start_time": "2019-11-18T04:19:14.228192Z"
    },
    "hidden": true
   },
   "outputs": [],
   "source": [
    "#insert weight rating into new columns ['score']\n",
    "q_movies['score'] = q_movies.apply(weighted_rating, axis=1)\n",
    "\n",
    "#sort movies base on weigth rating\n",
    "q_movies = q_movies.sort_values('score', ascending=False)"
   ]
  },
  {
   "cell_type": "code",
   "execution_count": 11,
   "metadata": {
    "ExecuteTime": {
     "end_time": "2019-11-18T04:19:14.467551Z",
     "start_time": "2019-11-18T04:19:14.364827Z"
    },
    "hidden": true
   },
   "outputs": [
    {
     "data": {
      "text/html": [
       "<div>\n",
       "<style scoped>\n",
       "    .dataframe tbody tr th:only-of-type {\n",
       "        vertical-align: middle;\n",
       "    }\n",
       "\n",
       "    .dataframe tbody tr th {\n",
       "        vertical-align: top;\n",
       "    }\n",
       "\n",
       "    .dataframe thead th {\n",
       "        text-align: right;\n",
       "    }\n",
       "</style>\n",
       "<table border=\"1\" class=\"dataframe\">\n",
       "  <thead>\n",
       "    <tr style=\"text-align: right;\">\n",
       "      <th></th>\n",
       "      <th>id</th>\n",
       "      <th>title</th>\n",
       "      <th>genres</th>\n",
       "      <th>production_companies</th>\n",
       "      <th>popularity</th>\n",
       "      <th>vote_average</th>\n",
       "      <th>vote_count</th>\n",
       "      <th>cast_name</th>\n",
       "      <th>producer</th>\n",
       "      <th>director</th>\n",
       "      <th>release_date</th>\n",
       "    </tr>\n",
       "  </thead>\n",
       "  <tbody>\n",
       "    <tr>\n",
       "      <th>1881</th>\n",
       "      <td>278</td>\n",
       "      <td>The Shawshank Redemption</td>\n",
       "      <td>Drama,Crime</td>\n",
       "      <td>Castle Rock Entertainment</td>\n",
       "      <td>136.747729</td>\n",
       "      <td>8.5</td>\n",
       "      <td>8205</td>\n",
       "      <td>'Tim Robbins', 'Morgan Freeman', 'Bob Gunton'</td>\n",
       "      <td>Niki Marvin</td>\n",
       "      <td>Frank Darabont</td>\n",
       "      <td>1994-09-23</td>\n",
       "    </tr>\n",
       "    <tr>\n",
       "      <th>662</th>\n",
       "      <td>550</td>\n",
       "      <td>Fight Club</td>\n",
       "      <td>Drama</td>\n",
       "      <td>Regency Enterprises,Fox 2000 Pictures,Taurus Film,Linson Films,Atman Entertainment,Knickerbocker Films</td>\n",
       "      <td>146.757391</td>\n",
       "      <td>8.3</td>\n",
       "      <td>9413</td>\n",
       "      <td>'Edward Norton', 'Brad Pitt', 'Meat Loaf'</td>\n",
       "      <td>Art Linson,Ross Grayson Bell</td>\n",
       "      <td>David Fincher</td>\n",
       "      <td>1999-10-15</td>\n",
       "    </tr>\n",
       "    <tr>\n",
       "      <th>65</th>\n",
       "      <td>155</td>\n",
       "      <td>The Dark Knight</td>\n",
       "      <td>Drama,Action,Crime,Thriller</td>\n",
       "      <td>DC Comics,Legendary Pictures,Warner Bros.,DC Entertainment,Syncopy</td>\n",
       "      <td>187.322927</td>\n",
       "      <td>8.2</td>\n",
       "      <td>12002</td>\n",
       "      <td>'Christian Bale', 'Heath Ledger', 'Aaron Eckhart'</td>\n",
       "      <td>Charles Roven,Christopher Nolan,Emma Thomas,Lorne Orleans</td>\n",
       "      <td>Christopher Nolan</td>\n",
       "      <td>2008-07-16</td>\n",
       "    </tr>\n",
       "    <tr>\n",
       "      <th>3232</th>\n",
       "      <td>680</td>\n",
       "      <td>Pulp Fiction</td>\n",
       "      <td>Thriller,Crime</td>\n",
       "      <td>Miramax Films,A Band Apart,Jersey Films</td>\n",
       "      <td>121.463076</td>\n",
       "      <td>8.3</td>\n",
       "      <td>8428</td>\n",
       "      <td>'John Travolta', 'Samuel L. Jackson', 'Uma Thurman'</td>\n",
       "      <td>Lawrence Bender</td>\n",
       "      <td>Quentin Tarantino</td>\n",
       "      <td>1994-10-08</td>\n",
       "    </tr>\n",
       "    <tr>\n",
       "      <th>96</th>\n",
       "      <td>27205</td>\n",
       "      <td>Inception</td>\n",
       "      <td>Action,Thriller,Science Fiction,Mystery,Adventure</td>\n",
       "      <td>Legendary Pictures,Warner Bros.,Syncopy</td>\n",
       "      <td>167.583710</td>\n",
       "      <td>8.1</td>\n",
       "      <td>13752</td>\n",
       "      <td>'Leonardo DiCaprio', 'Ellen Page', 'Tom Hardy'</td>\n",
       "      <td>Christopher Nolan,Emma Thomas</td>\n",
       "      <td>Christopher Nolan</td>\n",
       "      <td>2010-07-14</td>\n",
       "    </tr>\n",
       "    <tr>\n",
       "      <th>3337</th>\n",
       "      <td>238</td>\n",
       "      <td>The Godfather</td>\n",
       "      <td>Drama,Crime</td>\n",
       "      <td>Paramount Pictures,Alfran Productions</td>\n",
       "      <td>143.659698</td>\n",
       "      <td>8.4</td>\n",
       "      <td>5893</td>\n",
       "      <td>'Marlon Brando', 'Al Pacino', 'James Caan'</td>\n",
       "      <td>Albert S. Ruddy</td>\n",
       "      <td>Francis Ford Coppola</td>\n",
       "      <td>1972-03-14</td>\n",
       "    </tr>\n",
       "    <tr>\n",
       "      <th>95</th>\n",
       "      <td>157336</td>\n",
       "      <td>Interstellar</td>\n",
       "      <td>Adventure,Drama,Science Fiction</td>\n",
       "      <td>Paramount Pictures,Legendary Pictures,Warner Bros.,Syncopy,Lynda Obst Productions</td>\n",
       "      <td>724.247784</td>\n",
       "      <td>8.1</td>\n",
       "      <td>10867</td>\n",
       "      <td>'Matthew McConaughey', 'Jessica Chastain', 'Anne Hathaway'</td>\n",
       "      <td>Christopher Nolan,Emma Thomas,Lynda Obst</td>\n",
       "      <td>Christopher Nolan</td>\n",
       "      <td>2014-11-05</td>\n",
       "    </tr>\n",
       "    <tr>\n",
       "      <th>809</th>\n",
       "      <td>13</td>\n",
       "      <td>Forrest Gump</td>\n",
       "      <td>Comedy,Drama,Romance</td>\n",
       "      <td>Paramount Pictures</td>\n",
       "      <td>138.133331</td>\n",
       "      <td>8.2</td>\n",
       "      <td>7927</td>\n",
       "      <td>'Tom Hanks', 'Robin Wright', 'Gary Sinise'</td>\n",
       "      <td>Wendy Finerman,Steve Tisch,Steve Starkey</td>\n",
       "      <td>Robert Zemeckis</td>\n",
       "      <td>1994-07-06</td>\n",
       "    </tr>\n",
       "    <tr>\n",
       "      <th>329</th>\n",
       "      <td>122</td>\n",
       "      <td>The Lord of the Rings: The Return of the King</td>\n",
       "      <td>Adventure,Fantasy,Action</td>\n",
       "      <td>WingNut Films,New Line Cinema</td>\n",
       "      <td>123.630332</td>\n",
       "      <td>8.1</td>\n",
       "      <td>8064</td>\n",
       "      <td>'Elijah Wood', 'Ian McKellen', 'Viggo Mortensen'</td>\n",
       "      <td>Barrie M. Osborne,Peter Jackson</td>\n",
       "      <td>Peter Jackson</td>\n",
       "      <td>2003-12-01</td>\n",
       "    </tr>\n",
       "    <tr>\n",
       "      <th>1990</th>\n",
       "      <td>1891</td>\n",
       "      <td>The Empire Strikes Back</td>\n",
       "      <td>Adventure,Action,Science Fiction</td>\n",
       "      <td>Lucasfilm,Twentieth Century Fox Film Corporation</td>\n",
       "      <td>78.517830</td>\n",
       "      <td>8.2</td>\n",
       "      <td>5879</td>\n",
       "      <td>'Mark Hamill', 'Harrison Ford', 'Carrie Fisher'</td>\n",
       "      <td>Gary Kurtz,Howard G. Kazanjian</td>\n",
       "      <td>Irvin Kershner</td>\n",
       "      <td>1980-05-17</td>\n",
       "    </tr>\n",
       "  </tbody>\n",
       "</table>\n",
       "</div>"
      ],
      "text/plain": [
       "          id                                          title                                             genres                                                                                    production_companies  popularity  vote_average  vote_count                                                   cast_name                                                   producer              director release_date\n",
       "1881  278     The Shawshank Redemption                       Drama,Crime                                        Castle Rock Entertainment                                                                               136.747729  8.5           8205        'Tim Robbins', 'Morgan Freeman', 'Bob Gunton'               Niki Marvin                                                Frank Darabont        1994-09-23 \n",
       "662   550     Fight Club                                     Drama                                              Regency Enterprises,Fox 2000 Pictures,Taurus Film,Linson Films,Atman Entertainment,Knickerbocker Films  146.757391  8.3           9413        'Edward Norton', 'Brad Pitt', 'Meat Loaf'                   Art Linson,Ross Grayson Bell                               David Fincher         1999-10-15 \n",
       "65    155     The Dark Knight                                Drama,Action,Crime,Thriller                        DC Comics,Legendary Pictures,Warner Bros.,DC Entertainment,Syncopy                                      187.322927  8.2           12002       'Christian Bale', 'Heath Ledger', 'Aaron Eckhart'           Charles Roven,Christopher Nolan,Emma Thomas,Lorne Orleans  Christopher Nolan     2008-07-16 \n",
       "3232  680     Pulp Fiction                                   Thriller,Crime                                     Miramax Films,A Band Apart,Jersey Films                                                                 121.463076  8.3           8428        'John Travolta', 'Samuel L. Jackson', 'Uma Thurman'         Lawrence Bender                                            Quentin Tarantino     1994-10-08 \n",
       "96    27205   Inception                                      Action,Thriller,Science Fiction,Mystery,Adventure  Legendary Pictures,Warner Bros.,Syncopy                                                                 167.583710  8.1           13752       'Leonardo DiCaprio', 'Ellen Page', 'Tom Hardy'              Christopher Nolan,Emma Thomas                              Christopher Nolan     2010-07-14 \n",
       "3337  238     The Godfather                                  Drama,Crime                                        Paramount Pictures,Alfran Productions                                                                   143.659698  8.4           5893        'Marlon Brando', 'Al Pacino', 'James Caan'                  Albert S. Ruddy                                            Francis Ford Coppola  1972-03-14 \n",
       "95    157336  Interstellar                                   Adventure,Drama,Science Fiction                    Paramount Pictures,Legendary Pictures,Warner Bros.,Syncopy,Lynda Obst Productions                       724.247784  8.1           10867       'Matthew McConaughey', 'Jessica Chastain', 'Anne Hathaway'  Christopher Nolan,Emma Thomas,Lynda Obst                   Christopher Nolan     2014-11-05 \n",
       "809   13      Forrest Gump                                   Comedy,Drama,Romance                               Paramount Pictures                                                                                      138.133331  8.2           7927        'Tom Hanks', 'Robin Wright', 'Gary Sinise'                  Wendy Finerman,Steve Tisch,Steve Starkey                   Robert Zemeckis       1994-07-06 \n",
       "329   122     The Lord of the Rings: The Return of the King  Adventure,Fantasy,Action                           WingNut Films,New Line Cinema                                                                           123.630332  8.1           8064        'Elijah Wood', 'Ian McKellen', 'Viggo Mortensen'            Barrie M. Osborne,Peter Jackson                            Peter Jackson         2003-12-01 \n",
       "1990  1891    The Empire Strikes Back                        Adventure,Action,Science Fiction                   Lucasfilm,Twentieth Century Fox Film Corporation                                                        78.517830   8.2           5879        'Mark Hamill', 'Harrison Ford', 'Carrie Fisher'             Gary Kurtz,Howard G. Kazanjian                             Irvin Kershner        1980-05-17 "
      ]
     },
     "execution_count": 11,
     "metadata": {},
     "output_type": "execute_result"
    }
   ],
   "source": [
    "#get top 10 weigthed rating\n",
    "q_movies.head(10)[['id','title','genres','production_companies','popularity','vote_average','vote_count','cast_name','producer','director','release_date',]]"
   ]
  },
  {
   "cell_type": "markdown",
   "metadata": {
    "heading_collapsed": true
   },
   "source": [
    "## Recomendation base on Overview"
   ]
  },
  {
   "cell_type": "code",
   "execution_count": 12,
   "metadata": {
    "ExecuteTime": {
     "end_time": "2019-11-18T04:19:17.391278Z",
     "start_time": "2019-11-18T04:19:14.469546Z"
    },
    "hidden": true
   },
   "outputs": [],
   "source": [
    "#Import TfIdfVectorizer from scikit-learn\n",
    "from sklearn.feature_extraction.text import TfidfVectorizer\n",
    "# Import linear_kernel\n",
    "from sklearn.metrics.pairwise import linear_kernel\n",
    "\n",
    "def create_cosine_sim(df, col):\n",
    "    #Define a TF-IDF Vectorizer Object. Remove all english stop words such as 'the', 'a'\n",
    "    tfidf = TfidfVectorizer(stop_words='english')\n",
    "\n",
    "    #Construct the required TF-IDF matrix by fitting and transforming the data\n",
    "    tfidf_matrix = tfidf.fit_transform(df[col])\n",
    "    \n",
    "    # Compute the cosine similarity matrix\n",
    "    cosine_sim = linear_kernel(tfidf_matrix, tfidf_matrix)\n",
    "    \n",
    "    return cosine_sim"
   ]
  },
  {
   "cell_type": "code",
   "execution_count": 13,
   "metadata": {
    "ExecuteTime": {
     "end_time": "2019-11-18T04:19:17.402247Z",
     "start_time": "2019-11-18T04:19:17.395255Z"
    },
    "hidden": true
   },
   "outputs": [],
   "source": [
    "def get_recommendations(df, title, cosine_sim):\n",
    "    # Get the index of the movie that matches the title\n",
    "    idx = indices[title]\n",
    "\n",
    "    # Get the pairwsie similarity scores of all movies with that movie (pair of the index and the similarity scores)\n",
    "    # by taking 1 row that represent the movie in cosine_sim matrix\n",
    "    sim_scores = list(enumerate(cosine_sim[idx]))\n",
    "\n",
    "    # Sort the similarity scores, so we can get the most similar movie with the title that was given\n",
    "    sim_scores = sorted(sim_scores, key=lambda x: x[1], reverse=True)\n",
    "\n",
    "    # Get the scores of the 10 most similar movies, exclude index 0 because it is the title that was given\n",
    "    sim_scores = sim_scores[1:11]\n",
    "\n",
    "    # Get the movie indices\n",
    "    movie_indices = [i[0] for i in sim_scores]\n",
    "\n",
    "    # Return the top 10 most similar movies\n",
    "    return df['title'].iloc[movie_indices]"
   ]
  },
  {
   "cell_type": "code",
   "execution_count": 14,
   "metadata": {
    "ExecuteTime": {
     "end_time": "2019-11-18T04:19:18.047519Z",
     "start_time": "2019-11-18T04:19:17.405229Z"
    },
    "hidden": true
   },
   "outputs": [
    {
     "data": {
      "text/plain": [
       "(4803, 4803)"
      ]
     },
     "execution_count": 14,
     "metadata": {},
     "output_type": "execute_result"
    }
   ],
   "source": [
    "cosine_sim = create_cosine_sim(movie_df, 'overview')\n",
    "cosine_sim.shape"
   ]
  },
  {
   "cell_type": "code",
   "execution_count": 15,
   "metadata": {
    "ExecuteTime": {
     "end_time": "2019-11-18T04:19:18.057510Z",
     "start_time": "2019-11-18T04:19:18.050502Z"
    },
    "hidden": true
   },
   "outputs": [],
   "source": [
    "#Construct a reverse map of indices and movie titles, so we can get the index base on movie's title\n",
    "indices = pd.Series(movie_df.index, index=movie_df['title']).drop_duplicates()"
   ]
  },
  {
   "cell_type": "code",
   "execution_count": 16,
   "metadata": {
    "ExecuteTime": {
     "end_time": "2019-11-18T04:19:18.178191Z",
     "start_time": "2019-11-18T04:19:18.060476Z"
    },
    "hidden": true
   },
   "outputs": [
    {
     "data": {
      "text/plain": [
       "65      The Dark Knight                        \n",
       "299     Batman Forever                         \n",
       "428     Batman Returns                         \n",
       "1359    Batman                                 \n",
       "3854    Batman: The Dark Knight Returns, Part 2\n",
       "119     Batman Begins                          \n",
       "2507    Slow Burn                              \n",
       "1181    JFK                                    \n",
       "210     Batman & Robin                         \n",
       "9       Batman v Superman: Dawn of Justice     \n",
       "Name: title, dtype: object"
      ]
     },
     "execution_count": 16,
     "metadata": {},
     "output_type": "execute_result"
    }
   ],
   "source": [
    "get_recommendations(movie_df, 'The Dark Knight Rises', cosine_sim)"
   ]
  },
  {
   "cell_type": "code",
   "execution_count": 17,
   "metadata": {
    "ExecuteTime": {
     "end_time": "2019-11-18T04:19:18.261964Z",
     "start_time": "2019-11-18T04:19:18.180154Z"
    },
    "hidden": true
   },
   "outputs": [
    {
     "data": {
      "text/plain": [
       "330     The Lord of the Rings: The Two Towers            \n",
       "262     The Lord of the Rings: The Fellowship of the Ring\n",
       "111     Transformers                                     \n",
       "22      The Hobbit: The Desolation of Smaug              \n",
       "3733    Night Watch                                      \n",
       "3622    Once Upon a Time in the West                     \n",
       "4400    Sparkler                                         \n",
       "50      Prince of Persia: The Sands of Time              \n",
       "2027    I Am Sam                                         \n",
       "3560    Ouija                                            \n",
       "Name: title, dtype: object"
      ]
     },
     "execution_count": 17,
     "metadata": {},
     "output_type": "execute_result"
    }
   ],
   "source": [
    "get_recommendations(movie_df, 'The Lord of the Rings: The Return of the King', cosine_sim)"
   ]
  },
  {
   "cell_type": "code",
   "execution_count": 18,
   "metadata": {
    "ExecuteTime": {
     "end_time": "2019-11-18T04:19:18.346710Z",
     "start_time": "2019-11-18T04:19:18.264930Z"
    },
    "hidden": true
   },
   "outputs": [
    {
     "data": {
      "text/plain": [
       "3619    UHF                  \n",
       "2828    Project X            \n",
       "2585    The Hurt Locker      \n",
       "2344    Raging Bull          \n",
       "2023    The Animal           \n",
       "1414    Blast from the Past  \n",
       "4044    Go for It!           \n",
       "3515    Freaky Deaky         \n",
       "4045    Dancer, Texas Pop. 81\n",
       "4760    This Is Martin Bonner\n",
       "Name: title, dtype: object"
      ]
     },
     "execution_count": 18,
     "metadata": {},
     "output_type": "execute_result"
    }
   ],
   "source": [
    "get_recommendations(movie_df, 'Fight Club', cosine_sim)"
   ]
  },
  {
   "cell_type": "markdown",
   "metadata": {
    "heading_collapsed": true
   },
   "source": [
    "## Recomendation base on Overview"
   ]
  },
  {
   "cell_type": "code",
   "execution_count": 19,
   "metadata": {
    "ExecuteTime": {
     "end_time": "2019-11-18T04:19:22.830609Z",
     "start_time": "2019-11-18T04:19:18.350699Z"
    },
    "hidden": true
   },
   "outputs": [],
   "source": [
    "from nltk.stem.snowball import SnowballStemmer\n",
    "stemmer = SnowballStemmer('english')"
   ]
  },
  {
   "cell_type": "code",
   "execution_count": 20,
   "metadata": {
    "ExecuteTime": {
     "end_time": "2019-11-18T04:19:22.839565Z",
     "start_time": "2019-11-18T04:19:22.832572Z"
    },
    "code_folding": [
     0
    ],
    "hidden": true
   },
   "outputs": [],
   "source": [
    "#function for make set of unique values of a columns\n",
    "def make_set(df,col):\n",
    "    set_keywords = set()\n",
    "    for keyword in df[col].str.split(',').values:\n",
    "        if isinstance(keyword, float): continue\n",
    "        set_keywords = set_keywords.union(keyword)\n",
    "    return set_keywords\n",
    "\n",
    "#function for make a dictionary from a columns\n",
    "def count_word(df, col):\n",
    "    list_word = make_set(df,col)\n",
    "    #make dict for count words\n",
    "    keyword_count = dict()\n",
    "    \n",
    "    #fill dict key with words set default value to 0\n",
    "    for i in list_word: keyword_count[i] = 0\n",
    "    \n",
    "    #loop all data from column, split all the word, set it as a list\n",
    "    for list_key in df[col].str.split(','):  \n",
    "        #ignore NaN\n",
    "        if type(list_key) == float and pd.isnull(list_key): continue  \n",
    "        #loop all tha data, remove word that's not in our list_word\n",
    "        for key in [s for s in list_key if s in list_word]:\n",
    "            #add 1 count for every word that found\n",
    "            keyword_count[key] += 1\n",
    "            \n",
    "    #return unsorted dict\n",
    "    return keyword_count"
   ]
  },
  {
   "cell_type": "code",
   "execution_count": 21,
   "metadata": {
    "ExecuteTime": {
     "end_time": "2019-11-18T04:19:23.768099Z",
     "start_time": "2019-11-18T04:19:22.841549Z"
    },
    "code_folding": [
     0
    ],
    "hidden": true
   },
   "outputs": [
    {
     "name": "stdout",
     "output_type": "stream",
     "text": [
      "5273 1547 804 2145\n"
     ]
    }
   ],
   "source": [
    "#check keyword that only appears once, twice, three times, and four times\n",
    "sum1 = sum2 = sum3 = sum4 = 0\n",
    "for i in count_word(movie_df,'keywords').values():\n",
    "    if i == 1 : sum1 += 1\n",
    "    elif i == 2 : sum2 += 1\n",
    "    elif i == 3 : sum3 += 1\n",
    "    else: sum4 += 1\n",
    "print(sum1 , sum2 , sum3, sum4)"
   ]
  },
  {
   "cell_type": "code",
   "execution_count": 22,
   "metadata": {
    "ExecuteTime": {
     "end_time": "2019-11-18T04:19:25.291994Z",
     "start_time": "2019-11-18T04:19:23.770066Z"
    },
    "code_folding": [
     0
    ],
    "hidden": true
   },
   "outputs": [],
   "source": [
    "#since there are 5273 keywords that appears once and 1547 that appears twice\n",
    "#to reduce the size of matrix, we will only use key words that appears three times or more\n",
    "keywords_list = []\n",
    "for k,v in zip(count_word(movie_df,'keywords').keys(),count_word(movie_df,'keywords').values()):\n",
    "    if v > 2: keywords_list.append(k)"
   ]
  },
  {
   "cell_type": "code",
   "execution_count": 23,
   "metadata": {
    "ExecuteTime": {
     "end_time": "2019-11-18T04:19:25.301968Z",
     "start_time": "2019-11-18T04:19:25.296995Z"
    },
    "code_folding": [
     0
    ],
    "hidden": true
   },
   "outputs": [],
   "source": [
    "#function to reduce keywords and remove space for keywords that have 2 or more words and replace , with space\n",
    "def filter_keywords(param):\n",
    "    words = []\n",
    "    for i in param.split(','):\n",
    "#         print(i)\n",
    "        if i in keywords_list:\n",
    "            stem_i = stemmer.stem(i)\n",
    "            words.append(i)\n",
    "    return re.sub(r' |\\'|\\[|\\]','',str(words)).lower().replace(',',' ')"
   ]
  },
  {
   "cell_type": "code",
   "execution_count": 24,
   "metadata": {
    "ExecuteTime": {
     "end_time": "2019-11-18T04:19:26.944604Z",
     "start_time": "2019-11-18T04:19:25.305958Z"
    },
    "hidden": true
   },
   "outputs": [],
   "source": [
    "movie_df['keywords'] = movie_df['keywords'].apply(filter_keywords)"
   ]
  },
  {
   "cell_type": "code",
   "execution_count": 25,
   "metadata": {
    "ExecuteTime": {
     "end_time": "2019-11-18T04:19:27.430274Z",
     "start_time": "2019-11-18T04:19:26.946569Z"
    },
    "hidden": true
   },
   "outputs": [
    {
     "data": {
      "text/plain": [
       "(4803, 4803)"
      ]
     },
     "execution_count": 25,
     "metadata": {},
     "output_type": "execute_result"
    }
   ],
   "source": [
    "cosine_sim = create_cosine_sim(movie_df, 'overview')\n",
    "cosine_sim.shape"
   ]
  },
  {
   "cell_type": "code",
   "execution_count": 26,
   "metadata": {
    "ExecuteTime": {
     "end_time": "2019-11-18T04:19:27.443240Z",
     "start_time": "2019-11-18T04:19:27.434265Z"
    },
    "hidden": true
   },
   "outputs": [
    {
     "data": {
      "text/plain": [
       "65      The Dark Knight                        \n",
       "299     Batman Forever                         \n",
       "428     Batman Returns                         \n",
       "1359    Batman                                 \n",
       "3854    Batman: The Dark Knight Returns, Part 2\n",
       "119     Batman Begins                          \n",
       "2507    Slow Burn                              \n",
       "1181    JFK                                    \n",
       "210     Batman & Robin                         \n",
       "9       Batman v Superman: Dawn of Justice     \n",
       "Name: title, dtype: object"
      ]
     },
     "execution_count": 26,
     "metadata": {},
     "output_type": "execute_result"
    }
   ],
   "source": [
    "get_recommendations(movie_df, 'The Dark Knight Rises', cosine_sim)"
   ]
  },
  {
   "cell_type": "code",
   "execution_count": 27,
   "metadata": {
    "ExecuteTime": {
     "end_time": "2019-11-18T04:19:27.593837Z",
     "start_time": "2019-11-18T04:19:27.445237Z"
    },
    "hidden": true
   },
   "outputs": [
    {
     "data": {
      "text/plain": [
       "330     The Lord of the Rings: The Two Towers            \n",
       "262     The Lord of the Rings: The Fellowship of the Ring\n",
       "111     Transformers                                     \n",
       "22      The Hobbit: The Desolation of Smaug              \n",
       "3733    Night Watch                                      \n",
       "3622    Once Upon a Time in the West                     \n",
       "4400    Sparkler                                         \n",
       "50      Prince of Persia: The Sands of Time              \n",
       "2027    I Am Sam                                         \n",
       "3560    Ouija                                            \n",
       "Name: title, dtype: object"
      ]
     },
     "execution_count": 27,
     "metadata": {},
     "output_type": "execute_result"
    }
   ],
   "source": [
    "get_recommendations(movie_df, 'The Lord of the Rings: The Return of the King', cosine_sim)"
   ]
  },
  {
   "cell_type": "code",
   "execution_count": 28,
   "metadata": {
    "ExecuteTime": {
     "end_time": "2019-11-18T04:19:27.660665Z",
     "start_time": "2019-11-18T04:19:27.595832Z"
    },
    "hidden": true
   },
   "outputs": [
    {
     "data": {
      "text/plain": [
       "3619    UHF                  \n",
       "2828    Project X            \n",
       "2585    The Hurt Locker      \n",
       "2344    Raging Bull          \n",
       "2023    The Animal           \n",
       "1414    Blast from the Past  \n",
       "4044    Go for It!           \n",
       "3515    Freaky Deaky         \n",
       "4045    Dancer, Texas Pop. 81\n",
       "4760    This Is Martin Bonner\n",
       "Name: title, dtype: object"
      ]
     },
     "execution_count": 28,
     "metadata": {},
     "output_type": "execute_result"
    }
   ],
   "source": [
    "get_recommendations(movie_df, 'Fight Club', cosine_sim)"
   ]
  },
  {
   "cell_type": "markdown",
   "metadata": {
    "heading_collapsed": true
   },
   "source": [
    "## Recommendation Keywords, Genres, Director, Cast"
   ]
  },
  {
   "cell_type": "code",
   "execution_count": 29,
   "metadata": {
    "ExecuteTime": {
     "end_time": "2019-11-18T04:19:27.761423Z",
     "start_time": "2019-11-18T04:19:27.662653Z"
    },
    "hidden": true
   },
   "outputs": [],
   "source": [
    "movie_df['director'] = movie_df['director'].apply(lambda x: x.replace(',',' ').lower())\n",
    "movie_df['cast_name'] = movie_df['cast_name'].apply(lambda x: re.sub(r' |\\'|\\[|\\]','',x.lower()).replace(',',' '))\n",
    "movie_df['genres'] = movie_df['genres'].apply(lambda x: x.replace(',',' ').lower())"
   ]
  },
  {
   "cell_type": "code",
   "execution_count": 30,
   "metadata": {
    "ExecuteTime": {
     "end_time": "2019-11-18T04:19:27.995788Z",
     "start_time": "2019-11-18T04:19:27.763384Z"
    },
    "hidden": true
   },
   "outputs": [],
   "source": [
    "movie_df['soup'] = movie_df[['keywords','cast_name','director','genres']].apply(lambda x: ''.join(x['keywords']) + ' '+ ''.join(x['cast_name'])+ ' ' + ''.join(x['director']) +' '+ ''.join(x['genres']), axis=1)"
   ]
  },
  {
   "cell_type": "code",
   "execution_count": 31,
   "metadata": {
    "ExecuteTime": {
     "end_time": "2019-11-18T04:19:28.235148Z",
     "start_time": "2019-11-18T04:19:27.996771Z"
    },
    "hidden": true
   },
   "outputs": [],
   "source": [
    "from sklearn.feature_extraction.text import CountVectorizer\n",
    "count = CountVectorizer(analyzer='word',ngram_range=(1, 2),min_df=0, stop_words='english')\n",
    "count_matrix = count.fit_transform(movie_df['soup'])"
   ]
  },
  {
   "cell_type": "code",
   "execution_count": 32,
   "metadata": {
    "ExecuteTime": {
     "end_time": "2019-11-18T04:19:28.520385Z",
     "start_time": "2019-11-18T04:19:28.237124Z"
    },
    "hidden": true
   },
   "outputs": [],
   "source": [
    "from sklearn.metrics.pairwise import cosine_similarity\n",
    "cosine_sim2 = cosine_similarity(count_matrix, count_matrix)"
   ]
  },
  {
   "cell_type": "code",
   "execution_count": 33,
   "metadata": {
    "ExecuteTime": {
     "end_time": "2019-11-18T04:19:28.533351Z",
     "start_time": "2019-11-18T04:19:28.522354Z"
    },
    "hidden": true
   },
   "outputs": [
    {
     "data": {
      "text/plain": [
       "65      The Dark Knight         \n",
       "119     Batman Begins           \n",
       "4638    Amidst the Devil's Wings\n",
       "4099    Harsh Times             \n",
       "1503    Takers                  \n",
       "3073    Romeo Is Bleeding       \n",
       "1253    Kiss of Death           \n",
       "2154    Street Kings            \n",
       "2502    Zulu                    \n",
       "2915    Trash                   \n",
       "Name: title, dtype: object"
      ]
     },
     "execution_count": 33,
     "metadata": {},
     "output_type": "execute_result"
    }
   ],
   "source": [
    "get_recommendations(movie_df, 'The Dark Knight Rises', cosine_sim2)"
   ]
  },
  {
   "cell_type": "code",
   "execution_count": 34,
   "metadata": {
    "ExecuteTime": {
     "end_time": "2019-11-18T04:19:28.624119Z",
     "start_time": "2019-11-18T04:19:28.535320Z"
    },
    "hidden": true
   },
   "outputs": [
    {
     "data": {
      "text/plain": [
       "330     The Lord of the Rings: The Two Towers            \n",
       "262     The Lord of the Rings: The Fellowship of the Ring\n",
       "19      The Hobbit: The Battle of the Five Armies        \n",
       "98      The Hobbit: An Unexpected Journey                \n",
       "22      The Hobbit: The Desolation of Smaug              \n",
       "107     Warcraft                                         \n",
       "379     Conan the Barbarian                              \n",
       "208     The 13th Warrior                                 \n",
       "2390    Red Sonja                                        \n",
       "1686    The Borrowers                                    \n",
       "Name: title, dtype: object"
      ]
     },
     "execution_count": 34,
     "metadata": {},
     "output_type": "execute_result"
    }
   ],
   "source": [
    "get_recommendations(movie_df, 'The Lord of the Rings: The Return of the King', cosine_sim2)"
   ]
  },
  {
   "cell_type": "code",
   "execution_count": 35,
   "metadata": {
    "ExecuteTime": {
     "end_time": "2019-11-18T04:19:28.709886Z",
     "start_time": "2019-11-18T04:19:28.626076Z"
    },
    "hidden": true
   },
   "outputs": [
    {
     "data": {
      "text/plain": [
       "1553    Se7en                              \n",
       "1161    The Social Network                 \n",
       "946     The Game                           \n",
       "100     The Curious Case of Benjamin Button\n",
       "1010    Panic Room                         \n",
       "693     Gone Girl                          \n",
       "3283    Down in the Valley                 \n",
       "354     The Girl with the Dragon Tattoo    \n",
       "1512    A History of Violence              \n",
       "421     Zodiac                             \n",
       "Name: title, dtype: object"
      ]
     },
     "execution_count": 35,
     "metadata": {},
     "output_type": "execute_result"
    }
   ],
   "source": [
    "get_recommendations(movie_df, 'Fight Club', cosine_sim2)"
   ]
  },
  {
   "cell_type": "code",
   "execution_count": null,
   "metadata": {
    "hidden": true
   },
   "outputs": [],
   "source": []
  }
 ],
 "metadata": {
  "kernelspec": {
   "display_name": "Python 3",
   "language": "python",
   "name": "python3"
  },
  "language_info": {
   "codemirror_mode": {
    "name": "ipython",
    "version": 3
   },
   "file_extension": ".py",
   "mimetype": "text/x-python",
   "name": "python",
   "nbconvert_exporter": "python",
   "pygments_lexer": "ipython3",
   "version": "3.7.3"
  },
  "varInspector": {
   "cols": {
    "lenName": 16,
    "lenType": 16,
    "lenVar": 40
   },
   "kernels_config": {
    "python": {
     "delete_cmd_postfix": "",
     "delete_cmd_prefix": "del ",
     "library": "var_list.py",
     "varRefreshCmd": "print(var_dic_list())"
    },
    "r": {
     "delete_cmd_postfix": ") ",
     "delete_cmd_prefix": "rm(",
     "library": "var_list.r",
     "varRefreshCmd": "cat(var_dic_list()) "
    }
   },
   "types_to_exclude": [
    "module",
    "function",
    "builtin_function_or_method",
    "instance",
    "_Feature"
   ],
   "window_display": false
  }
 },
 "nbformat": 4,
 "nbformat_minor": 2
}
