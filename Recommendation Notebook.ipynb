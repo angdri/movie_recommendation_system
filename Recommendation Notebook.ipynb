{
 "cells": [
  {
   "cell_type": "code",
   "execution_count": 1,
   "metadata": {
    "ExecuteTime": {
     "end_time": "2019-12-11T10:39:31.207149Z",
     "start_time": "2019-12-11T10:39:30.605138Z"
    }
   },
   "outputs": [],
   "source": [
    "import pandas as pd\n",
    "import numpy as np\n",
    "\n",
    "import re"
   ]
  },
  {
   "cell_type": "code",
   "execution_count": 2,
   "metadata": {
    "ExecuteTime": {
     "end_time": "2019-12-11T10:39:31.214057Z",
     "start_time": "2019-12-11T10:39:31.209089Z"
    }
   },
   "outputs": [],
   "source": [
    "import warnings\n",
    "warnings.filterwarnings('ignore')\n",
    "\n",
    "pd.set_option('display.max_rows', 500)\n",
    "pd.set_option('display.max_columns', 200)\n",
    "pd.set_option('display.width', 500)\n",
    "pd.set_option('display.max_colwidth', -1)"
   ]
  },
  {
   "cell_type": "markdown",
   "metadata": {
    "heading_collapsed": true
   },
   "source": [
    "## read, info, head"
   ]
  },
  {
   "cell_type": "code",
   "execution_count": 3,
   "metadata": {
    "ExecuteTime": {
     "end_time": "2019-12-11T10:39:31.425224Z",
     "start_time": "2019-12-11T10:39:31.216053Z"
    },
    "hidden": true
   },
   "outputs": [],
   "source": [
    "usecols=['id','title','genres','keywords','overview','popularity','production_companies','release_date','release_month',\n",
    "         'tagline','vote_average','vote_count','cast_name','producer','director']\n",
    "\n",
    "movie_df = pd.read_csv('./data/clean_movie_plus_credit.csv', encoding='raw_unicode_escape', usecols=usecols)"
   ]
  },
  {
   "cell_type": "code",
   "execution_count": 4,
   "metadata": {
    "ExecuteTime": {
     "end_time": "2019-12-11T10:39:31.443679Z",
     "start_time": "2019-12-11T10:39:31.426700Z"
    },
    "hidden": true
   },
   "outputs": [
    {
     "name": "stdout",
     "output_type": "stream",
     "text": [
      "<class 'pandas.core.frame.DataFrame'>\n",
      "RangeIndex: 4803 entries, 0 to 4802\n",
      "Data columns (total 15 columns):\n",
      "genres                  4775 non-null object\n",
      "id                      4803 non-null int64\n",
      "keywords                4390 non-null object\n",
      "overview                4803 non-null object\n",
      "popularity              4803 non-null float64\n",
      "production_companies    4451 non-null object\n",
      "release_date            4803 non-null object\n",
      "tagline                 3959 non-null object\n",
      "title                   4803 non-null object\n",
      "vote_average            4803 non-null float64\n",
      "vote_count              4803 non-null int64\n",
      "release_month           4803 non-null int64\n",
      "cast_name               4757 non-null object\n",
      "producer                3743 non-null object\n",
      "director                4562 non-null object\n",
      "dtypes: float64(2), int64(3), object(10)\n",
      "memory usage: 562.9+ KB\n"
     ]
    }
   ],
   "source": [
    "movie_df.info()"
   ]
  },
  {
   "cell_type": "code",
   "execution_count": 5,
   "metadata": {
    "ExecuteTime": {
     "end_time": "2019-12-11T10:39:31.530633Z",
     "start_time": "2019-12-11T10:39:31.445649Z"
    },
    "hidden": true
   },
   "outputs": [
    {
     "data": {
      "text/html": [
       "<div>\n",
       "<style scoped>\n",
       "    .dataframe tbody tr th:only-of-type {\n",
       "        vertical-align: middle;\n",
       "    }\n",
       "\n",
       "    .dataframe tbody tr th {\n",
       "        vertical-align: top;\n",
       "    }\n",
       "\n",
       "    .dataframe thead th {\n",
       "        text-align: right;\n",
       "    }\n",
       "</style>\n",
       "<table border=\"1\" class=\"dataframe\">\n",
       "  <thead>\n",
       "    <tr style=\"text-align: right;\">\n",
       "      <th></th>\n",
       "      <th>genres</th>\n",
       "      <th>id</th>\n",
       "      <th>keywords</th>\n",
       "      <th>overview</th>\n",
       "      <th>popularity</th>\n",
       "      <th>production_companies</th>\n",
       "      <th>release_date</th>\n",
       "      <th>tagline</th>\n",
       "      <th>title</th>\n",
       "      <th>vote_average</th>\n",
       "      <th>vote_count</th>\n",
       "      <th>release_month</th>\n",
       "      <th>cast_name</th>\n",
       "      <th>producer</th>\n",
       "      <th>director</th>\n",
       "    </tr>\n",
       "  </thead>\n",
       "  <tbody>\n",
       "    <tr>\n",
       "      <th>0</th>\n",
       "      <td>Action,Adventure,Fantasy,Science Fiction</td>\n",
       "      <td>19995</td>\n",
       "      <td>culture clash,future,space war,space colony,society,space travel,futuristic,romance,space,alien,tribe,alien planet,cgi,marine,soldier,battle,love affair,anti war,power relations,mind and soul,3d</td>\n",
       "      <td>In the 22nd century, a paraplegic Marine is dispatched to the moon Pandora on a unique mission, but becomes torn between following orders and protecting an alien civilization.</td>\n",
       "      <td>150.437577</td>\n",
       "      <td>Ingenious Film Partners,Twentieth Century Fox Film Corporation,Dune Entertainment,Lightstorm Entertainment</td>\n",
       "      <td>2009-12-10</td>\n",
       "      <td>Enter the World of Pandora.</td>\n",
       "      <td>Avatar</td>\n",
       "      <td>7.2</td>\n",
       "      <td>11800</td>\n",
       "      <td>12</td>\n",
       "      <td>Sam Worthington,Zoe Saldana,Sigourney Weaver,Stephen Lang,Michelle Rodriguez,Giovanni Ribisi,Joel David Moore,CCH Pounder,Wes Studi,Laz Alonso,Dileep Rao,Matt Gerald,Sean Anthony Moran,Jason Whyte,Scott Lawrence,Kelly Kilgour,James Patrick Pitt,Sean Patrick Murphy,Peter Dillon,Kevin Dorman,Kelson Henderson,David Van Horn,Jacob Tomuri,Jon Curry,Luke Hawker,Woody Schultz,Peter Mensah,Sonia Yee,Jahnel Curfman,Ilram Choi,Kyla Warren,Lisa Roumain,Debra Wilson,Chris Mala,Taylor Kibby,Jodie Landau,Julie Lamm,Cullen B. Madden,Joseph Brady Madden,Frankie Torres,Austin Wilson,Sara Wilson,Lucy Briant,Nathan Meister,Gerry Blair,Matthew Chamberlain,Paul Yates,Wray Wilson,James Gaylyn,Melvin Leno Clark III,Carvon Futrell,Brandon Jelkes,Micah Moch,Hanniyah Muhammad,Christopher Nolen,Christa Oliver,April Marie Thomas,Bravita A. Threatt,Colin Bleasdale,Mike Bodnar,Matt Clayton,Nicole Dionne,Jamie Harrison,Allan Henry,Anthony Ingruber,Ashley Jeffery,Dean Knowsley,Terry Notary,Kai Pantano,Logan Pithyou,Stuart Pollock,Raja,Gareth Ruck,Rhian Sheehan,T. J. Storm,Jodie Taylor,Richard Whiteside,Nikie Zambo,Julene Renee</td>\n",
       "      <td>James Cameron,Jon Landau</td>\n",
       "      <td>James Cameron</td>\n",
       "    </tr>\n",
       "    <tr>\n",
       "      <th>1</th>\n",
       "      <td>Adventure,Fantasy,Action</td>\n",
       "      <td>285</td>\n",
       "      <td>ocean,drug abuse,exotic island,east india trading company,love of one's life,traitor,shipwreck,strong woman,ship,alliance,calypso,afterlife,fighter,pirate,swashbuckler,aftercreditsstinger</td>\n",
       "      <td>Captain Barbossa, long believed to be dead, has come back to life and is headed to the edge of the Earth with Will Turner and Elizabeth Swann. But nothing is quite as it seems.</td>\n",
       "      <td>139.082615</td>\n",
       "      <td>Walt Disney Pictures,Jerry Bruckheimer Films,Second Mate Productions</td>\n",
       "      <td>2007-05-19</td>\n",
       "      <td>At the end of the world, the adventure begins.</td>\n",
       "      <td>Pirates of the Caribbean: At World's End</td>\n",
       "      <td>6.9</td>\n",
       "      <td>4500</td>\n",
       "      <td>5</td>\n",
       "      <td>Johnny Depp,Orlando Bloom,Keira Knightley,Bill Nighy,Geoffrey Rush,Jack Davenport,Kevin McNally,Tom Hollander,Naomie Harris,Jonathan Pryce,Keith Richards,Lee Arenberg,Mackenzie Crook,Greg Ellis,David Bailie,Martin Klebba,David Schofield,Lauren Maher,Vanessa Branch,Angus Barnett,Giles New,Reggie Lee,Dominic Scott Kay,Takayo Fischer,David Meunier,Andy Beckwith,Peter Donald Badalamenti II,Christopher S. Capp,Keith Richards,Ghassan Massoud</td>\n",
       "      <td>Jerry Bruckheimer,Eric McLeod,Chad Oman,Peter Kohn,Pat Sandston</td>\n",
       "      <td>Gore Verbinski</td>\n",
       "    </tr>\n",
       "    <tr>\n",
       "      <th>2</th>\n",
       "      <td>Action,Adventure,Crime</td>\n",
       "      <td>206647</td>\n",
       "      <td>spy,based on novel,secret agent,sequel,mi6,british secret service,united kingdom</td>\n",
       "      <td>A cryptic message from BondÃÂ¢ÃÂÃÂs past sends him on a trail to uncover a sinister organization. While M battles political forces to keep the secret service alive, Bond peels back the layers of deceit to reveal the terrible truth behind SPECTRE.</td>\n",
       "      <td>107.376788</td>\n",
       "      <td>Columbia Pictures,Danjaq,B24</td>\n",
       "      <td>2015-10-26</td>\n",
       "      <td>A Plan No One Escapes</td>\n",
       "      <td>Spectre</td>\n",
       "      <td>6.3</td>\n",
       "      <td>4466</td>\n",
       "      <td>10</td>\n",
       "      <td>Daniel Craig,Christoph Waltz,Ralph Fiennes,Monica Bellucci,Ben Whishaw,Naomie Harris,Dave Bautista,Andrew Scott,Rory Kinnear,Jesper Christensen,Alessandro Cremona,Stephanie Sigman,Tenoch Huerta,Adriana Paz,Domenico Fortunato,Marco Zingaro,Stefano Elfi DiClaudia,Ian Bonar,Tam Williams,Richard Banham,Pip Carter,Simon Lenagan,Alessandro Bressanello,Marc Zinga,Brigitte Millar,Adel Bencherif,Gediminas Adomaitis,Peppe Lanzetta,Francesco Arca,Matteo Taranto,Emilio Aniba,Benito Sagredo,Dai Tabuchi,George Lasha,Sargon Yelda,Andy Cheung,Erick Hayden,Oleg Mirochnikov,Antonio Salines,Miloud Mourad Benamara,Gido Schimanski,Nigel Barber,Patrice Naiambana,Stephane Cornicard,Gary Fannin,Sadao Ueda,Phillip Law,Wai Wong,Joseph Balderrama,Eiji Mihara,Junichi Kajioka,Harald Windisch,Tristan Matthiae,Detlef Bothe,Bodo Friesecke,Wilhem Iben,Noemi Krausz,Noah Saavedra,Francis Attakpah,Michael Glantschnig,Marlon Boess,Marie Wohlmuth,Lili Epply,Konstantin Gerlach,Lara Parmiani,Umit Ulgen,Amra Mallassi,Ziad Abaza,Walid Mumuni,Derek Horsham,Michael White,Adam McGrady,Nader Dernaika,Pezhmaan Alinia,Judi Dench,Neve Gachev,Karl Farrer,Kim Adis,Maurisa Selene Coleman</td>\n",
       "      <td>Barbara Broccoli,Michael G. Wilson</td>\n",
       "      <td>Sam Mendes</td>\n",
       "    </tr>\n",
       "    <tr>\n",
       "      <th>3</th>\n",
       "      <td>Action,Crime,Drama,Thriller</td>\n",
       "      <td>49026</td>\n",
       "      <td>dc comics,crime fighter,terrorist,secret identity,burglar,hostage drama,time bomb,gotham city,vigilante,cover-up,superhero,villainess,tragic hero,terrorism,destruction,catwoman,cat burglar,imax,flood,criminal underworld,batman</td>\n",
       "      <td>Following the death of District Attorney Harvey Dent, Batman assumes responsibility for Dent's crimes to protect the late attorney's reputation and is subsequently hunted by the Gotham City Police Department. Eight years later, Batman encounters the mysterious Selina Kyle and the villainous Bane, a new terrorist leader who overwhelms Gotham's finest. The Dark Knight resurfaces to protect a city that has branded him an enemy.</td>\n",
       "      <td>112.312950</td>\n",
       "      <td>Legendary Pictures,Warner Bros.,DC Entertainment,Syncopy</td>\n",
       "      <td>2012-07-16</td>\n",
       "      <td>The Legend Ends</td>\n",
       "      <td>The Dark Knight Rises</td>\n",
       "      <td>7.6</td>\n",
       "      <td>9106</td>\n",
       "      <td>7</td>\n",
       "      <td>Christian Bale,Michael Caine,Gary Oldman,Anne Hathaway,Tom Hardy,Marion Cotillard,Morgan Freeman,Cillian Murphy,Juno Temple,Liam Neeson,Matthew Modine,Alon Aboutboul,Ben Mendelsohn,Nestor Carbonell,Josh Pence,Tom Conti,Joey King,Warren Brown,Daniel Sunjata,Sam Kennard,Aliash Tepina,Nick Julian,Miranda Nolan,Claire Julien,Aidan Gillen,Burn Gorman,Brett Cullen,Reggie Lee,Joseph Lyle Taylor,Chris Ellis,Duane Henry,James Harvey Ward,Gonzalo Menendez,Cameron Jack,Lex Daniel,Tyler Dean Flores,Thomas Lennon,Trevor White,Rob Brown,Fredric Lehne,Courtney Munch,Chris Hill,Travis Guba,Jay Benedict,Will Estes,David Dayan Fisher,Glen Powell,Russ Fega,Brent Briscoe,John Nolan,Oliver Cotton,Mark Killeen,Sarah Goldberg,John MacMillan,Robert Wisdom,Ronnie Gene Blevins,John Hollingworth,Ian Bohen,Uri Gavriel,Noel Gugliemi,Hector Atreyu Ruiz,Patrick Cox,Aramis Knight,Josh Stewart,William Devane,David Gyasi,Patrick Jordan,Joshua Elijah Reese,Desmond Harrington,Mychael Bates,Tomas Arana,Peter Holden,David Monahan,Jillian Armenante,Aja Evans,Aldous Davidson,Wade Williams,Jake Canuso,Massi Furlan,Christopher Judge,Patrick Leahy,Todd Gearhart,Marc Abbink,Isiah Adams,Charlie Alejandro,Robert Arensen,Grant Babbitt,Fileena Bahris,Rick Bolander,Kyle Patrick Brennan,Scott Churchson,Bill Cowher,Graham Curry,Stephanie Domini Ehlert,John Farrer,Frank Fata,Christopher Bryan Gomez,Vito Grassi,Michael Wren Gucciardo,Sam Harris,Ed Heavey,John W. Iwanonkiw,Cindy Jackson,Daniel Jordano,William Kania,Tiffany Kemp,Sun Jae Kim,Hrvoje Klecz,Alex Kruz,Tyler La Marr,LeJon,Paul Jude Letersky,Joe Lipari,Silvia Lombardo,Jorge Mardel,Cale McConnell,David Dale McCue,Tiffany Sander McKenzie,Allen Merritt,Olan Montgomery,Alex Moore,Shane Nolan,Jackson Nunn,Michael Papajohn,Salomon Passariello,Kyle David Pierce,Troy Polamalu,Michael Power,James Rawlings,Kirsten Roeters,Ben Roethlisberger,Mark Roman,Anthony J. Sacco,Eric Salazar,Emily Schooley,Thomas Tull,Chris Vaina,Vincent van Ommen,Michelle Vezzani,Barbara Vincent,Justin Michael Woods,Jason Yee,Maria Zambrana,John Zion,Alex Ziwak,Tommy Bayiokos,Matthew Gooley,Jeff Moffitt,Mark Falvo,Diogo Hausen,Gary Sievers,Orion McCabe,London May,James Quinn,Daniel Newman</td>\n",
       "      <td>Charles Roven,Christopher Nolan,Emma Thomas</td>\n",
       "      <td>Christopher Nolan</td>\n",
       "    </tr>\n",
       "    <tr>\n",
       "      <th>4</th>\n",
       "      <td>Action,Adventure,Science Fiction</td>\n",
       "      <td>49529</td>\n",
       "      <td>based on novel,mars,medallion,space travel,princess,alien,steampunk,martian,escape,edgar rice burroughs,alien race,superhuman strength,mars civilization,sword and planet,19th century,3d</td>\n",
       "      <td>John Carter is a war-weary, former military captain who's inexplicably transported to the mysterious and exotic planet of Barsoom (Mars) and reluctantly becomes embroiled in an epic conflict. It's a world on the brink of collapse, and Carter rediscovers his humanity when he realizes the survival of Barsoom and its people rests in his hands.</td>\n",
       "      <td>43.926995</td>\n",
       "      <td>Walt Disney Pictures</td>\n",
       "      <td>2012-03-07</td>\n",
       "      <td>Lost in our world, found in another.</td>\n",
       "      <td>John Carter</td>\n",
       "      <td>6.1</td>\n",
       "      <td>2124</td>\n",
       "      <td>3</td>\n",
       "      <td>Taylor Kitsch,Lynn Collins,Samantha Morton,Willem Dafoe,Thomas Haden Church,Mark Strong,Dominic West,James Purefoy,Bryan Cranston,Polly Walker,Daryl Sabara,Arkie Reece,Davood Ghadami,Pippa Nixon,James Embree,Philip Philmar,Emily Tierney,Edmund Kente,Nicholas Woodeson,Kyle Agnew,Don Stark,Josh Daugherty,Jared Cyr,Christopher Goodman,Amanda Clayton,Joseph Billingiere</td>\n",
       "      <td>Colin Wilson,Jim Morris,Lindsey Collins</td>\n",
       "      <td>Andrew Stanton</td>\n",
       "    </tr>\n",
       "  </tbody>\n",
       "</table>\n",
       "</div>"
      ],
      "text/plain": [
       "                                     genres      id                                                                                                                                                                                                                            keywords  \\\n",
       "0  Action,Adventure,Fantasy,Science Fiction  19995   culture clash,future,space war,space colony,society,space travel,futuristic,romance,space,alien,tribe,alien planet,cgi,marine,soldier,battle,love affair,anti war,power relations,mind and soul,3d                                   \n",
       "1  Adventure,Fantasy,Action                  285     ocean,drug abuse,exotic island,east india trading company,love of one's life,traitor,shipwreck,strong woman,ship,alliance,calypso,afterlife,fighter,pirate,swashbuckler,aftercreditsstinger                                          \n",
       "2  Action,Adventure,Crime                    206647  spy,based on novel,secret agent,sequel,mi6,british secret service,united kingdom                                                                                                                                                     \n",
       "3  Action,Crime,Drama,Thriller               49026   dc comics,crime fighter,terrorist,secret identity,burglar,hostage drama,time bomb,gotham city,vigilante,cover-up,superhero,villainess,tragic hero,terrorism,destruction,catwoman,cat burglar,imax,flood,criminal underworld,batman   \n",
       "4  Action,Adventure,Science Fiction          49529   based on novel,mars,medallion,space travel,princess,alien,steampunk,martian,escape,edgar rice burroughs,alien race,superhuman strength,mars civilization,sword and planet,19th century,3d                                            \n",
       "\n",
       "                                                                                                                                                                                                                                                                                                                                                                                                                                       overview  popularity  \\\n",
       "0  In the 22nd century, a paraplegic Marine is dispatched to the moon Pandora on a unique mission, but becomes torn between following orders and protecting an alien civilization.                                                                                                                                                                                                                                                               150.437577   \n",
       "1  Captain Barbossa, long believed to be dead, has come back to life and is headed to the edge of the Earth with Will Turner and Elizabeth Swann. But nothing is quite as it seems.                                                                                                                                                                                                                                                              139.082615   \n",
       "2  A cryptic message from BondÃÂ¢ÃÂÃÂs past sends him on a trail to uncover a sinister organization. While M battles political forces to keep the secret service alive, Bond peels back the layers of deceit to reveal the terrible truth behind SPECTRE.                                                                                                                                                                                   107.376788   \n",
       "3  Following the death of District Attorney Harvey Dent, Batman assumes responsibility for Dent's crimes to protect the late attorney's reputation and is subsequently hunted by the Gotham City Police Department. Eight years later, Batman encounters the mysterious Selina Kyle and the villainous Bane, a new terrorist leader who overwhelms Gotham's finest. The Dark Knight resurfaces to protect a city that has branded him an enemy.  112.312950   \n",
       "4  John Carter is a war-weary, former military captain who's inexplicably transported to the mysterious and exotic planet of Barsoom (Mars) and reluctantly becomes embroiled in an epic conflict. It's a world on the brink of collapse, and Carter rediscovers his humanity when he realizes the survival of Barsoom and its people rests in his hands.                                                                                        43.926995    \n",
       "\n",
       "                                                                                         production_companies release_date                                         tagline                                     title  vote_average  vote_count  release_month  \\\n",
       "0  Ingenious Film Partners,Twentieth Century Fox Film Corporation,Dune Entertainment,Lightstorm Entertainment  2009-12-10   Enter the World of Pandora.                     Avatar                                    7.2           11800       12              \n",
       "1  Walt Disney Pictures,Jerry Bruckheimer Films,Second Mate Productions                                        2007-05-19   At the end of the world, the adventure begins.  Pirates of the Caribbean: At World's End  6.9           4500        5               \n",
       "2  Columbia Pictures,Danjaq,B24                                                                                2015-10-26   A Plan No One Escapes                           Spectre                                   6.3           4466        10              \n",
       "3  Legendary Pictures,Warner Bros.,DC Entertainment,Syncopy                                                    2012-07-16   The Legend Ends                                 The Dark Knight Rises                     7.6           9106        7               \n",
       "4  Walt Disney Pictures                                                                                        2012-03-07   Lost in our world, found in another.            John Carter                               6.1           2124        3               \n",
       "\n",
       "                                                                                                                                                                                                                                                                                                                                                                                                                                                                                                                                                                                                                                                                                                                                                                                                                                                                                                                                                                                                                                                                                                                                                                                                                                                                                                                                                                                                                                                                                                                                                                                                                                                                                                                                                                                                                                                                                                                                                                                                                                                                                                                                                                                                                                                                              cast_name  \\\n",
       "0  Sam Worthington,Zoe Saldana,Sigourney Weaver,Stephen Lang,Michelle Rodriguez,Giovanni Ribisi,Joel David Moore,CCH Pounder,Wes Studi,Laz Alonso,Dileep Rao,Matt Gerald,Sean Anthony Moran,Jason Whyte,Scott Lawrence,Kelly Kilgour,James Patrick Pitt,Sean Patrick Murphy,Peter Dillon,Kevin Dorman,Kelson Henderson,David Van Horn,Jacob Tomuri,Jon Curry,Luke Hawker,Woody Schultz,Peter Mensah,Sonia Yee,Jahnel Curfman,Ilram Choi,Kyla Warren,Lisa Roumain,Debra Wilson,Chris Mala,Taylor Kibby,Jodie Landau,Julie Lamm,Cullen B. Madden,Joseph Brady Madden,Frankie Torres,Austin Wilson,Sara Wilson,Lucy Briant,Nathan Meister,Gerry Blair,Matthew Chamberlain,Paul Yates,Wray Wilson,James Gaylyn,Melvin Leno Clark III,Carvon Futrell,Brandon Jelkes,Micah Moch,Hanniyah Muhammad,Christopher Nolen,Christa Oliver,April Marie Thomas,Bravita A. Threatt,Colin Bleasdale,Mike Bodnar,Matt Clayton,Nicole Dionne,Jamie Harrison,Allan Henry,Anthony Ingruber,Ashley Jeffery,Dean Knowsley,Terry Notary,Kai Pantano,Logan Pithyou,Stuart Pollock,Raja,Gareth Ruck,Rhian Sheehan,T. J. Storm,Jodie Taylor,Richard Whiteside,Nikie Zambo,Julene Renee                                                                                                                                                                                                                                                                                                                                                                                                                                                                                                                                                                                                                                                                                                                                                                                                                                                                                                                                                                                                                                                                                                                               \n",
       "1  Johnny Depp,Orlando Bloom,Keira Knightley,Bill Nighy,Geoffrey Rush,Jack Davenport,Kevin McNally,Tom Hollander,Naomie Harris,Jonathan Pryce,Keith Richards,Lee Arenberg,Mackenzie Crook,Greg Ellis,David Bailie,Martin Klebba,David Schofield,Lauren Maher,Vanessa Branch,Angus Barnett,Giles New,Reggie Lee,Dominic Scott Kay,Takayo Fischer,David Meunier,Andy Beckwith,Peter Donald Badalamenti II,Christopher S. Capp,Keith Richards,Ghassan Massoud                                                                                                                                                                                                                                                                                                                                                                                                                                                                                                                                                                                                                                                                                                                                                                                                                                                                                                                                                                                                                                                                                                                                                                                                                                                                                                                                                                                                                                                                                                                                                                                                                                                                                                                                                                                                                                \n",
       "2  Daniel Craig,Christoph Waltz,Ralph Fiennes,Monica Bellucci,Ben Whishaw,Naomie Harris,Dave Bautista,Andrew Scott,Rory Kinnear,Jesper Christensen,Alessandro Cremona,Stephanie Sigman,Tenoch Huerta,Adriana Paz,Domenico Fortunato,Marco Zingaro,Stefano Elfi DiClaudia,Ian Bonar,Tam Williams,Richard Banham,Pip Carter,Simon Lenagan,Alessandro Bressanello,Marc Zinga,Brigitte Millar,Adel Bencherif,Gediminas Adomaitis,Peppe Lanzetta,Francesco Arca,Matteo Taranto,Emilio Aniba,Benito Sagredo,Dai Tabuchi,George Lasha,Sargon Yelda,Andy Cheung,Erick Hayden,Oleg Mirochnikov,Antonio Salines,Miloud Mourad Benamara,Gido Schimanski,Nigel Barber,Patrice Naiambana,Stephane Cornicard,Gary Fannin,Sadao Ueda,Phillip Law,Wai Wong,Joseph Balderrama,Eiji Mihara,Junichi Kajioka,Harald Windisch,Tristan Matthiae,Detlef Bothe,Bodo Friesecke,Wilhem Iben,Noemi Krausz,Noah Saavedra,Francis Attakpah,Michael Glantschnig,Marlon Boess,Marie Wohlmuth,Lili Epply,Konstantin Gerlach,Lara Parmiani,Umit Ulgen,Amra Mallassi,Ziad Abaza,Walid Mumuni,Derek Horsham,Michael White,Adam McGrady,Nader Dernaika,Pezhmaan Alinia,Judi Dench,Neve Gachev,Karl Farrer,Kim Adis,Maurisa Selene Coleman                                                                                                                                                                                                                                                                                                                                                                                                                                                                                                                                                                                                                                                                                                                                                                                                                                                                                                                                                                                                                                                                                     \n",
       "3  Christian Bale,Michael Caine,Gary Oldman,Anne Hathaway,Tom Hardy,Marion Cotillard,Morgan Freeman,Cillian Murphy,Juno Temple,Liam Neeson,Matthew Modine,Alon Aboutboul,Ben Mendelsohn,Nestor Carbonell,Josh Pence,Tom Conti,Joey King,Warren Brown,Daniel Sunjata,Sam Kennard,Aliash Tepina,Nick Julian,Miranda Nolan,Claire Julien,Aidan Gillen,Burn Gorman,Brett Cullen,Reggie Lee,Joseph Lyle Taylor,Chris Ellis,Duane Henry,James Harvey Ward,Gonzalo Menendez,Cameron Jack,Lex Daniel,Tyler Dean Flores,Thomas Lennon,Trevor White,Rob Brown,Fredric Lehne,Courtney Munch,Chris Hill,Travis Guba,Jay Benedict,Will Estes,David Dayan Fisher,Glen Powell,Russ Fega,Brent Briscoe,John Nolan,Oliver Cotton,Mark Killeen,Sarah Goldberg,John MacMillan,Robert Wisdom,Ronnie Gene Blevins,John Hollingworth,Ian Bohen,Uri Gavriel,Noel Gugliemi,Hector Atreyu Ruiz,Patrick Cox,Aramis Knight,Josh Stewart,William Devane,David Gyasi,Patrick Jordan,Joshua Elijah Reese,Desmond Harrington,Mychael Bates,Tomas Arana,Peter Holden,David Monahan,Jillian Armenante,Aja Evans,Aldous Davidson,Wade Williams,Jake Canuso,Massi Furlan,Christopher Judge,Patrick Leahy,Todd Gearhart,Marc Abbink,Isiah Adams,Charlie Alejandro,Robert Arensen,Grant Babbitt,Fileena Bahris,Rick Bolander,Kyle Patrick Brennan,Scott Churchson,Bill Cowher,Graham Curry,Stephanie Domini Ehlert,John Farrer,Frank Fata,Christopher Bryan Gomez,Vito Grassi,Michael Wren Gucciardo,Sam Harris,Ed Heavey,John W. Iwanonkiw,Cindy Jackson,Daniel Jordano,William Kania,Tiffany Kemp,Sun Jae Kim,Hrvoje Klecz,Alex Kruz,Tyler La Marr,LeJon,Paul Jude Letersky,Joe Lipari,Silvia Lombardo,Jorge Mardel,Cale McConnell,David Dale McCue,Tiffany Sander McKenzie,Allen Merritt,Olan Montgomery,Alex Moore,Shane Nolan,Jackson Nunn,Michael Papajohn,Salomon Passariello,Kyle David Pierce,Troy Polamalu,Michael Power,James Rawlings,Kirsten Roeters,Ben Roethlisberger,Mark Roman,Anthony J. Sacco,Eric Salazar,Emily Schooley,Thomas Tull,Chris Vaina,Vincent van Ommen,Michelle Vezzani,Barbara Vincent,Justin Michael Woods,Jason Yee,Maria Zambrana,John Zion,Alex Ziwak,Tommy Bayiokos,Matthew Gooley,Jeff Moffitt,Mark Falvo,Diogo Hausen,Gary Sievers,Orion McCabe,London May,James Quinn,Daniel Newman   \n",
       "4  Taylor Kitsch,Lynn Collins,Samantha Morton,Willem Dafoe,Thomas Haden Church,Mark Strong,Dominic West,James Purefoy,Bryan Cranston,Polly Walker,Daryl Sabara,Arkie Reece,Davood Ghadami,Pippa Nixon,James Embree,Philip Philmar,Emily Tierney,Edmund Kente,Nicholas Woodeson,Kyle Agnew,Don Stark,Josh Daugherty,Jared Cyr,Christopher Goodman,Amanda Clayton,Joseph Billingiere                                                                                                                                                                                                                                                                                                                                                                                                                                                                                                                                                                                                                                                                                                                                                                                                                                                                                                                                                                                                                                                                                                                                                                                                                                                                                                                                                                                                                                                                                                                                                                                                                                                                                                                                                                                                                                                                                                        \n",
       "\n",
       "                                                          producer           director  \n",
       "0  James Cameron,Jon Landau                                         James Cameron      \n",
       "1  Jerry Bruckheimer,Eric McLeod,Chad Oman,Peter Kohn,Pat Sandston  Gore Verbinski     \n",
       "2  Barbara Broccoli,Michael G. Wilson                               Sam Mendes         \n",
       "3  Charles Roven,Christopher Nolan,Emma Thomas                      Christopher Nolan  \n",
       "4  Colin Wilson,Jim Morris,Lindsey Collins                          Andrew Stanton     "
      ]
     },
     "execution_count": 5,
     "metadata": {},
     "output_type": "execute_result"
    }
   ],
   "source": [
    "movie_df.head()"
   ]
  },
  {
   "cell_type": "markdown",
   "metadata": {
    "heading_collapsed": true
   },
   "source": [
    "## Get only 3 actor's name"
   ]
  },
  {
   "cell_type": "code",
   "execution_count": 6,
   "metadata": {
    "ExecuteTime": {
     "end_time": "2019-12-11T10:39:31.620677Z",
     "start_time": "2019-12-11T10:39:31.533595Z"
    },
    "hidden": true
   },
   "outputs": [],
   "source": [
    "#Fill all NaN with empty string\n",
    "movie_df.fillna('', inplace=True)"
   ]
  },
  {
   "cell_type": "code",
   "execution_count": 7,
   "metadata": {
    "ExecuteTime": {
     "end_time": "2019-12-11T10:39:31.752839Z",
     "start_time": "2019-12-11T10:39:31.622546Z"
    },
    "hidden": true
   },
   "outputs": [],
   "source": [
    "movie_df['cast_name'] = movie_df['cast_name'].apply(lambda x: str(x.split(',')[:3])[1:-1] if len(x.split(',')) > 3 else str(x))"
   ]
  },
  {
   "cell_type": "code",
   "execution_count": 8,
   "metadata": {
    "ExecuteTime": {
     "end_time": "2019-12-11T10:39:31.908883Z",
     "start_time": "2019-12-11T10:39:31.755693Z"
    },
    "hidden": true
   },
   "outputs": [],
   "source": [
    "# movie_df['cast_name']"
   ]
  },
  {
   "cell_type": "markdown",
   "metadata": {},
   "source": [
    "## Recommendation base on Weighted Rating"
   ]
  },
  {
   "cell_type": "markdown",
   "metadata": {},
   "source": [
    "I use the TMDB Ratings to come up with our Top Movies Chart. I will use IMDB's weighted rating formula to construct my chart. Mathematically, it is represented as follows:\n",
    "\n",
    "![](https://image.ibb.co/jYWZp9/wr.png)\n",
    "\n",
    "v is the number of votes for the movie <br>\n",
    "m is the minimum votes required to be listed in the chart<br>\n",
    "R is the average rating of the movie<br>\n",
    "C is the mean vote across the whole report<br>"
   ]
  },
  {
   "cell_type": "code",
   "execution_count": 9,
   "metadata": {
    "ExecuteTime": {
     "end_time": "2019-12-11T10:39:32.009693Z",
     "start_time": "2019-12-11T10:39:31.913837Z"
    }
   },
   "outputs": [
    {
     "data": {
      "text/plain": [
       "(481, 15)"
      ]
     },
     "execution_count": 9,
     "metadata": {},
     "output_type": "execute_result"
    }
   ],
   "source": [
    "C= movie_df['vote_average'].mean()\n",
    "\n",
    "#minimum vote required, only 10% of the highest vote_count \n",
    "m= movie_df['vote_count'].quantile(0.9)\n",
    "\n",
    "#get 10% of top vote_count movies\n",
    "q_movies = movie_df.copy().loc[movie_df['vote_count'] >= m]\n",
    "q_movies.shape"
   ]
  },
  {
   "cell_type": "code",
   "execution_count": 10,
   "metadata": {
    "ExecuteTime": {
     "end_time": "2019-12-11T10:39:32.100941Z",
     "start_time": "2019-12-11T10:39:32.013681Z"
    }
   },
   "outputs": [],
   "source": [
    "#function for count weight rating\n",
    "def weighted_rating(x, m=m, C=C):\n",
    "    v = x['vote_count']\n",
    "    R = x['vote_average']\n",
    "    # Calculation based on the IMDB formula\n",
    "    return (v/(v+m) * R) + (m/(m+v) * C)"
   ]
  },
  {
   "cell_type": "code",
   "execution_count": 11,
   "metadata": {
    "ExecuteTime": {
     "end_time": "2019-12-11T10:39:32.223434Z",
     "start_time": "2019-12-11T10:39:32.104930Z"
    }
   },
   "outputs": [],
   "source": [
    "#insert weight rating into new columns ['score']\n",
    "q_movies['score'] = q_movies.apply(weighted_rating, axis=1)\n",
    "\n",
    "#sort movies base on weigth rating\n",
    "q_movies = q_movies.sort_values('score', ascending=False)"
   ]
  },
  {
   "cell_type": "code",
   "execution_count": 12,
   "metadata": {
    "ExecuteTime": {
     "end_time": "2019-12-11T10:39:32.293212Z",
     "start_time": "2019-12-11T10:39:32.225301Z"
    },
    "scrolled": true
   },
   "outputs": [
    {
     "data": {
      "text/html": [
       "<div>\n",
       "<style scoped>\n",
       "    .dataframe tbody tr th:only-of-type {\n",
       "        vertical-align: middle;\n",
       "    }\n",
       "\n",
       "    .dataframe tbody tr th {\n",
       "        vertical-align: top;\n",
       "    }\n",
       "\n",
       "    .dataframe thead th {\n",
       "        text-align: right;\n",
       "    }\n",
       "</style>\n",
       "<table border=\"1\" class=\"dataframe\">\n",
       "  <thead>\n",
       "    <tr style=\"text-align: right;\">\n",
       "      <th></th>\n",
       "      <th>id</th>\n",
       "      <th>title</th>\n",
       "      <th>genres</th>\n",
       "      <th>production_companies</th>\n",
       "      <th>popularity</th>\n",
       "      <th>vote_average</th>\n",
       "      <th>vote_count</th>\n",
       "      <th>cast_name</th>\n",
       "      <th>producer</th>\n",
       "      <th>director</th>\n",
       "      <th>release_date</th>\n",
       "    </tr>\n",
       "  </thead>\n",
       "  <tbody>\n",
       "    <tr>\n",
       "      <th>1881</th>\n",
       "      <td>278</td>\n",
       "      <td>The Shawshank Redemption</td>\n",
       "      <td>Drama,Crime</td>\n",
       "      <td>Castle Rock Entertainment</td>\n",
       "      <td>136.747729</td>\n",
       "      <td>8.5</td>\n",
       "      <td>8205</td>\n",
       "      <td>'Tim Robbins', 'Morgan Freeman', 'Bob Gunton'</td>\n",
       "      <td>Niki Marvin</td>\n",
       "      <td>Frank Darabont</td>\n",
       "      <td>1994-09-23</td>\n",
       "    </tr>\n",
       "    <tr>\n",
       "      <th>662</th>\n",
       "      <td>550</td>\n",
       "      <td>Fight Club</td>\n",
       "      <td>Drama</td>\n",
       "      <td>Regency Enterprises,Fox 2000 Pictures,Taurus Film,Linson Films,Atman Entertainment,Knickerbocker Films</td>\n",
       "      <td>146.757391</td>\n",
       "      <td>8.3</td>\n",
       "      <td>9413</td>\n",
       "      <td>'Edward Norton', 'Brad Pitt', 'Meat Loaf'</td>\n",
       "      <td>Art Linson,Ross Grayson Bell</td>\n",
       "      <td>David Fincher</td>\n",
       "      <td>1999-10-15</td>\n",
       "    </tr>\n",
       "    <tr>\n",
       "      <th>65</th>\n",
       "      <td>155</td>\n",
       "      <td>The Dark Knight</td>\n",
       "      <td>Drama,Action,Crime,Thriller</td>\n",
       "      <td>DC Comics,Legendary Pictures,Warner Bros.,DC Entertainment,Syncopy</td>\n",
       "      <td>187.322927</td>\n",
       "      <td>8.2</td>\n",
       "      <td>12002</td>\n",
       "      <td>'Christian Bale', 'Heath Ledger', 'Aaron Eckhart'</td>\n",
       "      <td>Charles Roven,Christopher Nolan,Emma Thomas,Lorne Orleans</td>\n",
       "      <td>Christopher Nolan</td>\n",
       "      <td>2008-07-16</td>\n",
       "    </tr>\n",
       "    <tr>\n",
       "      <th>3232</th>\n",
       "      <td>680</td>\n",
       "      <td>Pulp Fiction</td>\n",
       "      <td>Thriller,Crime</td>\n",
       "      <td>Miramax Films,A Band Apart,Jersey Films</td>\n",
       "      <td>121.463076</td>\n",
       "      <td>8.3</td>\n",
       "      <td>8428</td>\n",
       "      <td>'John Travolta', 'Samuel L. Jackson', 'Uma Thurman'</td>\n",
       "      <td>Lawrence Bender</td>\n",
       "      <td>Quentin Tarantino</td>\n",
       "      <td>1994-10-08</td>\n",
       "    </tr>\n",
       "    <tr>\n",
       "      <th>96</th>\n",
       "      <td>27205</td>\n",
       "      <td>Inception</td>\n",
       "      <td>Action,Thriller,Science Fiction,Mystery,Adventure</td>\n",
       "      <td>Legendary Pictures,Warner Bros.,Syncopy</td>\n",
       "      <td>167.583710</td>\n",
       "      <td>8.1</td>\n",
       "      <td>13752</td>\n",
       "      <td>'Leonardo DiCaprio', 'Ellen Page', 'Tom Hardy'</td>\n",
       "      <td>Christopher Nolan,Emma Thomas</td>\n",
       "      <td>Christopher Nolan</td>\n",
       "      <td>2010-07-14</td>\n",
       "    </tr>\n",
       "    <tr>\n",
       "      <th>3337</th>\n",
       "      <td>238</td>\n",
       "      <td>The Godfather</td>\n",
       "      <td>Drama,Crime</td>\n",
       "      <td>Paramount Pictures,Alfran Productions</td>\n",
       "      <td>143.659698</td>\n",
       "      <td>8.4</td>\n",
       "      <td>5893</td>\n",
       "      <td>'Marlon Brando', 'Al Pacino', 'James Caan'</td>\n",
       "      <td>Albert S. Ruddy</td>\n",
       "      <td>Francis Ford Coppola</td>\n",
       "      <td>1972-03-14</td>\n",
       "    </tr>\n",
       "    <tr>\n",
       "      <th>95</th>\n",
       "      <td>157336</td>\n",
       "      <td>Interstellar</td>\n",
       "      <td>Adventure,Drama,Science Fiction</td>\n",
       "      <td>Paramount Pictures,Legendary Pictures,Warner Bros.,Syncopy,Lynda Obst Productions</td>\n",
       "      <td>724.247784</td>\n",
       "      <td>8.1</td>\n",
       "      <td>10867</td>\n",
       "      <td>'Matthew McConaughey', 'Jessica Chastain', 'Anne Hathaway'</td>\n",
       "      <td>Christopher Nolan,Emma Thomas,Lynda Obst</td>\n",
       "      <td>Christopher Nolan</td>\n",
       "      <td>2014-11-05</td>\n",
       "    </tr>\n",
       "    <tr>\n",
       "      <th>809</th>\n",
       "      <td>13</td>\n",
       "      <td>Forrest Gump</td>\n",
       "      <td>Comedy,Drama,Romance</td>\n",
       "      <td>Paramount Pictures</td>\n",
       "      <td>138.133331</td>\n",
       "      <td>8.2</td>\n",
       "      <td>7927</td>\n",
       "      <td>'Tom Hanks', 'Robin Wright', 'Gary Sinise'</td>\n",
       "      <td>Wendy Finerman,Steve Tisch,Steve Starkey</td>\n",
       "      <td>Robert Zemeckis</td>\n",
       "      <td>1994-07-06</td>\n",
       "    </tr>\n",
       "    <tr>\n",
       "      <th>329</th>\n",
       "      <td>122</td>\n",
       "      <td>The Lord of the Rings: The Return of the King</td>\n",
       "      <td>Adventure,Fantasy,Action</td>\n",
       "      <td>WingNut Films,New Line Cinema</td>\n",
       "      <td>123.630332</td>\n",
       "      <td>8.1</td>\n",
       "      <td>8064</td>\n",
       "      <td>'Elijah Wood', 'Ian McKellen', 'Viggo Mortensen'</td>\n",
       "      <td>Barrie M. Osborne,Peter Jackson</td>\n",
       "      <td>Peter Jackson</td>\n",
       "      <td>2003-12-01</td>\n",
       "    </tr>\n",
       "    <tr>\n",
       "      <th>1990</th>\n",
       "      <td>1891</td>\n",
       "      <td>The Empire Strikes Back</td>\n",
       "      <td>Adventure,Action,Science Fiction</td>\n",
       "      <td>Lucasfilm,Twentieth Century Fox Film Corporation</td>\n",
       "      <td>78.517830</td>\n",
       "      <td>8.2</td>\n",
       "      <td>5879</td>\n",
       "      <td>'Mark Hamill', 'Harrison Ford', 'Carrie Fisher'</td>\n",
       "      <td>Gary Kurtz,Howard G. Kazanjian</td>\n",
       "      <td>Irvin Kershner</td>\n",
       "      <td>1980-05-17</td>\n",
       "    </tr>\n",
       "  </tbody>\n",
       "</table>\n",
       "</div>"
      ],
      "text/plain": [
       "          id                                          title                                             genres                                                                                    production_companies  popularity  vote_average  vote_count                                                   cast_name                                                   producer              director release_date\n",
       "1881  278     The Shawshank Redemption                       Drama,Crime                                        Castle Rock Entertainment                                                                               136.747729  8.5           8205        'Tim Robbins', 'Morgan Freeman', 'Bob Gunton'               Niki Marvin                                                Frank Darabont        1994-09-23 \n",
       "662   550     Fight Club                                     Drama                                              Regency Enterprises,Fox 2000 Pictures,Taurus Film,Linson Films,Atman Entertainment,Knickerbocker Films  146.757391  8.3           9413        'Edward Norton', 'Brad Pitt', 'Meat Loaf'                   Art Linson,Ross Grayson Bell                               David Fincher         1999-10-15 \n",
       "65    155     The Dark Knight                                Drama,Action,Crime,Thriller                        DC Comics,Legendary Pictures,Warner Bros.,DC Entertainment,Syncopy                                      187.322927  8.2           12002       'Christian Bale', 'Heath Ledger', 'Aaron Eckhart'           Charles Roven,Christopher Nolan,Emma Thomas,Lorne Orleans  Christopher Nolan     2008-07-16 \n",
       "3232  680     Pulp Fiction                                   Thriller,Crime                                     Miramax Films,A Band Apart,Jersey Films                                                                 121.463076  8.3           8428        'John Travolta', 'Samuel L. Jackson', 'Uma Thurman'         Lawrence Bender                                            Quentin Tarantino     1994-10-08 \n",
       "96    27205   Inception                                      Action,Thriller,Science Fiction,Mystery,Adventure  Legendary Pictures,Warner Bros.,Syncopy                                                                 167.583710  8.1           13752       'Leonardo DiCaprio', 'Ellen Page', 'Tom Hardy'              Christopher Nolan,Emma Thomas                              Christopher Nolan     2010-07-14 \n",
       "3337  238     The Godfather                                  Drama,Crime                                        Paramount Pictures,Alfran Productions                                                                   143.659698  8.4           5893        'Marlon Brando', 'Al Pacino', 'James Caan'                  Albert S. Ruddy                                            Francis Ford Coppola  1972-03-14 \n",
       "95    157336  Interstellar                                   Adventure,Drama,Science Fiction                    Paramount Pictures,Legendary Pictures,Warner Bros.,Syncopy,Lynda Obst Productions                       724.247784  8.1           10867       'Matthew McConaughey', 'Jessica Chastain', 'Anne Hathaway'  Christopher Nolan,Emma Thomas,Lynda Obst                   Christopher Nolan     2014-11-05 \n",
       "809   13      Forrest Gump                                   Comedy,Drama,Romance                               Paramount Pictures                                                                                      138.133331  8.2           7927        'Tom Hanks', 'Robin Wright', 'Gary Sinise'                  Wendy Finerman,Steve Tisch,Steve Starkey                   Robert Zemeckis       1994-07-06 \n",
       "329   122     The Lord of the Rings: The Return of the King  Adventure,Fantasy,Action                           WingNut Films,New Line Cinema                                                                           123.630332  8.1           8064        'Elijah Wood', 'Ian McKellen', 'Viggo Mortensen'            Barrie M. Osborne,Peter Jackson                            Peter Jackson         2003-12-01 \n",
       "1990  1891    The Empire Strikes Back                        Adventure,Action,Science Fiction                   Lucasfilm,Twentieth Century Fox Film Corporation                                                        78.517830   8.2           5879        'Mark Hamill', 'Harrison Ford', 'Carrie Fisher'             Gary Kurtz,Howard G. Kazanjian                             Irvin Kershner        1980-05-17 "
      ]
     },
     "execution_count": 12,
     "metadata": {},
     "output_type": "execute_result"
    }
   ],
   "source": [
    "#get top 10 weigthed rating\n",
    "q_movies.head(10)[['id','title','genres','production_companies','popularity','vote_average','vote_count','cast_name','producer','director','release_date',]]"
   ]
  },
  {
   "cell_type": "markdown",
   "metadata": {},
   "source": [
    "This model can give us Top 10 Movies in the TMDB list but we need a more flexible function so more film can be recommended."
   ]
  },
  {
   "cell_type": "markdown",
   "metadata": {},
   "source": [
    "## Recomendation base on Overview or Keywords"
   ]
  },
  {
   "cell_type": "markdown",
   "metadata": {},
   "source": [
    "### base on Overview"
   ]
  },
  {
   "cell_type": "code",
   "execution_count": 13,
   "metadata": {
    "ExecuteTime": {
     "end_time": "2019-12-11T10:39:33.297719Z",
     "start_time": "2019-12-11T10:39:32.295183Z"
    },
    "code_folding": []
   },
   "outputs": [],
   "source": [
    "#Import TfIdfVectorizer from scikit-learn\n",
    "from sklearn.feature_extraction.text import TfidfVectorizer\n",
    "# Import linear_kernel\n",
    "from sklearn.metrics.pairwise import linear_kernel\n",
    "\n",
    "def create_cosine_sim(df, col):\n",
    "    #Define a TF-IDF Vectorizer Object. Remove all english stop words such as 'the', 'a'\n",
    "    tfidf = TfidfVectorizer(stop_words='english')\n",
    "\n",
    "    #Construct the required TF-IDF matrix by fitting and transforming the data\n",
    "    tfidf_matrix = tfidf.fit_transform(df[col])\n",
    "    \n",
    "    # Compute the cosine similarity matrix\n",
    "    cosine_sim = linear_kernel(tfidf_matrix, tfidf_matrix)\n",
    "    \n",
    "    return cosine_sim\n",
    "\n",
    "def get_recommendations(df, title, cosine_sim):\n",
    "    # Get the index of the movie that matches the title\n",
    "    idx = indices[title]\n",
    "\n",
    "    # Get the pairwsie similarity scores of all movies with that movie (pair of the index and the similarity scores)\n",
    "    # by taking 1 row that represent the movie in cosine_sim matrix\n",
    "    sim_scores = list(enumerate(cosine_sim[idx]))\n",
    "\n",
    "    # Sort the similarity scores, so we can get the most similar movie with the title that was given\n",
    "    sim_scores = sorted(sim_scores, key=lambda x: x[1], reverse=True)\n",
    "\n",
    "    # Get the scores of the 10 most similar movies, exclude index 0 because it is the title that was given\n",
    "    sim_scores = sim_scores[1:11]\n",
    "\n",
    "    # Get the movie indices\n",
    "    movie_indices = [i[0] for i in sim_scores]\n",
    "\n",
    "    # Return the top 10 most similar movies\n",
    "    return df['title'].iloc[movie_indices]"
   ]
  },
  {
   "cell_type": "code",
   "execution_count": 14,
   "metadata": {
    "ExecuteTime": {
     "end_time": "2019-12-11T10:39:33.744720Z",
     "start_time": "2019-12-11T10:39:33.297719Z"
    }
   },
   "outputs": [
    {
     "data": {
      "text/plain": [
       "(4803, 4803)"
      ]
     },
     "execution_count": 14,
     "metadata": {},
     "output_type": "execute_result"
    }
   ],
   "source": [
    "cosine_sim = create_cosine_sim(movie_df, 'overview')\n",
    "cosine_sim.shape"
   ]
  },
  {
   "cell_type": "code",
   "execution_count": 15,
   "metadata": {
    "ExecuteTime": {
     "end_time": "2019-12-11T10:39:33.755665Z",
     "start_time": "2019-12-11T10:39:33.746690Z"
    }
   },
   "outputs": [],
   "source": [
    "#Construct a reverse map of indices and movie titles, so we can get the index base on movie's title\n",
    "indices = pd.Series(movie_df.index, index=movie_df['title']).drop_duplicates()"
   ]
  },
  {
   "cell_type": "code",
   "execution_count": 49,
   "metadata": {
    "ExecuteTime": {
     "end_time": "2019-12-11T10:49:31.409013Z",
     "start_time": "2019-12-11T10:49:31.402002Z"
    }
   },
   "outputs": [],
   "source": [
    "def create_df_overview(input_title):\n",
    "    movie_title = get_recommendations(movie_df, input_title, cosine_sim)\n",
    "    movie_rank = pd.Series([1,2,3,4,5,6,7,8,9,10], index=movie_title.index, name='Rank')\n",
    "    recommendation_df = pd.DataFrame([movie_title,movie_rank]).transpose()\n",
    "    movie_recommendation = pd.merge(movie_df[['title','overview']],recommendation_df, left_on='title', right_on = 'title')\n",
    "    return movie_recommendation.sort_values('Rank')[['Rank','title','overview']]"
   ]
  },
  {
   "cell_type": "code",
   "execution_count": 51,
   "metadata": {
    "ExecuteTime": {
     "end_time": "2019-12-11T10:49:50.897434Z",
     "start_time": "2019-12-11T10:49:50.876466Z"
    }
   },
   "outputs": [
    {
     "data": {
      "text/html": [
       "<div>\n",
       "<style scoped>\n",
       "    .dataframe tbody tr th:only-of-type {\n",
       "        vertical-align: middle;\n",
       "    }\n",
       "\n",
       "    .dataframe tbody tr th {\n",
       "        vertical-align: top;\n",
       "    }\n",
       "\n",
       "    .dataframe thead th {\n",
       "        text-align: right;\n",
       "    }\n",
       "</style>\n",
       "<table border=\"1\" class=\"dataframe\">\n",
       "  <thead>\n",
       "    <tr style=\"text-align: right;\">\n",
       "      <th></th>\n",
       "      <th>Rank</th>\n",
       "      <th>title</th>\n",
       "      <th>overview</th>\n",
       "    </tr>\n",
       "  </thead>\n",
       "  <tbody>\n",
       "    <tr>\n",
       "      <th>1</th>\n",
       "      <td>1</td>\n",
       "      <td>The Dark Knight</td>\n",
       "      <td>Batman raises the stakes in his war on crime. With the help of Lt. Jim Gordon and District Attorney Harvey Dent, Batman sets out to dismantle the remaining criminal organizations that plague the streets. The partnership proves to be effective, but they soon find themselves prey to a reign of chaos unleashed by a rising criminal mastermind known to the terrified citizens of Gotham as the Joker.</td>\n",
       "    </tr>\n",
       "    <tr>\n",
       "      <th>4</th>\n",
       "      <td>2</td>\n",
       "      <td>Batman Forever</td>\n",
       "      <td>The Dark Knight of Gotham City confronts a dastardly duo: Two-Face and the Riddler. Formerly District Attorney Harvey Dent, Two-Face believes Batman caused the courtroom accident which left him disfigured on one side. And Edward Nygma, computer-genius and former employee of millionaire Bruce Wayne, is out to get the philanthropist; as The Riddler. Former circus acrobat Dick Grayson, his family killed by Two-Face, becomes Wayne's ward and Batman's new partner Robin.</td>\n",
       "    </tr>\n",
       "    <tr>\n",
       "      <th>5</th>\n",
       "      <td>3</td>\n",
       "      <td>Batman Returns</td>\n",
       "      <td>Having defeated the Joker, Batman now faces the Penguin - a warped and deformed individual who is intent on being accepted into Gotham society. Crooked businessman Max Schreck is coerced into helping him become Mayor of Gotham and they both attempt to expose Batman in a different light. Selina Kyle, Max's secretary, is thrown from the top of a building and is transformed into Catwoman - a mysterious figure who has the same personality disorder as Batman. Batman must attempt to clear his name, all the time deciding just what must be done with the Catwoman.</td>\n",
       "    </tr>\n",
       "    <tr>\n",
       "      <th>7</th>\n",
       "      <td>4</td>\n",
       "      <td>Batman</td>\n",
       "      <td>The Dark Knight of Gotham City begins his war on crime with his first major enemy being the clownishly homicidal Joker, who has seized control of Gotham's underworld.</td>\n",
       "    </tr>\n",
       "    <tr>\n",
       "      <th>8</th>\n",
       "      <td>4</td>\n",
       "      <td>Batman</td>\n",
       "      <td>The Dynamic Duo faces four super-villains who plan to hold the world for ransom with the help of a secret invention that instantly dehydrates people.</td>\n",
       "    </tr>\n",
       "    <tr>\n",
       "      <th>10</th>\n",
       "      <td>5</td>\n",
       "      <td>Batman: The Dark Knight Returns, Part 2</td>\n",
       "      <td>Batman has stopped the reign of terror that The Mutants had cast upon his city.  Now an old foe wants a reunion and the government wants The Man of Steel to put a stop to Batman.</td>\n",
       "    </tr>\n",
       "    <tr>\n",
       "      <th>2</th>\n",
       "      <td>6</td>\n",
       "      <td>Batman Begins</td>\n",
       "      <td>Driven by tragedy, billionaire Bruce Wayne dedicates his life to uncovering and defeating the corruption that plagues his home, Gotham City.  Unable to work within the system, he instead creates a new identity, a symbol of fear for the criminal underworld - The Batman.</td>\n",
       "    </tr>\n",
       "    <tr>\n",
       "      <th>9</th>\n",
       "      <td>7</td>\n",
       "      <td>Slow Burn</td>\n",
       "      <td>A district attorney (Ray Liotta) is involved in a 24-hour showdown with a gang leader (LL Cool J) and is, at the same time, being manipulated by an attractive assistant district attorney (Jolene Blalock) and a cryptic stranger.</td>\n",
       "    </tr>\n",
       "    <tr>\n",
       "      <th>6</th>\n",
       "      <td>8</td>\n",
       "      <td>JFK</td>\n",
       "      <td>New Orleans District Attorney Jim Garrison discovers there's more to the Kennedy assassination than the official story.</td>\n",
       "    </tr>\n",
       "    <tr>\n",
       "      <th>3</th>\n",
       "      <td>9</td>\n",
       "      <td>Batman &amp; Robin</td>\n",
       "      <td>Along with crime-fighting partner Robin and new recruit Batgirl, Batman battles the dual threat of frosty genius Mr. Freeze and homicidal horticulturalist Poison Ivy. Freeze plans to put Gotham City on ice, while Ivy tries to drive a wedge between the dynamic duo.</td>\n",
       "    </tr>\n",
       "    <tr>\n",
       "      <th>0</th>\n",
       "      <td>10</td>\n",
       "      <td>Batman v Superman: Dawn of Justice</td>\n",
       "      <td>Fearing the actions of a god-like Super Hero left unchecked, Gotham CityÃÂ¢ÃÂÃÂs own formidable, forceful vigilante takes on MetropolisÃÂ¢ÃÂÃÂs most revered, modern-day savior, while the world wrestles with what sort of hero it really needs. And with Batman and Superman at war with one another, a new threat quickly arises, putting mankind in greater danger than itÃÂ¢ÃÂÃÂs ever known before.</td>\n",
       "    </tr>\n",
       "  </tbody>\n",
       "</table>\n",
       "</div>"
      ],
      "text/plain": [
       "   Rank                                    title  \\\n",
       "1   1    The Dark Knight                           \n",
       "4   2    Batman Forever                            \n",
       "5   3    Batman Returns                            \n",
       "7   4    Batman                                    \n",
       "8   4    Batman                                    \n",
       "10  5    Batman: The Dark Knight Returns, Part 2   \n",
       "2   6    Batman Begins                             \n",
       "9   7    Slow Burn                                 \n",
       "6   8    JFK                                       \n",
       "3   9    Batman & Robin                            \n",
       "0   10   Batman v Superman: Dawn of Justice        \n",
       "\n",
       "                                                                                                                                                                                                                                                                                                                                                                                                                                                                                                                                                                             overview  \n",
       "1   Batman raises the stakes in his war on crime. With the help of Lt. Jim Gordon and District Attorney Harvey Dent, Batman sets out to dismantle the remaining criminal organizations that plague the streets. The partnership proves to be effective, but they soon find themselves prey to a reign of chaos unleashed by a rising criminal mastermind known to the terrified citizens of Gotham as the Joker.                                                                                                                                                                       \n",
       "4   The Dark Knight of Gotham City confronts a dastardly duo: Two-Face and the Riddler. Formerly District Attorney Harvey Dent, Two-Face believes Batman caused the courtroom accident which left him disfigured on one side. And Edward Nygma, computer-genius and former employee of millionaire Bruce Wayne, is out to get the philanthropist; as The Riddler. Former circus acrobat Dick Grayson, his family killed by Two-Face, becomes Wayne's ward and Batman's new partner Robin.                                                                                              \n",
       "5   Having defeated the Joker, Batman now faces the Penguin - a warped and deformed individual who is intent on being accepted into Gotham society. Crooked businessman Max Schreck is coerced into helping him become Mayor of Gotham and they both attempt to expose Batman in a different light. Selina Kyle, Max's secretary, is thrown from the top of a building and is transformed into Catwoman - a mysterious figure who has the same personality disorder as Batman. Batman must attempt to clear his name, all the time deciding just what must be done with the Catwoman.  \n",
       "7   The Dark Knight of Gotham City begins his war on crime with his first major enemy being the clownishly homicidal Joker, who has seized control of Gotham's underworld.                                                                                                                                                                                                                                                                                                                                                                                                             \n",
       "8   The Dynamic Duo faces four super-villains who plan to hold the world for ransom with the help of a secret invention that instantly dehydrates people.                                                                                                                                                                                                                                                                                                                                                                                                                              \n",
       "10  Batman has stopped the reign of terror that The Mutants had cast upon his city.  Now an old foe wants a reunion and the government wants The Man of Steel to put a stop to Batman.                                                                                                                                                                                                                                                                                                                                                                                                 \n",
       "2   Driven by tragedy, billionaire Bruce Wayne dedicates his life to uncovering and defeating the corruption that plagues his home, Gotham City.  Unable to work within the system, he instead creates a new identity, a symbol of fear for the criminal underworld - The Batman.                                                                                                                                                                                                                                                                                                      \n",
       "9   A district attorney (Ray Liotta) is involved in a 24-hour showdown with a gang leader (LL Cool J) and is, at the same time, being manipulated by an attractive assistant district attorney (Jolene Blalock) and a cryptic stranger.                                                                                                                                                                                                                                                                                                                                                \n",
       "6   New Orleans District Attorney Jim Garrison discovers there's more to the Kennedy assassination than the official story.                                                                                                                                                                                                                                                                                                                                                                                                                                                            \n",
       "3   Along with crime-fighting partner Robin and new recruit Batgirl, Batman battles the dual threat of frosty genius Mr. Freeze and homicidal horticulturalist Poison Ivy. Freeze plans to put Gotham City on ice, while Ivy tries to drive a wedge between the dynamic duo.                                                                                                                                                                                                                                                                                                           \n",
       "0   Fearing the actions of a god-like Super Hero left unchecked, Gotham CityÃÂ¢ÃÂÃÂs own formidable, forceful vigilante takes on MetropolisÃÂ¢ÃÂÃÂs most revered, modern-day savior, while the world wrestles with what sort of hero it really needs. And with Batman and Superman at war with one another, a new threat quickly arises, putting mankind in greater danger than itÃÂ¢ÃÂÃÂs ever known before.                                                                                                                                                           "
      ]
     },
     "execution_count": 51,
     "metadata": {},
     "output_type": "execute_result"
    }
   ],
   "source": [
    "create_df_overview('The Dark Knight Rises')"
   ]
  },
  {
   "cell_type": "code",
   "execution_count": 50,
   "metadata": {
    "ExecuteTime": {
     "end_time": "2019-12-11T10:49:46.040285Z",
     "start_time": "2019-12-11T10:49:46.018343Z"
    }
   },
   "outputs": [
    {
     "data": {
      "text/html": [
       "<div>\n",
       "<style scoped>\n",
       "    .dataframe tbody tr th:only-of-type {\n",
       "        vertical-align: middle;\n",
       "    }\n",
       "\n",
       "    .dataframe tbody tr th {\n",
       "        vertical-align: top;\n",
       "    }\n",
       "\n",
       "    .dataframe thead th {\n",
       "        text-align: right;\n",
       "    }\n",
       "</style>\n",
       "<table border=\"1\" class=\"dataframe\">\n",
       "  <thead>\n",
       "    <tr style=\"text-align: right;\">\n",
       "      <th></th>\n",
       "      <th>Rank</th>\n",
       "      <th>title</th>\n",
       "      <th>overview</th>\n",
       "    </tr>\n",
       "  </thead>\n",
       "  <tbody>\n",
       "    <tr>\n",
       "      <th>4</th>\n",
       "      <td>1</td>\n",
       "      <td>The Lord of the Rings: The Two Towers</td>\n",
       "      <td>Frodo and Sam are trekking to Mordor to destroy the One Ring of Power while Gimli, Legolas and Aragorn search for the orc-captured Merry and Pippin. All along, nefarious wizard Saruman awaits the Fellowship members at the Orthanc Tower in Isengard.</td>\n",
       "    </tr>\n",
       "    <tr>\n",
       "      <th>3</th>\n",
       "      <td>2</td>\n",
       "      <td>The Lord of the Rings: The Fellowship of the Ring</td>\n",
       "      <td>Young hobbit Frodo Baggins, after inheriting a mysterious ring from his uncle Bilbo, must leave his home in order to keep it from falling into the hands of its evil creator. Along the way, a fellowship is formed to protect the ringbearer and make sure that the ring arrives at its final destination: Mt. Doom, the only place where it can be destroyed.</td>\n",
       "    </tr>\n",
       "    <tr>\n",
       "      <th>2</th>\n",
       "      <td>3</td>\n",
       "      <td>Transformers</td>\n",
       "      <td>Young teenager, Sam Witwicky becomes involved in the ancient struggle between two extraterrestrial factions of transforming robots ÃÂ¢ÃÂÃÂ the heroic Autobots and the evil Decepticons. Sam holds the clue to unimaginable power and the Decepticons will stop at nothing to retrieve it.</td>\n",
       "    </tr>\n",
       "    <tr>\n",
       "      <th>0</th>\n",
       "      <td>4</td>\n",
       "      <td>The Hobbit: The Desolation of Smaug</td>\n",
       "      <td>The Dwarves, Bilbo and Gandalf have successfully escaped the Misty Mountains, and Bilbo has gained the One Ring. They all continue their journey to get their gold back from the Dragon, Smaug.</td>\n",
       "    </tr>\n",
       "    <tr>\n",
       "      <th>8</th>\n",
       "      <td>5</td>\n",
       "      <td>Night Watch</td>\n",
       "      <td>Among normal humans live the \"Others\" possessing various supernatural powers. They are divided up into the forces of light and the forces of the dark, who signed a truce several centuries ago to end a devastating battle. Ever since, the forces of light govern the day while the night belongs to their dark opponents. In modern day Moscow the dark Others actually roam the night as vampires while a \"Night Watch\" of light forces, among them Anton, the movie's protagonist, try to control them and limit their outrage</td>\n",
       "    </tr>\n",
       "    <tr>\n",
       "      <th>7</th>\n",
       "      <td>6</td>\n",
       "      <td>Once Upon a Time in the West</td>\n",
       "      <td>This classic western masterpiece is an epic film about a widow whose land and life are in danger as the railroad is getting closer and closer to taking them over. A mysterious harmonica player joins forces with a desperado to protect the woman and her land.</td>\n",
       "    </tr>\n",
       "    <tr>\n",
       "      <th>9</th>\n",
       "      <td>7</td>\n",
       "      <td>Sparkler</td>\n",
       "      <td>Melba is a Californian trailer-park girl who is told to look for three kings by a phone psychic, and when she meets three guys - Trent, Brad and Joel traveling to Las Vegas, she decides they are those kings and joins them on a trip. In Vegas she meets her old high school pal Dottie.</td>\n",
       "    </tr>\n",
       "    <tr>\n",
       "      <th>1</th>\n",
       "      <td>8</td>\n",
       "      <td>Prince of Persia: The Sands of Time</td>\n",
       "      <td>A rogue prince reluctantly joins forces with a mysterious princess and together, they race against dark forces to safeguard an ancient dagger capable of releasing the Sands of Time ÃÂ¢ÃÂÃÂ gift from the gods that can reverse time and allow its possessor to rule the world.</td>\n",
       "    </tr>\n",
       "    <tr>\n",
       "      <th>5</th>\n",
       "      <td>9</td>\n",
       "      <td>I Am Sam</td>\n",
       "      <td>Sam has the mental capacity of a 7-year-old. He has a daughter with a homeless woman who abandons them when they leave the hospital, leaving Sam to raise Lucy on his own. But as Lucy grows up, Sam's limitations start to become a problem and the authorities take her away. Sam shames high-priced lawyer Rita into taking his case pro bono and in turn teaches her the value of love and family.</td>\n",
       "    </tr>\n",
       "    <tr>\n",
       "      <th>6</th>\n",
       "      <td>10</td>\n",
       "      <td>Ouija</td>\n",
       "      <td>A group of friends must confront their most terrifying fears when they awaken the dark powers of an ancient spirit board.</td>\n",
       "    </tr>\n",
       "  </tbody>\n",
       "</table>\n",
       "</div>"
      ],
      "text/plain": [
       "  Rank                                              title  \\\n",
       "4  1    The Lord of the Rings: The Two Towers               \n",
       "3  2    The Lord of the Rings: The Fellowship of the Ring   \n",
       "2  3    Transformers                                        \n",
       "0  4    The Hobbit: The Desolation of Smaug                 \n",
       "8  5    Night Watch                                         \n",
       "7  6    Once Upon a Time in the West                        \n",
       "9  7    Sparkler                                            \n",
       "1  8    Prince of Persia: The Sands of Time                 \n",
       "5  9    I Am Sam                                            \n",
       "6  10   Ouija                                               \n",
       "\n",
       "                                                                                                                                                                                                                                                                                                                                                                                                                                                                                                                              overview  \n",
       "4  Frodo and Sam are trekking to Mordor to destroy the One Ring of Power while Gimli, Legolas and Aragorn search for the orc-captured Merry and Pippin. All along, nefarious wizard Saruman awaits the Fellowship members at the Orthanc Tower in Isengard.                                                                                                                                                                                                                                                                             \n",
       "3  Young hobbit Frodo Baggins, after inheriting a mysterious ring from his uncle Bilbo, must leave his home in order to keep it from falling into the hands of its evil creator. Along the way, a fellowship is formed to protect the ringbearer and make sure that the ring arrives at its final destination: Mt. Doom, the only place where it can be destroyed.                                                                                                                                                                      \n",
       "2  Young teenager, Sam Witwicky becomes involved in the ancient struggle between two extraterrestrial factions of transforming robots ÃÂ¢ÃÂÃÂ the heroic Autobots and the evil Decepticons. Sam holds the clue to unimaginable power and the Decepticons will stop at nothing to retrieve it.                                                                                                                                                                                                                                      \n",
       "0  The Dwarves, Bilbo and Gandalf have successfully escaped the Misty Mountains, and Bilbo has gained the One Ring. They all continue their journey to get their gold back from the Dragon, Smaug.                                                                                                                                                                                                                                                                                                                                      \n",
       "8  Among normal humans live the \"Others\" possessing various supernatural powers. They are divided up into the forces of light and the forces of the dark, who signed a truce several centuries ago to end a devastating battle. Ever since, the forces of light govern the day while the night belongs to their dark opponents. In modern day Moscow the dark Others actually roam the night as vampires while a \"Night Watch\" of light forces, among them Anton, the movie's protagonist, try to control them and limit their outrage  \n",
       "7  This classic western masterpiece is an epic film about a widow whose land and life are in danger as the railroad is getting closer and closer to taking them over. A mysterious harmonica player joins forces with a desperado to protect the woman and her land.                                                                                                                                                                                                                                                                    \n",
       "9  Melba is a Californian trailer-park girl who is told to look for three kings by a phone psychic, and when she meets three guys - Trent, Brad and Joel traveling to Las Vegas, she decides they are those kings and joins them on a trip. In Vegas she meets her old high school pal Dottie.                                                                                                                                                                                                                                          \n",
       "1  A rogue prince reluctantly joins forces with a mysterious princess and together, they race against dark forces to safeguard an ancient dagger capable of releasing the Sands of Time ÃÂ¢ÃÂÃÂ gift from the gods that can reverse time and allow its possessor to rule the world.                                                                                                                                                                                                                                                \n",
       "5  Sam has the mental capacity of a 7-year-old. He has a daughter with a homeless woman who abandons them when they leave the hospital, leaving Sam to raise Lucy on his own. But as Lucy grows up, Sam's limitations start to become a problem and the authorities take her away. Sam shames high-priced lawyer Rita into taking his case pro bono and in turn teaches her the value of love and family.                                                                                                                               \n",
       "6  A group of friends must confront their most terrifying fears when they awaken the dark powers of an ancient spirit board.                                                                                                                                                                                                                                                                                                                                                                                                            "
      ]
     },
     "execution_count": 50,
     "metadata": {},
     "output_type": "execute_result"
    }
   ],
   "source": [
    "create_df_overview('The Lord of the Rings: The Return of the King')"
   ]
  },
  {
   "cell_type": "code",
   "execution_count": 52,
   "metadata": {
    "ExecuteTime": {
     "end_time": "2019-12-11T10:49:59.828657Z",
     "start_time": "2019-12-11T10:49:59.806716Z"
    },
    "scrolled": true
   },
   "outputs": [
    {
     "data": {
      "text/html": [
       "<div>\n",
       "<style scoped>\n",
       "    .dataframe tbody tr th:only-of-type {\n",
       "        vertical-align: middle;\n",
       "    }\n",
       "\n",
       "    .dataframe tbody tr th {\n",
       "        vertical-align: top;\n",
       "    }\n",
       "\n",
       "    .dataframe thead th {\n",
       "        text-align: right;\n",
       "    }\n",
       "</style>\n",
       "<table border=\"1\" class=\"dataframe\">\n",
       "  <thead>\n",
       "    <tr style=\"text-align: right;\">\n",
       "      <th></th>\n",
       "      <th>Rank</th>\n",
       "      <th>title</th>\n",
       "      <th>overview</th>\n",
       "    </tr>\n",
       "  </thead>\n",
       "  <tbody>\n",
       "    <tr>\n",
       "      <th>3</th>\n",
       "      <td>1</td>\n",
       "      <td>The Lord of the Rings: The Return of the King</td>\n",
       "      <td>Aragorn is revealed as the heir to the ancient kings as he, Gandalf and the other members of the broken fellowship struggle to save Gondor from Sauron's forces. Meanwhile, Frodo and Sam bring the ring closer to the heart of Mordor, the dark lord's realm.</td>\n",
       "    </tr>\n",
       "    <tr>\n",
       "      <th>2</th>\n",
       "      <td>2</td>\n",
       "      <td>The Lord of the Rings: The Fellowship of the Ring</td>\n",
       "      <td>Young hobbit Frodo Baggins, after inheriting a mysterious ring from his uncle Bilbo, must leave his home in order to keep it from falling into the hands of its evil creator. Along the way, a fellowship is formed to protect the ringbearer and make sure that the ring arrives at its final destination: Mt. Doom, the only place where it can be destroyed.</td>\n",
       "    </tr>\n",
       "    <tr>\n",
       "      <th>0</th>\n",
       "      <td>3</td>\n",
       "      <td>Tangled</td>\n",
       "      <td>When the kingdom's most wanted-and most charming-bandit Flynn Rider hides out in a mysterious tower, he's taken hostage by Rapunzel, a beautiful and feisty tower-bound teen with 70 feet of magical, golden hair. Flynn's curious captor, who's looking for her ticket out of the tower where she's been locked away for years, strikes a deal with the handsome thief and the unlikely duo sets off on an action-packed escapade, complete with a super-cop horse, an over-protective chameleon and a gruff gang of pub thugs.</td>\n",
       "    </tr>\n",
       "    <tr>\n",
       "      <th>5</th>\n",
       "      <td>4</td>\n",
       "      <td>Underclassman</td>\n",
       "      <td>A young detective goes undercover at an elite private school to destroy an international stolen car ring.</td>\n",
       "    </tr>\n",
       "    <tr>\n",
       "      <th>6</th>\n",
       "      <td>5</td>\n",
       "      <td>I Am Sam</td>\n",
       "      <td>Sam has the mental capacity of a 7-year-old. He has a daughter with a homeless woman who abandons them when they leave the hospital, leaving Sam to raise Lucy on his own. But as Lucy grows up, Sam's limitations start to become a problem and the authorities take her away. Sam shames high-priced lawyer Rita into taking his case pro bono and in turn teaches her the value of love and family.</td>\n",
       "    </tr>\n",
       "    <tr>\n",
       "      <th>7</th>\n",
       "      <td>6</td>\n",
       "      <td>Steamboy</td>\n",
       "      <td>After receiving a package from his Grandfather, Rei, a young inventor living in England during the mid-19th century, has his life thrown into disarray. The package contains a \"Steam Ball\", a device of incredible power, and a letter asking him to guard it. Rei must evade capture from the nefarious \"O'Hara Foundation\" who will do anything to steal the device and use it for their own nefarious means.</td>\n",
       "    </tr>\n",
       "    <tr>\n",
       "      <th>4</th>\n",
       "      <td>7</td>\n",
       "      <td>Krull</td>\n",
       "      <td>A prince and a fellowship of companions set out to rescue his bride from a fortress of alien invaders who have arrived on their home planet.</td>\n",
       "    </tr>\n",
       "    <tr>\n",
       "      <th>1</th>\n",
       "      <td>8</td>\n",
       "      <td>Transformers</td>\n",
       "      <td>Young teenager, Sam Witwicky becomes involved in the ancient struggle between two extraterrestrial factions of transforming robots ÃÂ¢ÃÂÃÂ the heroic Autobots and the evil Decepticons. Sam holds the clue to unimaginable power and the Decepticons will stop at nothing to retrieve it.</td>\n",
       "    </tr>\n",
       "    <tr>\n",
       "      <th>9</th>\n",
       "      <td>9</td>\n",
       "      <td>Small Apartments</td>\n",
       "      <td>When a clumsy deadbeat accidentally kills his landlord, he must do everything in his power to hide the body, only to find that the distractions of lust, the death of his beloved brother, and a crew of misfit characters force him on a journey where a fortune awaits him.</td>\n",
       "    </tr>\n",
       "    <tr>\n",
       "      <th>8</th>\n",
       "      <td>10</td>\n",
       "      <td>Out of Inferno</td>\n",
       "      <td>On the hottest day in 50 years, a serious fire incident happened to a busy commercial tower, a gaggle of fire fighters with an indestructible enthusiasm are going to save lives.</td>\n",
       "    </tr>\n",
       "  </tbody>\n",
       "</table>\n",
       "</div>"
      ],
      "text/plain": [
       "  Rank                                              title  \\\n",
       "3  1    The Lord of the Rings: The Return of the King       \n",
       "2  2    The Lord of the Rings: The Fellowship of the Ring   \n",
       "0  3    Tangled                                             \n",
       "5  4    Underclassman                                       \n",
       "6  5    I Am Sam                                            \n",
       "7  6    Steamboy                                            \n",
       "4  7    Krull                                               \n",
       "1  8    Transformers                                        \n",
       "9  9    Small Apartments                                    \n",
       "8  10   Out of Inferno                                      \n",
       "\n",
       "                                                                                                                                                                                                                                                                                                                                                                                                                                                                                                                           overview  \n",
       "3  Aragorn is revealed as the heir to the ancient kings as he, Gandalf and the other members of the broken fellowship struggle to save Gondor from Sauron's forces. Meanwhile, Frodo and Sam bring the ring closer to the heart of Mordor, the dark lord's realm.                                                                                                                                                                                                                                                                    \n",
       "2  Young hobbit Frodo Baggins, after inheriting a mysterious ring from his uncle Bilbo, must leave his home in order to keep it from falling into the hands of its evil creator. Along the way, a fellowship is formed to protect the ringbearer and make sure that the ring arrives at its final destination: Mt. Doom, the only place where it can be destroyed.                                                                                                                                                                   \n",
       "0  When the kingdom's most wanted-and most charming-bandit Flynn Rider hides out in a mysterious tower, he's taken hostage by Rapunzel, a beautiful and feisty tower-bound teen with 70 feet of magical, golden hair. Flynn's curious captor, who's looking for her ticket out of the tower where she's been locked away for years, strikes a deal with the handsome thief and the unlikely duo sets off on an action-packed escapade, complete with a super-cop horse, an over-protective chameleon and a gruff gang of pub thugs.  \n",
       "5  A young detective goes undercover at an elite private school to destroy an international stolen car ring.                                                                                                                                                                                                                                                                                                                                                                                                                         \n",
       "6  Sam has the mental capacity of a 7-year-old. He has a daughter with a homeless woman who abandons them when they leave the hospital, leaving Sam to raise Lucy on his own. But as Lucy grows up, Sam's limitations start to become a problem and the authorities take her away. Sam shames high-priced lawyer Rita into taking his case pro bono and in turn teaches her the value of love and family.                                                                                                                            \n",
       "7  After receiving a package from his Grandfather, Rei, a young inventor living in England during the mid-19th century, has his life thrown into disarray. The package contains a \"Steam Ball\", a device of incredible power, and a letter asking him to guard it. Rei must evade capture from the nefarious \"O'Hara Foundation\" who will do anything to steal the device and use it for their own nefarious means.                                                                                                                  \n",
       "4  A prince and a fellowship of companions set out to rescue his bride from a fortress of alien invaders who have arrived on their home planet.                                                                                                                                                                                                                                                                                                                                                                                      \n",
       "1  Young teenager, Sam Witwicky becomes involved in the ancient struggle between two extraterrestrial factions of transforming robots ÃÂ¢ÃÂÃÂ the heroic Autobots and the evil Decepticons. Sam holds the clue to unimaginable power and the Decepticons will stop at nothing to retrieve it.                                                                                                                                                                                                                                   \n",
       "9  When a clumsy deadbeat accidentally kills his landlord, he must do everything in his power to hide the body, only to find that the distractions of lust, the death of his beloved brother, and a crew of misfit characters force him on a journey where a fortune awaits him.                                                                                                                                                                                                                                                     \n",
       "8  On the hottest day in 50 years, a serious fire incident happened to a busy commercial tower, a gaggle of fire fighters with an indestructible enthusiasm are going to save lives.                                                                                                                                                                                                                                                                                                                                                 "
      ]
     },
     "execution_count": 52,
     "metadata": {},
     "output_type": "execute_result"
    }
   ],
   "source": [
    "create_df_overview('The Lord of the Rings: The Two Towers')"
   ]
  },
  {
   "cell_type": "markdown",
   "metadata": {},
   "source": [
    "### base on Keyword"
   ]
  },
  {
   "cell_type": "code",
   "execution_count": 20,
   "metadata": {
    "ExecuteTime": {
     "end_time": "2019-12-11T10:39:34.560051Z",
     "start_time": "2019-12-11T10:39:34.199080Z"
    }
   },
   "outputs": [],
   "source": [
    "#stemmer is used for reduce morphological affixes\n",
    "from nltk.stem.snowball import SnowballStemmer\n",
    "stemmer = SnowballStemmer('english')"
   ]
  },
  {
   "cell_type": "code",
   "execution_count": 21,
   "metadata": {
    "ExecuteTime": {
     "end_time": "2019-12-11T10:39:34.568997Z",
     "start_time": "2019-12-11T10:39:34.562002Z"
    },
    "code_folding": []
   },
   "outputs": [],
   "source": [
    "#function for make set of unique values of a columns\n",
    "def make_set(df,col):\n",
    "    set_keywords = set()\n",
    "    for keyword in df[col].str.split(',').values:\n",
    "        if isinstance(keyword, float): continue\n",
    "        set_keywords = set_keywords.union(keyword)\n",
    "    return set_keywords\n",
    "\n",
    "#function for make a dictionary from a columns\n",
    "def count_word(df, col):\n",
    "    list_word = make_set(df,col)\n",
    "    #make dict for count words\n",
    "    keyword_count = dict()\n",
    "    \n",
    "    #fill dict key with words set default value to 0\n",
    "    for i in list_word: keyword_count[i] = 0\n",
    "    \n",
    "    #loop all data from column, split all the word, set it as a list\n",
    "    for list_key in df[col].str.split(','):  \n",
    "        #ignore NaN\n",
    "        if type(list_key) == float and pd.isnull(list_key): continue  \n",
    "        #loop all tha data, remove word that's not in our list_word\n",
    "        for key in [s for s in list_key if s in list_word]:\n",
    "            #add 1 count for every word that found\n",
    "            keyword_count[key] += 1\n",
    "            \n",
    "    #return unsorted dict\n",
    "    return keyword_count"
   ]
  },
  {
   "cell_type": "code",
   "execution_count": 22,
   "metadata": {
    "ExecuteTime": {
     "end_time": "2019-12-11T10:39:35.350688Z",
     "start_time": "2019-12-11T10:39:34.570979Z"
    },
    "code_folding": []
   },
   "outputs": [
    {
     "name": "stdout",
     "output_type": "stream",
     "text": [
      "5273 1547 804 2145\n"
     ]
    }
   ],
   "source": [
    "#check keyword that only appears once, twice, three times, and four times\n",
    "sum1 = sum2 = sum3 = sum4 = 0\n",
    "for i in count_word(movie_df,'keywords').values():\n",
    "    if i == 1 : sum1 += 1\n",
    "    elif i == 2 : sum2 += 1\n",
    "    elif i == 3 : sum3 += 1\n",
    "    else: sum4 += 1\n",
    "print(sum1 , sum2 , sum3, sum4)"
   ]
  },
  {
   "cell_type": "code",
   "execution_count": 23,
   "metadata": {
    "ExecuteTime": {
     "end_time": "2019-12-11T10:39:36.741456Z",
     "start_time": "2019-12-11T10:39:35.356702Z"
    },
    "code_folding": []
   },
   "outputs": [],
   "source": [
    "#since there are 5273 keywords that appears once and 1547 that appears twice\n",
    "#to reduce the size of matrix, we will only use key words that appears three times or more\n",
    "keywords_list = []\n",
    "for k,v in zip(count_word(movie_df,'keywords').keys(),count_word(movie_df,'keywords').values()):\n",
    "    if v > 2: keywords_list.append(k)"
   ]
  },
  {
   "cell_type": "code",
   "execution_count": 24,
   "metadata": {
    "ExecuteTime": {
     "end_time": "2019-12-11T10:39:36.750098Z",
     "start_time": "2019-12-11T10:39:36.741456Z"
    },
    "code_folding": []
   },
   "outputs": [],
   "source": [
    "#function to reduce keywords and remove space for keywords that have 2 or more words and replace , with space\n",
    "def filter_keywords(param):\n",
    "    words = []\n",
    "    for i in param.split(','):\n",
    "#         print(i)\n",
    "        if i in keywords_list:\n",
    "            stem_i = stemmer.stem(i)\n",
    "            words.append(stem_i)\n",
    "    return re.sub(r' |\\'|\\[|\\]','',str(words)).lower().replace(',',' ')"
   ]
  },
  {
   "cell_type": "code",
   "execution_count": 25,
   "metadata": {
    "ExecuteTime": {
     "end_time": "2019-12-11T10:39:38.139949Z",
     "start_time": "2019-12-11T10:39:36.752089Z"
    }
   },
   "outputs": [],
   "source": [
    "movie_df['keywords'] = movie_df['keywords'].apply(filter_keywords)"
   ]
  },
  {
   "cell_type": "code",
   "execution_count": 26,
   "metadata": {
    "ExecuteTime": {
     "end_time": "2019-12-11T10:39:38.292930Z",
     "start_time": "2019-12-11T10:39:38.139949Z"
    }
   },
   "outputs": [],
   "source": [
    "cosine_sim1 = create_cosine_sim(movie_df, 'keywords')"
   ]
  },
  {
   "cell_type": "code",
   "execution_count": 27,
   "metadata": {
    "ExecuteTime": {
     "end_time": "2019-12-11T10:39:38.300854Z",
     "start_time": "2019-12-11T10:39:38.293871Z"
    }
   },
   "outputs": [],
   "source": [
    "def create_df_keywords(input_movie):\n",
    "    movie_title = get_recommendations(movie_df, input_movie, cosine_sim1)\n",
    "    movie_rank = pd.Series([1,2,3,4,5,6,7,8,9,10], index=movie_title.index, name='Rank')\n",
    "    recommendation_df = pd.DataFrame([movie_title,movie_rank]).transpose()\n",
    "    movie_recommendation = pd.merge(movie_df[['title','keywords']],recommendation_df, left_on='title', right_on = 'title')\n",
    "    return movie_recommendation.sort_values('Rank')[['Rank','title','keywords']]"
   ]
  },
  {
   "cell_type": "code",
   "execution_count": 28,
   "metadata": {
    "ExecuteTime": {
     "end_time": "2019-12-11T10:39:38.415498Z",
     "start_time": "2019-12-11T10:39:38.302849Z"
    }
   },
   "outputs": [
    {
     "data": {
      "text/html": [
       "<div>\n",
       "<style scoped>\n",
       "    .dataframe tbody tr th:only-of-type {\n",
       "        vertical-align: middle;\n",
       "    }\n",
       "\n",
       "    .dataframe tbody tr th {\n",
       "        vertical-align: top;\n",
       "    }\n",
       "\n",
       "    .dataframe thead th {\n",
       "        text-align: right;\n",
       "    }\n",
       "</style>\n",
       "<table border=\"1\" class=\"dataframe\">\n",
       "  <thead>\n",
       "    <tr style=\"text-align: right;\">\n",
       "      <th></th>\n",
       "      <th>Rank</th>\n",
       "      <th>title</th>\n",
       "      <th>keywords</th>\n",
       "    </tr>\n",
       "  </thead>\n",
       "  <tbody>\n",
       "    <tr>\n",
       "      <th>1</th>\n",
       "      <td>1</td>\n",
       "      <td>The Dark Knight</td>\n",
       "      <td>dccomic crimefight secretident scarecrow sadism chao gothamc vigilant superhero basedoncomicbook tragichero organizedcrim criminalmastermind districtattorney imax supervillain superpow batman</td>\n",
       "    </tr>\n",
       "    <tr>\n",
       "      <th>2</th>\n",
       "      <td>2</td>\n",
       "      <td>Batman Begins</td>\n",
       "      <td>himalaya martialart dccomic crimefight secretident undercov hero lossoffath societi gothamc vigilant superhero basedoncomicbook rivalri tragichero ninja goodvsevil crime superpow escapad mastervillain loveandrom</td>\n",
       "    </tr>\n",
       "    <tr>\n",
       "      <th>3</th>\n",
       "      <td>3</td>\n",
       "      <td>Batman &amp; Robin</td>\n",
       "      <td>doublelif dccomic dualident crimefight fictionalplac gothamc superhero superpow</td>\n",
       "    </tr>\n",
       "    <tr>\n",
       "      <th>5</th>\n",
       "      <td>4</td>\n",
       "      <td>Batman</td>\n",
       "      <td>doublelif dccomic dualident crimefight fictionalplac gothamc superhero superpow</td>\n",
       "    </tr>\n",
       "    <tr>\n",
       "      <th>6</th>\n",
       "      <td>4</td>\n",
       "      <td>Batman</td>\n",
       "      <td>submarin dccomic missil sharkattack rescu shark superpow</td>\n",
       "    </tr>\n",
       "    <tr>\n",
       "      <th>4</th>\n",
       "      <td>5</td>\n",
       "      <td>Batman Returns</td>\n",
       "      <td>holiday corrupt doublelif dccomic crimefight hallucin christmastre gothamc vigilant superhero violenc darkhero supervillain superpow</td>\n",
       "    </tr>\n",
       "    <tr>\n",
       "      <th>7</th>\n",
       "      <td>6</td>\n",
       "      <td>Kick-Ass 2</td>\n",
       "      <td>crimefight secretident marvelcom superhero aftercreditssting teensuperhero</td>\n",
       "    </tr>\n",
       "    <tr>\n",
       "      <th>0</th>\n",
       "      <td>7</td>\n",
       "      <td>Batman v Superman: Dawn of Justice</td>\n",
       "      <td>dccomic vigilant superhero basedoncomicbook reveng superpow dcextendedunivers</td>\n",
       "    </tr>\n",
       "    <tr>\n",
       "      <th>8</th>\n",
       "      <td>8</td>\n",
       "      <td>Arbitrage</td>\n",
       "      <td>cover-up</td>\n",
       "    </tr>\n",
       "    <tr>\n",
       "      <th>10</th>\n",
       "      <td>9</td>\n",
       "      <td>Defendor</td>\n",
       "      <td>crimefight delus superhero</td>\n",
       "    </tr>\n",
       "    <tr>\n",
       "      <th>9</th>\n",
       "      <td>10</td>\n",
       "      <td>Four Lions</td>\n",
       "      <td>terror</td>\n",
       "    </tr>\n",
       "  </tbody>\n",
       "</table>\n",
       "</div>"
      ],
      "text/plain": [
       "   Rank                               title                                                                                                                                                                                                             keywords\n",
       "1   1    The Dark Knight                     dccomic crimefight secretident scarecrow sadism chao gothamc vigilant superhero basedoncomicbook tragichero organizedcrim criminalmastermind districtattorney imax supervillain superpow batman                    \n",
       "2   2    Batman Begins                       himalaya martialart dccomic crimefight secretident undercov hero lossoffath societi gothamc vigilant superhero basedoncomicbook rivalri tragichero ninja goodvsevil crime superpow escapad mastervillain loveandrom\n",
       "3   3    Batman & Robin                      doublelif dccomic dualident crimefight fictionalplac gothamc superhero superpow                                                                                                                                    \n",
       "5   4    Batman                              doublelif dccomic dualident crimefight fictionalplac gothamc superhero superpow                                                                                                                                    \n",
       "6   4    Batman                              submarin dccomic missil sharkattack rescu shark superpow                                                                                                                                                           \n",
       "4   5    Batman Returns                      holiday corrupt doublelif dccomic crimefight hallucin christmastre gothamc vigilant superhero violenc darkhero supervillain superpow                                                                               \n",
       "7   6    Kick-Ass 2                          crimefight secretident marvelcom superhero aftercreditssting teensuperhero                                                                                                                                         \n",
       "0   7    Batman v Superman: Dawn of Justice  dccomic vigilant superhero basedoncomicbook reveng superpow dcextendedunivers                                                                                                                                      \n",
       "8   8    Arbitrage                           cover-up                                                                                                                                                                                                           \n",
       "10  9    Defendor                            crimefight delus superhero                                                                                                                                                                                         \n",
       "9   10   Four Lions                          terror                                                                                                                                                                                                             "
      ]
     },
     "execution_count": 28,
     "metadata": {},
     "output_type": "execute_result"
    }
   ],
   "source": [
    "create_df_keywords('The Dark Knight Rises')"
   ]
  },
  {
   "cell_type": "code",
   "execution_count": 29,
   "metadata": {
    "ExecuteTime": {
     "end_time": "2019-12-11T10:39:38.495611Z",
     "start_time": "2019-12-11T10:39:38.417468Z"
    }
   },
   "outputs": [
    {
     "data": {
      "text/html": [
       "<div>\n",
       "<style scoped>\n",
       "    .dataframe tbody tr th:only-of-type {\n",
       "        vertical-align: middle;\n",
       "    }\n",
       "\n",
       "    .dataframe tbody tr th {\n",
       "        vertical-align: top;\n",
       "    }\n",
       "\n",
       "    .dataframe thead th {\n",
       "        text-align: right;\n",
       "    }\n",
       "</style>\n",
       "<table border=\"1\" class=\"dataframe\">\n",
       "  <thead>\n",
       "    <tr style=\"text-align: right;\">\n",
       "      <th></th>\n",
       "      <th>Rank</th>\n",
       "      <th>title</th>\n",
       "      <th>keywords</th>\n",
       "    </tr>\n",
       "  </thead>\n",
       "  <tbody>\n",
       "    <tr>\n",
       "      <th>0</th>\n",
       "      <td>1</td>\n",
       "      <td>The Hobbit: The Battle of the Five Armies</td>\n",
       "      <td>corrupt elv dwarv orc middle-earth(tolkien) hobbit dragon battl unlikelyfriendship swordandsorceri</td>\n",
       "    </tr>\n",
       "    <tr>\n",
       "      <th>6</th>\n",
       "      <td>2</td>\n",
       "      <td>The Lord of the Rings: The Two Towers</td>\n",
       "      <td>elv orc middle-earth(tolkien) hobbit basedonnovel explos cave fort armi mission attack wizard ring swordandsorceri</td>\n",
       "    </tr>\n",
       "    <tr>\n",
       "      <th>5</th>\n",
       "      <td>3</td>\n",
       "      <td>The Lord of the Rings: The Fellowship of the Ring</td>\n",
       "      <td>elv dwarv orc middle-earth(tolkien) hobbit basedonnovel mountain firework castl volcano deathofafriend uncl mirror wizard swordandsorceri</td>\n",
       "    </tr>\n",
       "    <tr>\n",
       "      <th>2</th>\n",
       "      <td>4</td>\n",
       "      <td>The Hobbit: An Unexpected Journey</td>\n",
       "      <td>riddl elv dwarv orc middle-earth(tolkien) hobbit mountain wizard journey ring goblin courag giant tunnel invis</td>\n",
       "    </tr>\n",
       "    <tr>\n",
       "      <th>1</th>\n",
       "      <td>5</td>\n",
       "      <td>The Hobbit: The Desolation of Smaug</td>\n",
       "      <td>elv dwarv orc hobbit dragon wizard swordandsorceri</td>\n",
       "    </tr>\n",
       "    <tr>\n",
       "      <th>3</th>\n",
       "      <td>6</td>\n",
       "      <td>Warcraft</td>\n",
       "      <td>videogam elv orc magic chase basedoncomicbook sorcer fictionalwar basedonvideogam wizard swordandsorceri</td>\n",
       "    </tr>\n",
       "    <tr>\n",
       "      <th>9</th>\n",
       "      <td>7</td>\n",
       "      <td>Good Kill</td>\n",
       "      <td>pilot suspicion</td>\n",
       "    </tr>\n",
       "    <tr>\n",
       "      <th>8</th>\n",
       "      <td>8</td>\n",
       "      <td>The Four Feathers</td>\n",
       "      <td>islam sex loyalti braveri armi reveng honor murder escap soldier battl church violenc britain slave coloni militari</td>\n",
       "    </tr>\n",
       "    <tr>\n",
       "      <th>4</th>\n",
       "      <td>9</td>\n",
       "      <td>The Chronicles of Narnia: The Voyage of the Dawn Treader</td>\n",
       "      <td>basedonnovel magic goodvsevil king narnia fantasyworld quest</td>\n",
       "    </tr>\n",
       "    <tr>\n",
       "      <th>7</th>\n",
       "      <td>10</td>\n",
       "      <td>Winter's Tale</td>\n",
       "      <td>basedonnovel</td>\n",
       "    </tr>\n",
       "  </tbody>\n",
       "</table>\n",
       "</div>"
      ],
      "text/plain": [
       "  Rank                                                     title                                                                                                                                   keywords\n",
       "0  1    The Hobbit: The Battle of the Five Armies                 corrupt elv dwarv orc middle-earth(tolkien) hobbit dragon battl unlikelyfriendship swordandsorceri                                       \n",
       "6  2    The Lord of the Rings: The Two Towers                     elv orc middle-earth(tolkien) hobbit basedonnovel explos cave fort armi mission attack wizard ring swordandsorceri                       \n",
       "5  3    The Lord of the Rings: The Fellowship of the Ring         elv dwarv orc middle-earth(tolkien) hobbit basedonnovel mountain firework castl volcano deathofafriend uncl mirror wizard swordandsorceri\n",
       "2  4    The Hobbit: An Unexpected Journey                         riddl elv dwarv orc middle-earth(tolkien) hobbit mountain wizard journey ring goblin courag giant tunnel invis                           \n",
       "1  5    The Hobbit: The Desolation of Smaug                       elv dwarv orc hobbit dragon wizard swordandsorceri                                                                                       \n",
       "3  6    Warcraft                                                  videogam elv orc magic chase basedoncomicbook sorcer fictionalwar basedonvideogam wizard swordandsorceri                                 \n",
       "9  7    Good Kill                                                 pilot suspicion                                                                                                                          \n",
       "8  8    The Four Feathers                                         islam sex loyalti braveri armi reveng honor murder escap soldier battl church violenc britain slave coloni militari                      \n",
       "4  9    The Chronicles of Narnia: The Voyage of the Dawn Treader  basedonnovel magic goodvsevil king narnia fantasyworld quest                                                                             \n",
       "7  10   Winter's Tale                                             basedonnovel                                                                                                                             "
      ]
     },
     "execution_count": 29,
     "metadata": {},
     "output_type": "execute_result"
    }
   ],
   "source": [
    "create_df_keywords('The Lord of the Rings: The Return of the King')"
   ]
  },
  {
   "cell_type": "code",
   "execution_count": 30,
   "metadata": {
    "ExecuteTime": {
     "end_time": "2019-12-11T10:39:38.578093Z",
     "start_time": "2019-12-11T10:39:38.497595Z"
    },
    "scrolled": false
   },
   "outputs": [
    {
     "data": {
      "text/html": [
       "<div>\n",
       "<style scoped>\n",
       "    .dataframe tbody tr th:only-of-type {\n",
       "        vertical-align: middle;\n",
       "    }\n",
       "\n",
       "    .dataframe tbody tr th {\n",
       "        vertical-align: top;\n",
       "    }\n",
       "\n",
       "    .dataframe thead th {\n",
       "        text-align: right;\n",
       "    }\n",
       "</style>\n",
       "<table border=\"1\" class=\"dataframe\">\n",
       "  <thead>\n",
       "    <tr style=\"text-align: right;\">\n",
       "      <th></th>\n",
       "      <th>Rank</th>\n",
       "      <th>title</th>\n",
       "      <th>keywords</th>\n",
       "    </tr>\n",
       "  </thead>\n",
       "  <tbody>\n",
       "    <tr>\n",
       "      <th>2</th>\n",
       "      <td>1</td>\n",
       "      <td>The One</td>\n",
       "      <td>dualident</td>\n",
       "    </tr>\n",
       "    <tr>\n",
       "      <th>3</th>\n",
       "      <td>2</td>\n",
       "      <td>Se7en</td>\n",
       "      <td>self-fulfillingpropheci detect drugdeal rageandh insomnia investig polic serialkil</td>\n",
       "    </tr>\n",
       "    <tr>\n",
       "      <th>8</th>\n",
       "      <td>3</td>\n",
       "      <td>The Machinist</td>\n",
       "      <td>factori insomnia</td>\n",
       "    </tr>\n",
       "    <tr>\n",
       "      <th>1</th>\n",
       "      <td>4</td>\n",
       "      <td>After Earth</td>\n",
       "      <td>dystopia</td>\n",
       "    </tr>\n",
       "    <tr>\n",
       "      <th>4</th>\n",
       "      <td>5</td>\n",
       "      <td>Megiddo: The Omega Code 2</td>\n",
       "      <td>dystopia</td>\n",
       "    </tr>\n",
       "    <tr>\n",
       "      <th>7</th>\n",
       "      <td>6</td>\n",
       "      <td>Repo! The Genetic Opera</td>\n",
       "      <td>dystopia</td>\n",
       "    </tr>\n",
       "    <tr>\n",
       "      <th>9</th>\n",
       "      <td>7</td>\n",
       "      <td>Dead Man's Shoes</td>\n",
       "      <td>rageandh brother reveng punish</td>\n",
       "    </tr>\n",
       "    <tr>\n",
       "      <th>6</th>\n",
       "      <td>8</td>\n",
       "      <td>The Fault in Our Stars</td>\n",
       "      <td>amsterdam basedonnovel supportgroup cancer teenag starcrossedlov teendrama basedonyoungadultnovel</td>\n",
       "    </tr>\n",
       "    <tr>\n",
       "      <th>0</th>\n",
       "      <td>9</td>\n",
       "      <td>Wreck-It Ralph</td>\n",
       "      <td>supportgroup productplac bulli medal selfesteem curios aftercreditssting duringcreditssting</td>\n",
       "    </tr>\n",
       "    <tr>\n",
       "      <th>5</th>\n",
       "      <td>10</td>\n",
       "      <td>The New Guy</td>\n",
       "      <td>prison dualident ident loser highschool losangel duringcreditssting</td>\n",
       "    </tr>\n",
       "  </tbody>\n",
       "</table>\n",
       "</div>"
      ],
      "text/plain": [
       "  Rank                      title                                                                                           keywords\n",
       "2  1    The One                    dualident                                                                                        \n",
       "3  2    Se7en                      self-fulfillingpropheci detect drugdeal rageandh insomnia investig polic serialkil               \n",
       "8  3    The Machinist              factori insomnia                                                                                 \n",
       "1  4    After Earth                dystopia                                                                                         \n",
       "4  5    Megiddo: The Omega Code 2  dystopia                                                                                         \n",
       "7  6    Repo! The Genetic Opera    dystopia                                                                                         \n",
       "9  7    Dead Man's Shoes           rageandh brother reveng punish                                                                   \n",
       "6  8    The Fault in Our Stars     amsterdam basedonnovel supportgroup cancer teenag starcrossedlov teendrama basedonyoungadultnovel\n",
       "0  9    Wreck-It Ralph             supportgroup productplac bulli medal selfesteem curios aftercreditssting duringcreditssting      \n",
       "5  10   The New Guy                prison dualident ident loser highschool losangel duringcreditssting                              "
      ]
     },
     "execution_count": 30,
     "metadata": {},
     "output_type": "execute_result"
    }
   ],
   "source": [
    "create_df_keywords('Fight Club')"
   ]
  },
  {
   "cell_type": "markdown",
   "metadata": {},
   "source": [
    "This model can give us similar film base on overview or keywords, but it have a tendency to give us film with simillar title, since it only take overview or keywords into calculation."
   ]
  },
  {
   "cell_type": "markdown",
   "metadata": {},
   "source": [
    "## Recommendation Keywords, Genres, Director, Cast using CountVectorizer or TF-IDF"
   ]
  },
  {
   "cell_type": "markdown",
   "metadata": {},
   "source": [
    "### CountVectorizer"
   ]
  },
  {
   "cell_type": "code",
   "execution_count": 31,
   "metadata": {
    "ExecuteTime": {
     "end_time": "2019-12-11T10:39:38.663491Z",
     "start_time": "2019-12-11T10:39:38.580059Z"
    }
   },
   "outputs": [],
   "source": [
    "movie_df['director'] = movie_df['director'].apply(lambda x: x.replace(',',' ').lower())\n",
    "movie_df['director'] = movie_df['director'].apply(lambda x: x.lower().replace(' ',''))\n",
    "movie_df['cast_name'] = movie_df['cast_name'].apply(lambda x: re.sub(r' |\\'|\\[|\\]','',x.lower()).replace(',',' '))\n",
    "movie_df['genres'] = movie_df['genres'].apply(lambda x: x.replace(',',' ').lower())"
   ]
  },
  {
   "cell_type": "code",
   "execution_count": 32,
   "metadata": {
    "ExecuteTime": {
     "end_time": "2019-12-11T10:39:38.903530Z",
     "start_time": "2019-12-11T10:39:38.665406Z"
    }
   },
   "outputs": [],
   "source": [
    "movie_df['soup'] = movie_df[['keywords','cast_name','director','genres']].apply(lambda x: ''.join(x['keywords']) + ' '+ ''.join(x['cast_name'])+ ' ' + ''.join(x['director']) +' '+ ''.join(x['genres']), axis=1)"
   ]
  },
  {
   "cell_type": "code",
   "execution_count": 33,
   "metadata": {
    "ExecuteTime": {
     "end_time": "2019-12-11T10:39:39.112955Z",
     "start_time": "2019-12-11T10:39:38.904486Z"
    }
   },
   "outputs": [],
   "source": [
    "from sklearn.feature_extraction.text import CountVectorizer\n",
    "count = CountVectorizer(analyzer='word',ngram_range=(1, 2),min_df=0, stop_words='english')\n",
    "count_matrix = count.fit_transform(movie_df['soup'])"
   ]
  },
  {
   "cell_type": "code",
   "execution_count": 34,
   "metadata": {
    "ExecuteTime": {
     "end_time": "2019-12-11T10:39:39.382232Z",
     "start_time": "2019-12-11T10:39:39.113924Z"
    }
   },
   "outputs": [],
   "source": [
    "from sklearn.metrics.pairwise import cosine_similarity\n",
    "cosine_sim2 = cosine_similarity(count_matrix, count_matrix)"
   ]
  },
  {
   "cell_type": "code",
   "execution_count": 35,
   "metadata": {
    "ExecuteTime": {
     "end_time": "2019-12-11T10:39:39.390187Z",
     "start_time": "2019-12-11T10:39:39.384203Z"
    }
   },
   "outputs": [],
   "source": [
    "def create_df_soup_cv(input_title):\n",
    "    movie_title = get_recommendations(movie_df, input_title, cosine_sim2)\n",
    "    movie_rank = pd.Series([1,2,3,4,5,6,7,8,9,10], index=movie_title.index, name='Rank')\n",
    "    recommendation_df = pd.DataFrame([movie_title,movie_rank]).transpose()\n",
    "    movie_recommendation = pd.merge(movie_df[['title','soup']],recommendation_df, left_on='title', right_on = 'title')\n",
    "    return movie_recommendation.sort_values('Rank')[['Rank','title','soup']]"
   ]
  },
  {
   "cell_type": "code",
   "execution_count": 36,
   "metadata": {
    "ExecuteTime": {
     "end_time": "2019-12-11T10:39:39.544803Z",
     "start_time": "2019-12-11T10:39:39.392181Z"
    },
    "scrolled": false
   },
   "outputs": [
    {
     "data": {
      "text/html": [
       "<div>\n",
       "<style scoped>\n",
       "    .dataframe tbody tr th:only-of-type {\n",
       "        vertical-align: middle;\n",
       "    }\n",
       "\n",
       "    .dataframe tbody tr th {\n",
       "        vertical-align: top;\n",
       "    }\n",
       "\n",
       "    .dataframe thead th {\n",
       "        text-align: right;\n",
       "    }\n",
       "</style>\n",
       "<table border=\"1\" class=\"dataframe\">\n",
       "  <thead>\n",
       "    <tr style=\"text-align: right;\">\n",
       "      <th></th>\n",
       "      <th>Rank</th>\n",
       "      <th>title</th>\n",
       "      <th>soup</th>\n",
       "    </tr>\n",
       "  </thead>\n",
       "  <tbody>\n",
       "    <tr>\n",
       "      <th>0</th>\n",
       "      <td>1</td>\n",
       "      <td>The Dark Knight</td>\n",
       "      <td>dccomic crimefight secretident scarecrow sadism chao gothamc vigilant superhero basedoncomicbook tragichero organizedcrim criminalmastermind districtattorney imax supervillain superpow batman christianbale heathledger aaroneckhart christophernolan drama action crime thriller</td>\n",
       "    </tr>\n",
       "    <tr>\n",
       "      <th>1</th>\n",
       "      <td>2</td>\n",
       "      <td>Batman Begins</td>\n",
       "      <td>himalaya martialart dccomic crimefight secretident undercov hero lossoffath societi gothamc vigilant superhero basedoncomicbook rivalri tragichero ninja goodvsevil crime superpow escapad mastervillain loveandrom christianbale michaelcaine liamneeson christophernolan action crime drama</td>\n",
       "    </tr>\n",
       "    <tr>\n",
       "      <th>8</th>\n",
       "      <td>3</td>\n",
       "      <td>Harsh Times</td>\n",
       "      <td>christianbale evalongoria chakaforman davidayer crime drama thriller action</td>\n",
       "    </tr>\n",
       "    <tr>\n",
       "      <th>9</th>\n",
       "      <td>4</td>\n",
       "      <td>Amidst the Devil's Wings</td>\n",
       "      <td>drama action crime</td>\n",
       "    </tr>\n",
       "    <tr>\n",
       "      <th>4</th>\n",
       "      <td>5</td>\n",
       "      <td>Takers</td>\n",
       "      <td>heist chrisbrown haydenchristensen mattdillon johnluessenhop action crime drama thriller</td>\n",
       "    </tr>\n",
       "    <tr>\n",
       "      <th>2</th>\n",
       "      <td>6</td>\n",
       "      <td>Kiss of Death</td>\n",
       "      <td>hoodlum davidcaruso samuell.jackson nicolascage barbetschroeder action crime drama thriller</td>\n",
       "    </tr>\n",
       "    <tr>\n",
       "      <th>5</th>\n",
       "      <td>7</td>\n",
       "      <td>Street Kings</td>\n",
       "      <td>polic losangel keanureeves forestwhitaker chrisevans davidayer action crime drama thriller</td>\n",
       "    </tr>\n",
       "    <tr>\n",
       "      <th>7</th>\n",
       "      <td>8</td>\n",
       "      <td>Romeo Is Bleeding</td>\n",
       "      <td>policeoper sexaddict polic mafiaboss suspens garyoldman lenaolin annabellasciorra petermedak action crime drama thriller</td>\n",
       "    </tr>\n",
       "    <tr>\n",
       "      <th>6</th>\n",
       "      <td>9</td>\n",
       "      <td>Trash</td>\n",
       "      <td>brazilian drama thriller ricksontevez eduardoluis gabrielweinstein stephendaldry adventure crime drama thriller</td>\n",
       "    </tr>\n",
       "    <tr>\n",
       "      <th>3</th>\n",
       "      <td>10</td>\n",
       "      <td>Stolen</td>\n",
       "      <td>taxidriv thief fbiag nicolascage joshlucas samigayle simonwest action crime drama thriller</td>\n",
       "    </tr>\n",
       "  </tbody>\n",
       "</table>\n",
       "</div>"
      ],
      "text/plain": [
       "  Rank                     title                                                                                                                                                                                                                                                                                           soup\n",
       "0  1    The Dark Knight           dccomic crimefight secretident scarecrow sadism chao gothamc vigilant superhero basedoncomicbook tragichero organizedcrim criminalmastermind districtattorney imax supervillain superpow batman christianbale heathledger aaroneckhart christophernolan drama action crime thriller          \n",
       "1  2    Batman Begins             himalaya martialart dccomic crimefight secretident undercov hero lossoffath societi gothamc vigilant superhero basedoncomicbook rivalri tragichero ninja goodvsevil crime superpow escapad mastervillain loveandrom christianbale michaelcaine liamneeson christophernolan action crime drama\n",
       "8  3    Harsh Times                christianbale evalongoria chakaforman davidayer crime drama thriller action                                                                                                                                                                                                                 \n",
       "9  4    Amidst the Devil's Wings     drama action crime                                                                                                                                                                                                                                                                        \n",
       "4  5    Takers                    heist chrisbrown haydenchristensen mattdillon johnluessenhop action crime drama thriller                                                                                                                                                                                                     \n",
       "2  6    Kiss of Death             hoodlum davidcaruso samuell.jackson nicolascage barbetschroeder action crime drama thriller                                                                                                                                                                                                  \n",
       "5  7    Street Kings              polic losangel keanureeves forestwhitaker chrisevans davidayer action crime drama thriller                                                                                                                                                                                                   \n",
       "7  8    Romeo Is Bleeding         policeoper sexaddict polic mafiaboss suspens garyoldman lenaolin annabellasciorra petermedak action crime drama thriller                                                                                                                                                                     \n",
       "6  9    Trash                     brazilian drama thriller ricksontevez eduardoluis gabrielweinstein stephendaldry adventure crime drama thriller                                                                                                                                                                              \n",
       "3  10   Stolen                    taxidriv thief fbiag nicolascage joshlucas samigayle simonwest action crime drama thriller                                                                                                                                                                                                   "
      ]
     },
     "execution_count": 36,
     "metadata": {},
     "output_type": "execute_result"
    }
   ],
   "source": [
    "create_df_soup_cv('The Dark Knight Rises')"
   ]
  },
  {
   "cell_type": "code",
   "execution_count": 37,
   "metadata": {
    "ExecuteTime": {
     "end_time": "2019-12-11T10:39:39.630444Z",
     "start_time": "2019-12-11T10:39:39.546797Z"
    }
   },
   "outputs": [
    {
     "data": {
      "text/html": [
       "<div>\n",
       "<style scoped>\n",
       "    .dataframe tbody tr th:only-of-type {\n",
       "        vertical-align: middle;\n",
       "    }\n",
       "\n",
       "    .dataframe tbody tr th {\n",
       "        vertical-align: top;\n",
       "    }\n",
       "\n",
       "    .dataframe thead th {\n",
       "        text-align: right;\n",
       "    }\n",
       "</style>\n",
       "<table border=\"1\" class=\"dataframe\">\n",
       "  <thead>\n",
       "    <tr style=\"text-align: right;\">\n",
       "      <th></th>\n",
       "      <th>Rank</th>\n",
       "      <th>title</th>\n",
       "      <th>soup</th>\n",
       "    </tr>\n",
       "  </thead>\n",
       "  <tbody>\n",
       "    <tr>\n",
       "      <th>6</th>\n",
       "      <td>1</td>\n",
       "      <td>The Lord of the Rings: The Two Towers</td>\n",
       "      <td>elv orc middle-earth(tolkien) hobbit basedonnovel explos cave fort armi mission attack wizard ring swordandsorceri elijahwood ianmckellen viggomortensen peterjackson adventure fantasy action</td>\n",
       "    </tr>\n",
       "    <tr>\n",
       "      <th>5</th>\n",
       "      <td>2</td>\n",
       "      <td>The Lord of the Rings: The Fellowship of the Ring</td>\n",
       "      <td>elv dwarv orc middle-earth(tolkien) hobbit basedonnovel mountain firework castl volcano deathofafriend uncl mirror wizard swordandsorceri elijahwood ianmckellen cateblanchett peterjackson adventure fantasy action</td>\n",
       "    </tr>\n",
       "    <tr>\n",
       "      <th>0</th>\n",
       "      <td>3</td>\n",
       "      <td>The Hobbit: The Battle of the Five Armies</td>\n",
       "      <td>corrupt elv dwarv orc middle-earth(tolkien) hobbit dragon battl unlikelyfriendship swordandsorceri martinfreeman ianmckellen richardarmitage peterjackson action adventure fantasy</td>\n",
       "    </tr>\n",
       "    <tr>\n",
       "      <th>2</th>\n",
       "      <td>4</td>\n",
       "      <td>The Hobbit: An Unexpected Journey</td>\n",
       "      <td>riddl elv dwarv orc middle-earth(tolkien) hobbit mountain wizard journey ring goblin courag giant tunnel invis ianmckellen martinfreeman richardarmitage peterjackson adventure fantasy action</td>\n",
       "    </tr>\n",
       "    <tr>\n",
       "      <th>1</th>\n",
       "      <td>5</td>\n",
       "      <td>The Hobbit: The Desolation of Smaug</td>\n",
       "      <td>elv dwarv orc hobbit dragon wizard swordandsorceri martinfreeman ianmckellen richardarmitage peterjackson adventure fantasy</td>\n",
       "    </tr>\n",
       "    <tr>\n",
       "      <th>3</th>\n",
       "      <td>6</td>\n",
       "      <td>Warcraft</td>\n",
       "      <td>videogam elv orc magic chase basedoncomicbook sorcer fictionalwar basedonvideogam wizard swordandsorceri paulapatton travisfimmel benfoster duncanjones action adventure fantasy</td>\n",
       "    </tr>\n",
       "    <tr>\n",
       "      <th>7</th>\n",
       "      <td>7</td>\n",
       "      <td>Conan the Barbarian</td>\n",
       "      <td>gladiat repay barbarian swordandsorceri arnoldschwarzenegger jamesearljones maxvonsydow johnmilius adventure fantasy action</td>\n",
       "    </tr>\n",
       "    <tr>\n",
       "      <th>4</th>\n",
       "      <td>8</td>\n",
       "      <td>The 13th Warrior</td>\n",
       "      <td>witch cave vike iraq war mission antoniobanderas vladimirkulich danielsouthern johnmctiernan adventure fantasy action</td>\n",
       "    </tr>\n",
       "    <tr>\n",
       "      <th>8</th>\n",
       "      <td>9</td>\n",
       "      <td>Red Sonja</td>\n",
       "      <td>monster swordplay queen marvelcom basedoncomicbook swordandsorceri arnoldschwarzenegger brigittenielsen sandahlbergman richardfleischer adventure fantasy action</td>\n",
       "    </tr>\n",
       "    <tr>\n",
       "      <th>9</th>\n",
       "      <td>10</td>\n",
       "      <td>Beastmaster 2: Through the Portal of Time</td>\n",
       "      <td>basedonnovel timetravel sequel psychotron warrior swordandsorceri marcsinger kariwuhrer sarahdouglas sylviotabet action adventure fantasy science fiction</td>\n",
       "    </tr>\n",
       "  </tbody>\n",
       "</table>\n",
       "</div>"
      ],
      "text/plain": [
       "  Rank                                              title                                                                                                                                                                                                                  soup\n",
       "6  1    The Lord of the Rings: The Two Towers              elv orc middle-earth(tolkien) hobbit basedonnovel explos cave fort armi mission attack wizard ring swordandsorceri elijahwood ianmckellen viggomortensen peterjackson adventure fantasy action                      \n",
       "5  2    The Lord of the Rings: The Fellowship of the Ring  elv dwarv orc middle-earth(tolkien) hobbit basedonnovel mountain firework castl volcano deathofafriend uncl mirror wizard swordandsorceri elijahwood ianmckellen cateblanchett peterjackson adventure fantasy action\n",
       "0  3    The Hobbit: The Battle of the Five Armies          corrupt elv dwarv orc middle-earth(tolkien) hobbit dragon battl unlikelyfriendship swordandsorceri martinfreeman ianmckellen richardarmitage peterjackson action adventure fantasy                                  \n",
       "2  4    The Hobbit: An Unexpected Journey                  riddl elv dwarv orc middle-earth(tolkien) hobbit mountain wizard journey ring goblin courag giant tunnel invis ianmckellen martinfreeman richardarmitage peterjackson adventure fantasy action                      \n",
       "1  5    The Hobbit: The Desolation of Smaug                elv dwarv orc hobbit dragon wizard swordandsorceri martinfreeman ianmckellen richardarmitage peterjackson adventure fantasy                                                                                         \n",
       "3  6    Warcraft                                           videogam elv orc magic chase basedoncomicbook sorcer fictionalwar basedonvideogam wizard swordandsorceri paulapatton travisfimmel benfoster duncanjones action adventure fantasy                                    \n",
       "7  7    Conan the Barbarian                                gladiat repay barbarian swordandsorceri arnoldschwarzenegger jamesearljones maxvonsydow johnmilius adventure fantasy action                                                                                         \n",
       "4  8    The 13th Warrior                                   witch cave vike iraq war mission antoniobanderas vladimirkulich danielsouthern johnmctiernan adventure fantasy action                                                                                               \n",
       "8  9    Red Sonja                                          monster swordplay queen marvelcom basedoncomicbook swordandsorceri arnoldschwarzenegger brigittenielsen sandahlbergman richardfleischer adventure fantasy action                                                    \n",
       "9  10   Beastmaster 2: Through the Portal of Time          basedonnovel timetravel sequel psychotron warrior swordandsorceri marcsinger kariwuhrer sarahdouglas sylviotabet action adventure fantasy science fiction                                                           "
      ]
     },
     "execution_count": 37,
     "metadata": {},
     "output_type": "execute_result"
    }
   ],
   "source": [
    "create_df_soup_cv('The Lord of the Rings: The Return of the King')"
   ]
  },
  {
   "cell_type": "code",
   "execution_count": 38,
   "metadata": {
    "ExecuteTime": {
     "end_time": "2019-12-11T10:39:39.720148Z",
     "start_time": "2019-12-11T10:39:39.632438Z"
    }
   },
   "outputs": [
    {
     "data": {
      "text/html": [
       "<div>\n",
       "<style scoped>\n",
       "    .dataframe tbody tr th:only-of-type {\n",
       "        vertical-align: middle;\n",
       "    }\n",
       "\n",
       "    .dataframe tbody tr th {\n",
       "        vertical-align: top;\n",
       "    }\n",
       "\n",
       "    .dataframe thead th {\n",
       "        text-align: right;\n",
       "    }\n",
       "</style>\n",
       "<table border=\"1\" class=\"dataframe\">\n",
       "  <thead>\n",
       "    <tr style=\"text-align: right;\">\n",
       "      <th></th>\n",
       "      <th>Rank</th>\n",
       "      <th>title</th>\n",
       "      <th>soup</th>\n",
       "    </tr>\n",
       "  </thead>\n",
       "  <tbody>\n",
       "    <tr>\n",
       "      <th>0</th>\n",
       "      <td>1</td>\n",
       "      <td>The Hobbit: The Battle of the Five Armies</td>\n",
       "      <td>corrupt elv dwarv orc middle-earth(tolkien) hobbit dragon battl unlikelyfriendship swordandsorceri martinfreeman ianmckellen richardarmitage peterjackson action adventure fantasy</td>\n",
       "    </tr>\n",
       "    <tr>\n",
       "      <th>5</th>\n",
       "      <td>2</td>\n",
       "      <td>The Lord of the Rings: The Fellowship of the Ring</td>\n",
       "      <td>elv dwarv orc middle-earth(tolkien) hobbit basedonnovel mountain firework castl volcano deathofafriend uncl mirror wizard swordandsorceri elijahwood ianmckellen cateblanchett peterjackson adventure fantasy action</td>\n",
       "    </tr>\n",
       "    <tr>\n",
       "      <th>1</th>\n",
       "      <td>3</td>\n",
       "      <td>The Hobbit: The Desolation of Smaug</td>\n",
       "      <td>elv dwarv orc hobbit dragon wizard swordandsorceri martinfreeman ianmckellen richardarmitage peterjackson adventure fantasy</td>\n",
       "    </tr>\n",
       "    <tr>\n",
       "      <th>7</th>\n",
       "      <td>4</td>\n",
       "      <td>The Lord of the Rings: The Two Towers</td>\n",
       "      <td>elv orc middle-earth(tolkien) hobbit basedonnovel explos cave fort armi mission attack wizard ring swordandsorceri elijahwood ianmckellen viggomortensen peterjackson adventure fantasy action</td>\n",
       "    </tr>\n",
       "    <tr>\n",
       "      <th>6</th>\n",
       "      <td>5</td>\n",
       "      <td>The Lord of the Rings: The Return of the King</td>\n",
       "      <td>elv orc middle-earth(tolkien) basedonnovel suspicion braveri war honor troll brutal violenc ghost quest swordandsorceri elijahwood ianmckellen viggomortensen peterjackson adventure fantasy action</td>\n",
       "    </tr>\n",
       "    <tr>\n",
       "      <th>3</th>\n",
       "      <td>6</td>\n",
       "      <td>Warcraft</td>\n",
       "      <td>videogam elv orc magic chase basedoncomicbook sorcer fictionalwar basedonvideogam wizard swordandsorceri paulapatton travisfimmel benfoster duncanjones action adventure fantasy</td>\n",
       "    </tr>\n",
       "    <tr>\n",
       "      <th>9</th>\n",
       "      <td>7</td>\n",
       "      <td>The Borrowers</td>\n",
       "      <td>dwarv lawyer littlepeopl \"childspointofview\" realest johngoodman jimbroadbent celiaimrie peterhewitt adventure fantasy action comedy family</td>\n",
       "    </tr>\n",
       "    <tr>\n",
       "      <th>8</th>\n",
       "      <td>8</td>\n",
       "      <td>The Monkey King 2</td>\n",
       "      <td>aaronkwok gongli williamfeng soicheang action adventure fantasy</td>\n",
       "    </tr>\n",
       "    <tr>\n",
       "      <th>2</th>\n",
       "      <td>9</td>\n",
       "      <td>Prince of Persia: The Sands of Time</td>\n",
       "      <td>persia sandstorm basedonvideogam jakegyllenhaal gemmaarterton benkingsley mikenewell adventure fantasy action romance</td>\n",
       "    </tr>\n",
       "    <tr>\n",
       "      <th>4</th>\n",
       "      <td>10</td>\n",
       "      <td>Night at the Museum: Battle of the Smithsonian</td>\n",
       "      <td>museum duringcreditssting benstiller amyadams owenwilson shawnlevy adventure fantasy action comedy family</td>\n",
       "    </tr>\n",
       "  </tbody>\n",
       "</table>\n",
       "</div>"
      ],
      "text/plain": [
       "  Rank                                              title                                                                                                                                                                                                                  soup\n",
       "0  1    The Hobbit: The Battle of the Five Armies          corrupt elv dwarv orc middle-earth(tolkien) hobbit dragon battl unlikelyfriendship swordandsorceri martinfreeman ianmckellen richardarmitage peterjackson action adventure fantasy                                  \n",
       "5  2    The Lord of the Rings: The Fellowship of the Ring  elv dwarv orc middle-earth(tolkien) hobbit basedonnovel mountain firework castl volcano deathofafriend uncl mirror wizard swordandsorceri elijahwood ianmckellen cateblanchett peterjackson adventure fantasy action\n",
       "1  3    The Hobbit: The Desolation of Smaug                elv dwarv orc hobbit dragon wizard swordandsorceri martinfreeman ianmckellen richardarmitage peterjackson adventure fantasy                                                                                         \n",
       "7  4    The Lord of the Rings: The Two Towers              elv orc middle-earth(tolkien) hobbit basedonnovel explos cave fort armi mission attack wizard ring swordandsorceri elijahwood ianmckellen viggomortensen peterjackson adventure fantasy action                      \n",
       "6  5    The Lord of the Rings: The Return of the King      elv orc middle-earth(tolkien) basedonnovel suspicion braveri war honor troll brutal violenc ghost quest swordandsorceri elijahwood ianmckellen viggomortensen peterjackson adventure fantasy action                 \n",
       "3  6    Warcraft                                           videogam elv orc magic chase basedoncomicbook sorcer fictionalwar basedonvideogam wizard swordandsorceri paulapatton travisfimmel benfoster duncanjones action adventure fantasy                                    \n",
       "9  7    The Borrowers                                      dwarv lawyer littlepeopl \"childspointofview\" realest johngoodman jimbroadbent celiaimrie peterhewitt adventure fantasy action comedy family                                                                         \n",
       "8  8    The Monkey King 2                                   aaronkwok gongli williamfeng soicheang action adventure fantasy                                                                                                                                                    \n",
       "2  9    Prince of Persia: The Sands of Time                persia sandstorm basedonvideogam jakegyllenhaal gemmaarterton benkingsley mikenewell adventure fantasy action romance                                                                                               \n",
       "4  10   Night at the Museum: Battle of the Smithsonian     museum duringcreditssting benstiller amyadams owenwilson shawnlevy adventure fantasy action comedy family                                                                                                           "
      ]
     },
     "execution_count": 38,
     "metadata": {},
     "output_type": "execute_result"
    }
   ],
   "source": [
    "create_df_soup_cv('The Hobbit: An Unexpected Journey')"
   ]
  },
  {
   "cell_type": "markdown",
   "metadata": {},
   "source": [
    "### TF-IDF"
   ]
  },
  {
   "cell_type": "code",
   "execution_count": 39,
   "metadata": {
    "ExecuteTime": {
     "end_time": "2019-12-11T10:39:40.321848Z",
     "start_time": "2019-12-11T10:39:39.722147Z"
    }
   },
   "outputs": [],
   "source": [
    "tfidf = TfidfVectorizer(analyzer='word',ngram_range=(1, 2),min_df=0, stop_words='english')\n",
    "count_matrix = tfidf.fit_transform(movie_df['soup'])\n",
    "cosine_sim3 = cosine_similarity(count_matrix, count_matrix)"
   ]
  },
  {
   "cell_type": "code",
   "execution_count": 40,
   "metadata": {
    "ExecuteTime": {
     "end_time": "2019-12-11T10:39:40.331159Z",
     "start_time": "2019-12-11T10:39:40.321848Z"
    }
   },
   "outputs": [],
   "source": [
    "def create_df_soup_td(input_title):\n",
    "    movie_title = get_recommendations(movie_df, input_title, cosine_sim3)\n",
    "    movie_rank = pd.Series([1,2,3,4,5,6,7,8,9,10], index=movie_title.index, name='Rank')\n",
    "    recommendation_df = pd.DataFrame([movie_title,movie_rank]).transpose()\n",
    "    movie_recommendation = pd.merge(movie_df[['title','soup']],recommendation_df, left_on='title', right_on = 'title')\n",
    "    return movie_recommendation.sort_values('Rank')[['Rank','title','soup']]"
   ]
  },
  {
   "cell_type": "code",
   "execution_count": 41,
   "metadata": {
    "ExecuteTime": {
     "end_time": "2019-12-11T10:39:40.476924Z",
     "start_time": "2019-12-11T10:39:40.333127Z"
    },
    "scrolled": true
   },
   "outputs": [
    {
     "data": {
      "text/html": [
       "<div>\n",
       "<style scoped>\n",
       "    .dataframe tbody tr th:only-of-type {\n",
       "        vertical-align: middle;\n",
       "    }\n",
       "\n",
       "    .dataframe tbody tr th {\n",
       "        vertical-align: top;\n",
       "    }\n",
       "\n",
       "    .dataframe thead th {\n",
       "        text-align: right;\n",
       "    }\n",
       "</style>\n",
       "<table border=\"1\" class=\"dataframe\">\n",
       "  <thead>\n",
       "    <tr style=\"text-align: right;\">\n",
       "      <th></th>\n",
       "      <th>Rank</th>\n",
       "      <th>title</th>\n",
       "      <th>soup</th>\n",
       "    </tr>\n",
       "  </thead>\n",
       "  <tbody>\n",
       "    <tr>\n",
       "      <th>0</th>\n",
       "      <td>1</td>\n",
       "      <td>The Dark Knight</td>\n",
       "      <td>dccomic crimefight secretident scarecrow sadism chao gothamc vigilant superhero basedoncomicbook tragichero organizedcrim criminalmastermind districtattorney imax supervillain superpow batman christianbale heathledger aaroneckhart christophernolan drama action crime thriller</td>\n",
       "    </tr>\n",
       "    <tr>\n",
       "      <th>1</th>\n",
       "      <td>2</td>\n",
       "      <td>Batman Begins</td>\n",
       "      <td>himalaya martialart dccomic crimefight secretident undercov hero lossoffath societi gothamc vigilant superhero basedoncomicbook rivalri tragichero ninja goodvsevil crime superpow escapad mastervillain loveandrom christianbale michaelcaine liamneeson christophernolan action crime drama</td>\n",
       "    </tr>\n",
       "    <tr>\n",
       "      <th>3</th>\n",
       "      <td>3</td>\n",
       "      <td>Batman Returns</td>\n",
       "      <td>holiday corrupt doublelif dccomic crimefight hallucin christmastre gothamc vigilant superhero violenc darkhero supervillain superpow michaelkeaton dannydevito michellepfeiffer timburton action fantasy</td>\n",
       "    </tr>\n",
       "    <tr>\n",
       "      <th>2</th>\n",
       "      <td>4</td>\n",
       "      <td>Batman &amp; Robin</td>\n",
       "      <td>doublelif dccomic dualident crimefight fictionalplac gothamc superhero superpow georgeclooney arnoldschwarzenegger umathurman joelschumacher action crime fantasy</td>\n",
       "    </tr>\n",
       "    <tr>\n",
       "      <th>6</th>\n",
       "      <td>5</td>\n",
       "      <td>The Prestige</td>\n",
       "      <td>competit secret obsess magic dyinganddeath classsocieti illus hostil class rivalri hughjackman christianbale michaelcaine christophernolan drama mystery thriller</td>\n",
       "    </tr>\n",
       "    <tr>\n",
       "      <th>10</th>\n",
       "      <td>6</td>\n",
       "      <td>Amidst the Devil's Wings</td>\n",
       "      <td>drama action crime</td>\n",
       "    </tr>\n",
       "    <tr>\n",
       "      <th>7</th>\n",
       "      <td>7</td>\n",
       "      <td>Batman</td>\n",
       "      <td>doublelif dccomic dualident crimefight fictionalplac gothamc superhero superpow jacknicholson michaelkeaton kimbasinger timburton fantasy action</td>\n",
       "    </tr>\n",
       "    <tr>\n",
       "      <th>8</th>\n",
       "      <td>7</td>\n",
       "      <td>Batman</td>\n",
       "      <td>submarin dccomic missil sharkattack rescu shark superpow adamwest burtward leemeriwether leslieh.martinson family adventure comedy science fiction crime</td>\n",
       "    </tr>\n",
       "    <tr>\n",
       "      <th>4</th>\n",
       "      <td>8</td>\n",
       "      <td>Hellboy</td>\n",
       "      <td>blackmag fistfight cover-up superhero paranormalphenomena demon occult duringcreditssting ronperlman selmablair rupertevans guillermodeltoro fantasy action science fiction</td>\n",
       "    </tr>\n",
       "    <tr>\n",
       "      <th>9</th>\n",
       "      <td>9</td>\n",
       "      <td>Harsh Times</td>\n",
       "      <td>christianbale evalongoria chakaforman davidayer crime drama thriller action</td>\n",
       "    </tr>\n",
       "    <tr>\n",
       "      <th>5</th>\n",
       "      <td>10</td>\n",
       "      <td>Superman</td>\n",
       "      <td>savingtheworld journalist dccomic crimefight nuclearmissil galaxi superhero basedoncomicbook crimin sabotag northpol superpow superhumanstrength aftercreditssting christopherreeve marlonbrando margotkidder richarddonner action adventure fantasy science fiction</td>\n",
       "    </tr>\n",
       "  </tbody>\n",
       "</table>\n",
       "</div>"
      ],
      "text/plain": [
       "   Rank                     title                                                                                                                                                                                                                                                                                           soup\n",
       "0   1    The Dark Knight           dccomic crimefight secretident scarecrow sadism chao gothamc vigilant superhero basedoncomicbook tragichero organizedcrim criminalmastermind districtattorney imax supervillain superpow batman christianbale heathledger aaroneckhart christophernolan drama action crime thriller          \n",
       "1   2    Batman Begins             himalaya martialart dccomic crimefight secretident undercov hero lossoffath societi gothamc vigilant superhero basedoncomicbook rivalri tragichero ninja goodvsevil crime superpow escapad mastervillain loveandrom christianbale michaelcaine liamneeson christophernolan action crime drama\n",
       "3   3    Batman Returns            holiday corrupt doublelif dccomic crimefight hallucin christmastre gothamc vigilant superhero violenc darkhero supervillain superpow michaelkeaton dannydevito michellepfeiffer timburton action fantasy                                                                                     \n",
       "2   4    Batman & Robin            doublelif dccomic dualident crimefight fictionalplac gothamc superhero superpow georgeclooney arnoldschwarzenegger umathurman joelschumacher action crime fantasy                                                                                                                            \n",
       "6   5    The Prestige              competit secret obsess magic dyinganddeath classsocieti illus hostil class rivalri hughjackman christianbale michaelcaine christophernolan drama mystery thriller                                                                                                                            \n",
       "10  6    Amidst the Devil's Wings     drama action crime                                                                                                                                                                                                                                                                        \n",
       "7   7    Batman                    doublelif dccomic dualident crimefight fictionalplac gothamc superhero superpow jacknicholson michaelkeaton kimbasinger timburton fantasy action                                                                                                                                             \n",
       "8   7    Batman                    submarin dccomic missil sharkattack rescu shark superpow adamwest burtward leemeriwether leslieh.martinson family adventure comedy science fiction crime                                                                                                                                     \n",
       "4   8    Hellboy                   blackmag fistfight cover-up superhero paranormalphenomena demon occult duringcreditssting ronperlman selmablair rupertevans guillermodeltoro fantasy action science fiction                                                                                                                  \n",
       "9   9    Harsh Times                christianbale evalongoria chakaforman davidayer crime drama thriller action                                                                                                                                                                                                                 \n",
       "5   10   Superman                  savingtheworld journalist dccomic crimefight nuclearmissil galaxi superhero basedoncomicbook crimin sabotag northpol superpow superhumanstrength aftercreditssting christopherreeve marlonbrando margotkidder richarddonner action adventure fantasy science fiction                         "
      ]
     },
     "execution_count": 41,
     "metadata": {},
     "output_type": "execute_result"
    }
   ],
   "source": [
    "create_df_soup_td('The Dark Knight Rises')"
   ]
  },
  {
   "cell_type": "code",
   "execution_count": 42,
   "metadata": {
    "ExecuteTime": {
     "end_time": "2019-12-11T10:39:40.554564Z",
     "start_time": "2019-12-11T10:39:40.478921Z"
    },
    "scrolled": true
   },
   "outputs": [
    {
     "data": {
      "text/html": [
       "<div>\n",
       "<style scoped>\n",
       "    .dataframe tbody tr th:only-of-type {\n",
       "        vertical-align: middle;\n",
       "    }\n",
       "\n",
       "    .dataframe tbody tr th {\n",
       "        vertical-align: top;\n",
       "    }\n",
       "\n",
       "    .dataframe thead th {\n",
       "        text-align: right;\n",
       "    }\n",
       "</style>\n",
       "<table border=\"1\" class=\"dataframe\">\n",
       "  <thead>\n",
       "    <tr style=\"text-align: right;\">\n",
       "      <th></th>\n",
       "      <th>Rank</th>\n",
       "      <th>title</th>\n",
       "      <th>soup</th>\n",
       "    </tr>\n",
       "  </thead>\n",
       "  <tbody>\n",
       "    <tr>\n",
       "      <th>2</th>\n",
       "      <td>1</td>\n",
       "      <td>Batman Begins</td>\n",
       "      <td>himalaya martialart dccomic crimefight secretident undercov hero lossoffath societi gothamc vigilant superhero basedoncomicbook rivalri tragichero ninja goodvsevil crime superpow escapad mastervillain loveandrom christianbale michaelcaine liamneeson christophernolan action crime drama</td>\n",
       "    </tr>\n",
       "    <tr>\n",
       "      <th>0</th>\n",
       "      <td>2</td>\n",
       "      <td>The Dark Knight Rises</td>\n",
       "      <td>dccomic crimefight terrorist secretident burglar hostagedrama timebomb gothamc vigilant cover-up superhero villai tragichero terror destruct imax flood batman christianbale michaelcaine garyoldman christophernolan action crime drama thriller</td>\n",
       "    </tr>\n",
       "    <tr>\n",
       "      <th>5</th>\n",
       "      <td>3</td>\n",
       "      <td>Batman Returns</td>\n",
       "      <td>holiday corrupt doublelif dccomic crimefight hallucin christmastre gothamc vigilant superhero violenc darkhero supervillain superpow michaelkeaton dannydevito michellepfeiffer timburton action fantasy</td>\n",
       "    </tr>\n",
       "    <tr>\n",
       "      <th>10</th>\n",
       "      <td>4</td>\n",
       "      <td>Amidst the Devil's Wings</td>\n",
       "      <td>drama action crime</td>\n",
       "    </tr>\n",
       "    <tr>\n",
       "      <th>1</th>\n",
       "      <td>5</td>\n",
       "      <td>Batman v Superman: Dawn of Justice</td>\n",
       "      <td>dccomic vigilant superhero basedoncomicbook reveng superpow dcextendedunivers benaffleck henrycavill galgadot zacksnyder action adventure fantasy</td>\n",
       "    </tr>\n",
       "    <tr>\n",
       "      <th>3</th>\n",
       "      <td>6</td>\n",
       "      <td>Batman &amp; Robin</td>\n",
       "      <td>doublelif dccomic dualident crimefight fictionalplac gothamc superhero superpow georgeclooney arnoldschwarzenegger umathurman joelschumacher action crime fantasy</td>\n",
       "    </tr>\n",
       "    <tr>\n",
       "      <th>6</th>\n",
       "      <td>7</td>\n",
       "      <td>Superman</td>\n",
       "      <td>savingtheworld journalist dccomic crimefight nuclearmissil galaxi superhero basedoncomicbook crimin sabotag northpol superpow superhumanstrength aftercreditssting christopherreeve marlonbrando margotkidder richarddonner action adventure fantasy science fiction</td>\n",
       "    </tr>\n",
       "    <tr>\n",
       "      <th>7</th>\n",
       "      <td>8</td>\n",
       "      <td>Batman</td>\n",
       "      <td>doublelif dccomic dualident crimefight fictionalplac gothamc superhero superpow jacknicholson michaelkeaton kimbasinger timburton fantasy action</td>\n",
       "    </tr>\n",
       "    <tr>\n",
       "      <th>8</th>\n",
       "      <td>8</td>\n",
       "      <td>Batman</td>\n",
       "      <td>submarin dccomic missil sharkattack rescu shark superpow adamwest burtward leemeriwether leslieh.martinson family adventure comedy science fiction crime</td>\n",
       "    </tr>\n",
       "    <tr>\n",
       "      <th>4</th>\n",
       "      <td>9</td>\n",
       "      <td>Batman Forever</td>\n",
       "      <td>riddl dccomic gothamc partner superhero brokenneck psychologist violenc crimin districtattorney millionair tiedup superpow disfigur fatherfigur valkilmer tommyleejones jimcarrey joelschumacher action crime fantasy</td>\n",
       "    </tr>\n",
       "    <tr>\n",
       "      <th>9</th>\n",
       "      <td>10</td>\n",
       "      <td>Kick-Ass 2</td>\n",
       "      <td>crimefight secretident marvelcom superhero aftercreditssting teensuperhero clarkduke jimcarrey lindybooth jeffwadlow action adventure crime</td>\n",
       "    </tr>\n",
       "  </tbody>\n",
       "</table>\n",
       "</div>"
      ],
      "text/plain": [
       "   Rank                               title                                                                                                                                                                                                                                                                                           soup\n",
       "2   1    Batman Begins                       himalaya martialart dccomic crimefight secretident undercov hero lossoffath societi gothamc vigilant superhero basedoncomicbook rivalri tragichero ninja goodvsevil crime superpow escapad mastervillain loveandrom christianbale michaelcaine liamneeson christophernolan action crime drama\n",
       "0   2    The Dark Knight Rises               dccomic crimefight terrorist secretident burglar hostagedrama timebomb gothamc vigilant cover-up superhero villai tragichero terror destruct imax flood batman christianbale michaelcaine garyoldman christophernolan action crime drama thriller                                            \n",
       "5   3    Batman Returns                      holiday corrupt doublelif dccomic crimefight hallucin christmastre gothamc vigilant superhero violenc darkhero supervillain superpow michaelkeaton dannydevito michellepfeiffer timburton action fantasy                                                                                     \n",
       "10  4    Amidst the Devil's Wings               drama action crime                                                                                                                                                                                                                                                                        \n",
       "1   5    Batman v Superman: Dawn of Justice  dccomic vigilant superhero basedoncomicbook reveng superpow dcextendedunivers benaffleck henrycavill galgadot zacksnyder action adventure fantasy                                                                                                                                            \n",
       "3   6    Batman & Robin                      doublelif dccomic dualident crimefight fictionalplac gothamc superhero superpow georgeclooney arnoldschwarzenegger umathurman joelschumacher action crime fantasy                                                                                                                            \n",
       "6   7    Superman                            savingtheworld journalist dccomic crimefight nuclearmissil galaxi superhero basedoncomicbook crimin sabotag northpol superpow superhumanstrength aftercreditssting christopherreeve marlonbrando margotkidder richarddonner action adventure fantasy science fiction                         \n",
       "7   8    Batman                              doublelif dccomic dualident crimefight fictionalplac gothamc superhero superpow jacknicholson michaelkeaton kimbasinger timburton fantasy action                                                                                                                                             \n",
       "8   8    Batman                              submarin dccomic missil sharkattack rescu shark superpow adamwest burtward leemeriwether leslieh.martinson family adventure comedy science fiction crime                                                                                                                                     \n",
       "4   9    Batman Forever                      riddl dccomic gothamc partner superhero brokenneck psychologist violenc crimin districtattorney millionair tiedup superpow disfigur fatherfigur valkilmer tommyleejones jimcarrey joelschumacher action crime fantasy                                                                        \n",
       "9   10   Kick-Ass 2                          crimefight secretident marvelcom superhero aftercreditssting teensuperhero clarkduke jimcarrey lindybooth jeffwadlow action adventure crime                                                                                                                                                  "
      ]
     },
     "execution_count": 42,
     "metadata": {},
     "output_type": "execute_result"
    }
   ],
   "source": [
    "create_df_soup_td('The Dark Knight')"
   ]
  },
  {
   "cell_type": "code",
   "execution_count": 43,
   "metadata": {
    "ExecuteTime": {
     "end_time": "2019-12-11T10:39:40.657669Z",
     "start_time": "2019-12-11T10:39:40.556565Z"
    }
   },
   "outputs": [
    {
     "data": {
      "text/html": [
       "<div>\n",
       "<style scoped>\n",
       "    .dataframe tbody tr th:only-of-type {\n",
       "        vertical-align: middle;\n",
       "    }\n",
       "\n",
       "    .dataframe tbody tr th {\n",
       "        vertical-align: top;\n",
       "    }\n",
       "\n",
       "    .dataframe thead th {\n",
       "        text-align: right;\n",
       "    }\n",
       "</style>\n",
       "<table border=\"1\" class=\"dataframe\">\n",
       "  <thead>\n",
       "    <tr style=\"text-align: right;\">\n",
       "      <th></th>\n",
       "      <th>Rank</th>\n",
       "      <th>title</th>\n",
       "      <th>soup</th>\n",
       "    </tr>\n",
       "  </thead>\n",
       "  <tbody>\n",
       "    <tr>\n",
       "      <th>5</th>\n",
       "      <td>1</td>\n",
       "      <td>The Lord of the Rings: The Two Towers</td>\n",
       "      <td>elv orc middle-earth(tolkien) hobbit basedonnovel explos cave fort armi mission attack wizard ring swordandsorceri elijahwood ianmckellen viggomortensen peterjackson adventure fantasy action</td>\n",
       "    </tr>\n",
       "    <tr>\n",
       "      <th>4</th>\n",
       "      <td>2</td>\n",
       "      <td>The Lord of the Rings: The Fellowship of the Ring</td>\n",
       "      <td>elv dwarv orc middle-earth(tolkien) hobbit basedonnovel mountain firework castl volcano deathofafriend uncl mirror wizard swordandsorceri elijahwood ianmckellen cateblanchett peterjackson adventure fantasy action</td>\n",
       "    </tr>\n",
       "    <tr>\n",
       "      <th>0</th>\n",
       "      <td>3</td>\n",
       "      <td>The Hobbit: The Battle of the Five Armies</td>\n",
       "      <td>corrupt elv dwarv orc middle-earth(tolkien) hobbit dragon battl unlikelyfriendship swordandsorceri martinfreeman ianmckellen richardarmitage peterjackson action adventure fantasy</td>\n",
       "    </tr>\n",
       "    <tr>\n",
       "      <th>2</th>\n",
       "      <td>4</td>\n",
       "      <td>The Hobbit: An Unexpected Journey</td>\n",
       "      <td>riddl elv dwarv orc middle-earth(tolkien) hobbit mountain wizard journey ring goblin courag giant tunnel invis ianmckellen martinfreeman richardarmitage peterjackson adventure fantasy action</td>\n",
       "    </tr>\n",
       "    <tr>\n",
       "      <th>1</th>\n",
       "      <td>5</td>\n",
       "      <td>The Hobbit: The Desolation of Smaug</td>\n",
       "      <td>elv dwarv orc hobbit dragon wizard swordandsorceri martinfreeman ianmckellen richardarmitage peterjackson adventure fantasy</td>\n",
       "    </tr>\n",
       "    <tr>\n",
       "      <th>3</th>\n",
       "      <td>6</td>\n",
       "      <td>Warcraft</td>\n",
       "      <td>videogam elv orc magic chase basedoncomicbook sorcer fictionalwar basedonvideogam wizard swordandsorceri paulapatton travisfimmel benfoster duncanjones action adventure fantasy</td>\n",
       "    </tr>\n",
       "    <tr>\n",
       "      <th>6</th>\n",
       "      <td>7</td>\n",
       "      <td>Conan the Barbarian</td>\n",
       "      <td>gladiat repay barbarian swordandsorceri arnoldschwarzenegger jamesearljones maxvonsydow johnmilius adventure fantasy action</td>\n",
       "    </tr>\n",
       "    <tr>\n",
       "      <th>9</th>\n",
       "      <td>8</td>\n",
       "      <td>Red Sonja</td>\n",
       "      <td>monster swordplay queen marvelcom basedoncomicbook swordandsorceri arnoldschwarzenegger brigittenielsen sandahlbergman richardfleischer adventure fantasy action</td>\n",
       "    </tr>\n",
       "    <tr>\n",
       "      <th>7</th>\n",
       "      <td>9</td>\n",
       "      <td>Con Air</td>\n",
       "      <td>prison ambush helicopt airport gasstat undercov mexicanstandoff braveri hijack escap shootout u.s.marsh lasvega explos brutal violenc convict desert deaag nicolascage johncusack johnmalkovich simonwest action thriller crime</td>\n",
       "    </tr>\n",
       "    <tr>\n",
       "      <th>8</th>\n",
       "      <td>10</td>\n",
       "      <td>The Last Witch Hunter</td>\n",
       "      <td>newyork witch upris witchhunt vindiesel roseleslie elijahwood breckeisner fantasy action adventure</td>\n",
       "    </tr>\n",
       "  </tbody>\n",
       "</table>\n",
       "</div>"
      ],
      "text/plain": [
       "  Rank                                              title                                                                                                                                                                                                                             soup\n",
       "5  1    The Lord of the Rings: The Two Towers              elv orc middle-earth(tolkien) hobbit basedonnovel explos cave fort armi mission attack wizard ring swordandsorceri elijahwood ianmckellen viggomortensen peterjackson adventure fantasy action                                 \n",
       "4  2    The Lord of the Rings: The Fellowship of the Ring  elv dwarv orc middle-earth(tolkien) hobbit basedonnovel mountain firework castl volcano deathofafriend uncl mirror wizard swordandsorceri elijahwood ianmckellen cateblanchett peterjackson adventure fantasy action           \n",
       "0  3    The Hobbit: The Battle of the Five Armies          corrupt elv dwarv orc middle-earth(tolkien) hobbit dragon battl unlikelyfriendship swordandsorceri martinfreeman ianmckellen richardarmitage peterjackson action adventure fantasy                                             \n",
       "2  4    The Hobbit: An Unexpected Journey                  riddl elv dwarv orc middle-earth(tolkien) hobbit mountain wizard journey ring goblin courag giant tunnel invis ianmckellen martinfreeman richardarmitage peterjackson adventure fantasy action                                 \n",
       "1  5    The Hobbit: The Desolation of Smaug                elv dwarv orc hobbit dragon wizard swordandsorceri martinfreeman ianmckellen richardarmitage peterjackson adventure fantasy                                                                                                    \n",
       "3  6    Warcraft                                           videogam elv orc magic chase basedoncomicbook sorcer fictionalwar basedonvideogam wizard swordandsorceri paulapatton travisfimmel benfoster duncanjones action adventure fantasy                                               \n",
       "6  7    Conan the Barbarian                                gladiat repay barbarian swordandsorceri arnoldschwarzenegger jamesearljones maxvonsydow johnmilius adventure fantasy action                                                                                                    \n",
       "9  8    Red Sonja                                          monster swordplay queen marvelcom basedoncomicbook swordandsorceri arnoldschwarzenegger brigittenielsen sandahlbergman richardfleischer adventure fantasy action                                                               \n",
       "7  9    Con Air                                            prison ambush helicopt airport gasstat undercov mexicanstandoff braveri hijack escap shootout u.s.marsh lasvega explos brutal violenc convict desert deaag nicolascage johncusack johnmalkovich simonwest action thriller crime\n",
       "8  10   The Last Witch Hunter                              newyork witch upris witchhunt vindiesel roseleslie elijahwood breckeisner fantasy action adventure                                                                                                                             "
      ]
     },
     "execution_count": 43,
     "metadata": {},
     "output_type": "execute_result"
    }
   ],
   "source": [
    "create_df_soup_td('The Lord of the Rings: The Return of the King')"
   ]
  },
  {
   "cell_type": "markdown",
   "metadata": {},
   "source": [
    "This model still give us movie with similar title even thought we have combine cast, genre, keywords and director"
   ]
  },
  {
   "cell_type": "markdown",
   "metadata": {},
   "source": [
    "## Recommendation Keywords, Genres, Director, Cast TD with Weight"
   ]
  },
  {
   "cell_type": "code",
   "execution_count": 44,
   "metadata": {
    "ExecuteTime": {
     "end_time": "2019-12-11T10:39:41.726396Z",
     "start_time": "2019-12-11T10:39:40.658671Z"
    }
   },
   "outputs": [],
   "source": [
    "#create cosine for every features\n",
    "cosine_sim_genre = create_cosine_sim(movie_df, 'genres')\n",
    "cosine_sim_cast = create_cosine_sim(movie_df, 'cast_name')\n",
    "cosine_sim_keywords = create_cosine_sim(movie_df, 'keywords')\n",
    "cosine_sim_director = create_cosine_sim(movie_df, 'director')\n",
    "\n",
    "#combine the cosine, put more weight on cast and director, reduce genre's and keyword's weight\n",
    "cosine_sim4 = ((cosine_sim_genre*0.2)+(cosine_sim_cast*0.35)+(cosine_sim_keywords*0.2)+(cosine_sim_director*0.25))"
   ]
  },
  {
   "cell_type": "code",
   "execution_count": 45,
   "metadata": {
    "ExecuteTime": {
     "end_time": "2019-12-11T10:39:41.735267Z",
     "start_time": "2019-12-11T10:39:41.727395Z"
    }
   },
   "outputs": [],
   "source": [
    "def create_df_td_weight(input_title):\n",
    "    movie_title = get_recommendations(movie_df, input_title, cosine_sim4)\n",
    "    movie_rank = pd.Series([1,2,3,4,5,6,7,8,9,10], index=movie_title.index, name='Rank')\n",
    "    recommendation_df = pd.DataFrame([movie_title,movie_rank]).transpose()\n",
    "    movie_recommendation = pd.merge(movie_df[['title','genres','cast_name','keywords','director']],recommendation_df, left_on='title', right_on = 'title')\n",
    "    return movie_recommendation.sort_values('Rank')[['Rank','title','genres','cast_name','keywords','director']]"
   ]
  },
  {
   "cell_type": "code",
   "execution_count": 46,
   "metadata": {
    "ExecuteTime": {
     "end_time": "2019-12-11T10:39:41.844973Z",
     "start_time": "2019-12-11T10:39:41.737263Z"
    }
   },
   "outputs": [
    {
     "data": {
      "text/html": [
       "<div>\n",
       "<style scoped>\n",
       "    .dataframe tbody tr th:only-of-type {\n",
       "        vertical-align: middle;\n",
       "    }\n",
       "\n",
       "    .dataframe tbody tr th {\n",
       "        vertical-align: top;\n",
       "    }\n",
       "\n",
       "    .dataframe thead th {\n",
       "        text-align: right;\n",
       "    }\n",
       "</style>\n",
       "<table border=\"1\" class=\"dataframe\">\n",
       "  <thead>\n",
       "    <tr style=\"text-align: right;\">\n",
       "      <th></th>\n",
       "      <th>Rank</th>\n",
       "      <th>title</th>\n",
       "      <th>genres</th>\n",
       "      <th>cast_name</th>\n",
       "      <th>keywords</th>\n",
       "      <th>director</th>\n",
       "    </tr>\n",
       "  </thead>\n",
       "  <tbody>\n",
       "    <tr>\n",
       "      <th>2</th>\n",
       "      <td>1</td>\n",
       "      <td>Batman Begins</td>\n",
       "      <td>action crime drama</td>\n",
       "      <td>christianbale michaelcaine liamneeson</td>\n",
       "      <td>himalaya martialart dccomic crimefight secretident undercov hero lossoffath societi gothamc vigilant superhero basedoncomicbook rivalri tragichero ninja goodvsevil crime superpow escapad mastervillain loveandrom</td>\n",
       "      <td>christophernolan</td>\n",
       "    </tr>\n",
       "    <tr>\n",
       "      <th>0</th>\n",
       "      <td>2</td>\n",
       "      <td>The Dark Knight</td>\n",
       "      <td>drama action crime thriller</td>\n",
       "      <td>christianbale heathledger aaroneckhart</td>\n",
       "      <td>dccomic crimefight secretident scarecrow sadism chao gothamc vigilant superhero basedoncomicbook tragichero organizedcrim criminalmastermind districtattorney imax supervillain superpow batman</td>\n",
       "      <td>christophernolan</td>\n",
       "    </tr>\n",
       "    <tr>\n",
       "      <th>4</th>\n",
       "      <td>3</td>\n",
       "      <td>The Prestige</td>\n",
       "      <td>drama mystery thriller</td>\n",
       "      <td>hughjackman christianbale michaelcaine</td>\n",
       "      <td>competit secret obsess magic dyinganddeath classsocieti illus hostil class rivalri</td>\n",
       "      <td>christophernolan</td>\n",
       "    </tr>\n",
       "    <tr>\n",
       "      <th>3</th>\n",
       "      <td>4</td>\n",
       "      <td>Insomnia</td>\n",
       "      <td>crime mystery thriller</td>\n",
       "      <td>alpacino robinwilliams hilaryswank</td>\n",
       "      <td>detect confess fbi homicid blackmail suspect love murder losangel teenag neo-noir</td>\n",
       "      <td>christophernolan</td>\n",
       "    </tr>\n",
       "    <tr>\n",
       "      <th>1</th>\n",
       "      <td>5</td>\n",
       "      <td>Inception</td>\n",
       "      <td>action thriller science fiction mystery adventure</td>\n",
       "      <td>leonardodicaprio ellenpage tomhardy</td>\n",
       "      <td>lossoflov dream kidnap sleep subconsci heist redempt</td>\n",
       "      <td>christophernolan</td>\n",
       "    </tr>\n",
       "    <tr>\n",
       "      <th>7</th>\n",
       "      <td>6</td>\n",
       "      <td>Harry Brown</td>\n",
       "      <td>thriller crime drama action</td>\n",
       "      <td>michaelcaine emilymortimer iainglen</td>\n",
       "      <td>self-defens widow</td>\n",
       "      <td>danielbarber</td>\n",
       "    </tr>\n",
       "    <tr>\n",
       "      <th>8</th>\n",
       "      <td>7</td>\n",
       "      <td>Memento</td>\n",
       "      <td>mystery thriller</td>\n",
       "      <td>guypearce joepantoliano markboonejunior</td>\n",
       "      <td>individu tattoo waitress amnesia motel insurancesalesman reveng memoryloss polaroid flashback neo-noir</td>\n",
       "      <td>christophernolan</td>\n",
       "    </tr>\n",
       "    <tr>\n",
       "      <th>6</th>\n",
       "      <td>8</td>\n",
       "      <td>Romeo Is Bleeding</td>\n",
       "      <td>action crime drama thriller</td>\n",
       "      <td>garyoldman lenaolin annabellasciorra</td>\n",
       "      <td>policeoper sexaddict polic mafiaboss suspens</td>\n",
       "      <td>petermedak</td>\n",
       "    </tr>\n",
       "    <tr>\n",
       "      <th>9</th>\n",
       "      <td>9</td>\n",
       "      <td>Harsh Times</td>\n",
       "      <td>crime drama thriller action</td>\n",
       "      <td>christianbale evalongoria chakaforman</td>\n",
       "      <td></td>\n",
       "      <td>davidayer</td>\n",
       "    </tr>\n",
       "    <tr>\n",
       "      <th>5</th>\n",
       "      <td>10</td>\n",
       "      <td>Out of the Furnace</td>\n",
       "      <td>thriller drama crime</td>\n",
       "      <td>christianbale zoesaldana woodyharrelson</td>\n",
       "      <td>prison brotherbrotherrelationship drugdeal brother reveng drugus caraccid justic famili neo-noir</td>\n",
       "      <td>scottcooper</td>\n",
       "    </tr>\n",
       "  </tbody>\n",
       "</table>\n",
       "</div>"
      ],
      "text/plain": [
       "  Rank               title                                             genres                                cast_name                                                                                                                                                                                                             keywords          director\n",
       "2  1    Batman Begins       action crime drama                                 christianbale michaelcaine liamneeson    himalaya martialart dccomic crimefight secretident undercov hero lossoffath societi gothamc vigilant superhero basedoncomicbook rivalri tragichero ninja goodvsevil crime superpow escapad mastervillain loveandrom  christophernolan\n",
       "0  2    The Dark Knight     drama action crime thriller                        christianbale heathledger aaroneckhart   dccomic crimefight secretident scarecrow sadism chao gothamc vigilant superhero basedoncomicbook tragichero organizedcrim criminalmastermind districtattorney imax supervillain superpow batman                      christophernolan\n",
       "4  3    The Prestige        drama mystery thriller                             hughjackman christianbale michaelcaine   competit secret obsess magic dyinganddeath classsocieti illus hostil class rivalri                                                                                                                                   christophernolan\n",
       "3  4    Insomnia            crime mystery thriller                             alpacino robinwilliams hilaryswank       detect confess fbi homicid blackmail suspect love murder losangel teenag neo-noir                                                                                                                                    christophernolan\n",
       "1  5    Inception           action thriller science fiction mystery adventure  leonardodicaprio ellenpage tomhardy      lossoflov dream kidnap sleep subconsci heist redempt                                                                                                                                                                 christophernolan\n",
       "7  6    Harry Brown         thriller crime drama action                        michaelcaine emilymortimer iainglen      self-defens widow                                                                                                                                                                                                    danielbarber    \n",
       "8  7    Memento             mystery thriller                                   guypearce joepantoliano markboonejunior  individu tattoo waitress amnesia motel insurancesalesman reveng memoryloss polaroid flashback neo-noir                                                                                                               christophernolan\n",
       "6  8    Romeo Is Bleeding   action crime drama thriller                        garyoldman lenaolin annabellasciorra     policeoper sexaddict polic mafiaboss suspens                                                                                                                                                                         petermedak      \n",
       "9  9    Harsh Times         crime drama thriller action                        christianbale evalongoria chakaforman                                                                                                                                                                                                                         davidayer       \n",
       "5  10   Out of the Furnace  thriller drama crime                               christianbale zoesaldana woodyharrelson  prison brotherbrotherrelationship drugdeal brother reveng drugus caraccid justic famili neo-noir                                                                                                                     scottcooper     "
      ]
     },
     "execution_count": 46,
     "metadata": {},
     "output_type": "execute_result"
    }
   ],
   "source": [
    "create_df_td_weight('The Dark Knight Rises')"
   ]
  },
  {
   "cell_type": "code",
   "execution_count": 47,
   "metadata": {
    "ExecuteTime": {
     "end_time": "2019-12-11T10:39:41.919774Z",
     "start_time": "2019-12-11T10:39:41.846968Z"
    }
   },
   "outputs": [
    {
     "data": {
      "text/html": [
       "<div>\n",
       "<style scoped>\n",
       "    .dataframe tbody tr th:only-of-type {\n",
       "        vertical-align: middle;\n",
       "    }\n",
       "\n",
       "    .dataframe tbody tr th {\n",
       "        vertical-align: top;\n",
       "    }\n",
       "\n",
       "    .dataframe thead th {\n",
       "        text-align: right;\n",
       "    }\n",
       "</style>\n",
       "<table border=\"1\" class=\"dataframe\">\n",
       "  <thead>\n",
       "    <tr style=\"text-align: right;\">\n",
       "      <th></th>\n",
       "      <th>Rank</th>\n",
       "      <th>title</th>\n",
       "      <th>genres</th>\n",
       "      <th>cast_name</th>\n",
       "      <th>keywords</th>\n",
       "      <th>director</th>\n",
       "    </tr>\n",
       "  </thead>\n",
       "  <tbody>\n",
       "    <tr>\n",
       "      <th>7</th>\n",
       "      <td>1</td>\n",
       "      <td>The Lord of the Rings: The Two Towers</td>\n",
       "      <td>adventure fantasy action</td>\n",
       "      <td>elijahwood ianmckellen viggomortensen</td>\n",
       "      <td>elv orc middle-earth(tolkien) hobbit basedonnovel explos cave fort armi mission attack wizard ring swordandsorceri</td>\n",
       "      <td>peterjackson</td>\n",
       "    </tr>\n",
       "    <tr>\n",
       "      <th>5</th>\n",
       "      <td>2</td>\n",
       "      <td>The Lord of the Rings: The Fellowship of the Ring</td>\n",
       "      <td>adventure fantasy action</td>\n",
       "      <td>elijahwood ianmckellen cateblanchett</td>\n",
       "      <td>elv dwarv orc middle-earth(tolkien) hobbit basedonnovel mountain firework castl volcano deathofafriend uncl mirror wizard swordandsorceri</td>\n",
       "      <td>peterjackson</td>\n",
       "    </tr>\n",
       "    <tr>\n",
       "      <th>0</th>\n",
       "      <td>3</td>\n",
       "      <td>The Hobbit: The Battle of the Five Armies</td>\n",
       "      <td>action adventure fantasy</td>\n",
       "      <td>martinfreeman ianmckellen richardarmitage</td>\n",
       "      <td>corrupt elv dwarv orc middle-earth(tolkien) hobbit dragon battl unlikelyfriendship swordandsorceri</td>\n",
       "      <td>peterjackson</td>\n",
       "    </tr>\n",
       "    <tr>\n",
       "      <th>3</th>\n",
       "      <td>4</td>\n",
       "      <td>The Hobbit: An Unexpected Journey</td>\n",
       "      <td>adventure fantasy action</td>\n",
       "      <td>ianmckellen martinfreeman richardarmitage</td>\n",
       "      <td>riddl elv dwarv orc middle-earth(tolkien) hobbit mountain wizard journey ring goblin courag giant tunnel invis</td>\n",
       "      <td>peterjackson</td>\n",
       "    </tr>\n",
       "    <tr>\n",
       "      <th>1</th>\n",
       "      <td>5</td>\n",
       "      <td>The Hobbit: The Desolation of Smaug</td>\n",
       "      <td>adventure fantasy</td>\n",
       "      <td>martinfreeman ianmckellen richardarmitage</td>\n",
       "      <td>elv dwarv orc hobbit dragon wizard swordandsorceri</td>\n",
       "      <td>peterjackson</td>\n",
       "    </tr>\n",
       "    <tr>\n",
       "      <th>2</th>\n",
       "      <td>6</td>\n",
       "      <td>King Kong</td>\n",
       "      <td>adventure drama action</td>\n",
       "      <td>naomiwatts jackblack adrienbrody</td>\n",
       "      <td>filmbusi screenplay showbusi filmmak filmproduc exoticisland monster indigen ship dinosaur</td>\n",
       "      <td>peterjackson</td>\n",
       "    </tr>\n",
       "    <tr>\n",
       "      <th>6</th>\n",
       "      <td>7</td>\n",
       "      <td>The Lovely Bones</td>\n",
       "      <td>fantasy drama</td>\n",
       "      <td>rachelweisz markwahlberg susansarandon</td>\n",
       "      <td>rape 1970s evid tree afterlif lossofdaught serialkil corps pedophil teenagelov griev basedonyoungadultnovel</td>\n",
       "      <td>peterjackson</td>\n",
       "    </tr>\n",
       "    <tr>\n",
       "      <th>9</th>\n",
       "      <td>8</td>\n",
       "      <td>Heavenly Creatures</td>\n",
       "      <td>drama fantasy</td>\n",
       "      <td>melanielynskey katewinslet sarahpeirse</td>\n",
       "      <td>mother sex secret obsess literatur nuditi fantasi passion love friend murder independentfilm lesbian true relationship</td>\n",
       "      <td>peterjackson</td>\n",
       "    </tr>\n",
       "    <tr>\n",
       "      <th>8</th>\n",
       "      <td>9</td>\n",
       "      <td>The Last Witch Hunter</td>\n",
       "      <td>fantasy action adventure</td>\n",
       "      <td>vindiesel roseleslie elijahwood</td>\n",
       "      <td>newyork witch upris witchhunt</td>\n",
       "      <td>breckeisner</td>\n",
       "    </tr>\n",
       "    <tr>\n",
       "      <th>4</th>\n",
       "      <td>10</td>\n",
       "      <td>Warcraft</td>\n",
       "      <td>action adventure fantasy</td>\n",
       "      <td>paulapatton travisfimmel benfoster</td>\n",
       "      <td>videogam elv orc magic chase basedoncomicbook sorcer fictionalwar basedonvideogam wizard swordandsorceri</td>\n",
       "      <td>duncanjones</td>\n",
       "    </tr>\n",
       "  </tbody>\n",
       "</table>\n",
       "</div>"
      ],
      "text/plain": [
       "  Rank                                              title                    genres                                  cast_name                                                                                                                                   keywords      director\n",
       "7  1    The Lord of the Rings: The Two Towers              adventure fantasy action  elijahwood ianmckellen viggomortensen      elv orc middle-earth(tolkien) hobbit basedonnovel explos cave fort armi mission attack wizard ring swordandsorceri                         peterjackson\n",
       "5  2    The Lord of the Rings: The Fellowship of the Ring  adventure fantasy action  elijahwood ianmckellen cateblanchett       elv dwarv orc middle-earth(tolkien) hobbit basedonnovel mountain firework castl volcano deathofafriend uncl mirror wizard swordandsorceri  peterjackson\n",
       "0  3    The Hobbit: The Battle of the Five Armies          action adventure fantasy  martinfreeman ianmckellen richardarmitage  corrupt elv dwarv orc middle-earth(tolkien) hobbit dragon battl unlikelyfriendship swordandsorceri                                         peterjackson\n",
       "3  4    The Hobbit: An Unexpected Journey                  adventure fantasy action  ianmckellen martinfreeman richardarmitage  riddl elv dwarv orc middle-earth(tolkien) hobbit mountain wizard journey ring goblin courag giant tunnel invis                             peterjackson\n",
       "1  5    The Hobbit: The Desolation of Smaug                adventure fantasy         martinfreeman ianmckellen richardarmitage  elv dwarv orc hobbit dragon wizard swordandsorceri                                                                                         peterjackson\n",
       "2  6    King Kong                                          adventure drama action    naomiwatts jackblack adrienbrody           filmbusi screenplay showbusi filmmak filmproduc exoticisland monster indigen ship dinosaur                                                 peterjackson\n",
       "6  7    The Lovely Bones                                   fantasy drama             rachelweisz markwahlberg susansarandon     rape 1970s evid tree afterlif lossofdaught serialkil corps pedophil teenagelov griev basedonyoungadultnovel                                peterjackson\n",
       "9  8    Heavenly Creatures                                 drama fantasy             melanielynskey katewinslet sarahpeirse     mother sex secret obsess literatur nuditi fantasi passion love friend murder independentfilm lesbian true relationship                     peterjackson\n",
       "8  9    The Last Witch Hunter                              fantasy action adventure  vindiesel roseleslie elijahwood            newyork witch upris witchhunt                                                                                                              breckeisner \n",
       "4  10   Warcraft                                           action adventure fantasy  paulapatton travisfimmel benfoster         videogam elv orc magic chase basedoncomicbook sorcer fictionalwar basedonvideogam wizard swordandsorceri                                   duncanjones "
      ]
     },
     "execution_count": 47,
     "metadata": {},
     "output_type": "execute_result"
    }
   ],
   "source": [
    "create_df_td_weight('The Lord of the Rings: The Return of the King')"
   ]
  },
  {
   "cell_type": "markdown",
   "metadata": {},
   "source": [
    "Finally, we can get a more variation, but since we put more weight on cast an director, movies that appear tend to come from similar director. If, the movie have sequels from the same director, it will guarantee that the movie's sequel will come up."
   ]
  },
  {
   "cell_type": "code",
   "execution_count": null,
   "metadata": {},
   "outputs": [],
   "source": []
  }
 ],
 "metadata": {
  "kernelspec": {
   "display_name": "Python 3",
   "language": "python",
   "name": "python3"
  },
  "language_info": {
   "codemirror_mode": {
    "name": "ipython",
    "version": 3
   },
   "file_extension": ".py",
   "mimetype": "text/x-python",
   "name": "python",
   "nbconvert_exporter": "python",
   "pygments_lexer": "ipython3",
   "version": "3.7.3"
  },
  "varInspector": {
   "cols": {
    "lenName": 16,
    "lenType": 16,
    "lenVar": 40
   },
   "kernels_config": {
    "python": {
     "delete_cmd_postfix": "",
     "delete_cmd_prefix": "del ",
     "library": "var_list.py",
     "varRefreshCmd": "print(var_dic_list())"
    },
    "r": {
     "delete_cmd_postfix": ") ",
     "delete_cmd_prefix": "rm(",
     "library": "var_list.r",
     "varRefreshCmd": "cat(var_dic_list()) "
    }
   },
   "types_to_exclude": [
    "module",
    "function",
    "builtin_function_or_method",
    "instance",
    "_Feature"
   ],
   "window_display": false
  }
 },
 "nbformat": 4,
 "nbformat_minor": 2
}
