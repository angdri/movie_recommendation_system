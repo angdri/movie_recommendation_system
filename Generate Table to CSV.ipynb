{
 "cells": [
  {
   "cell_type": "code",
   "execution_count": 4,
   "metadata": {
    "ExecuteTime": {
     "end_time": "2019-11-17T04:39:19.575971Z",
     "start_time": "2019-11-17T04:39:18.645641Z"
    }
   },
   "outputs": [],
   "source": [
    "import pandas as pd"
   ]
  },
  {
   "cell_type": "markdown",
   "metadata": {
    "heading_collapsed": true
   },
   "source": [
    "## generate genres' table"
   ]
  },
  {
   "cell_type": "code",
   "execution_count": 7,
   "metadata": {
    "ExecuteTime": {
     "end_time": "2019-11-16T07:08:15.444617Z",
     "start_time": "2019-11-16T07:08:15.313041Z"
    },
    "hidden": true
   },
   "outputs": [],
   "source": [
    "movie = pd.read_csv('./data/clean_movie.csv', encoding='raw_unicode_escape', usecols=['id','genres'])"
   ]
  },
  {
   "cell_type": "code",
   "execution_count": 22,
   "metadata": {
    "ExecuteTime": {
     "end_time": "2019-11-15T16:42:14.813494Z",
     "start_time": "2019-11-15T16:33:54.421912Z"
    },
    "hidden": true
   },
   "outputs": [],
   "source": [
    "index = 0\n",
    "for i in movie['genres']:\n",
    "    list_genre = i.split(',')\n",
    "    for j in list_genre:\n",
    "        if not j in list(movie.columns):\n",
    "            movie[j] = 0\n",
    "        movie[j].loc[index] = 1\n",
    "    index += 1"
   ]
  },
  {
   "cell_type": "code",
   "execution_count": 25,
   "metadata": {
    "ExecuteTime": {
     "end_time": "2019-11-15T16:42:53.309788Z",
     "start_time": "2019-11-15T16:42:53.303804Z"
    },
    "hidden": true
   },
   "outputs": [],
   "source": [
    "movie.drop('genres',axis=1,inplace=True)"
   ]
  },
  {
   "cell_type": "code",
   "execution_count": 1,
   "metadata": {
    "ExecuteTime": {
     "end_time": "2019-11-17T04:37:53.007482Z",
     "start_time": "2019-11-17T04:37:53.000517Z"
    },
    "hidden": true
   },
   "outputs": [],
   "source": [
    "# movie.to_csv('./data/genre_table.csv', index=False) #export to genre_table.csv"
   ]
  },
  {
   "cell_type": "markdown",
   "metadata": {
    "heading_collapsed": true
   },
   "source": [
    "## generate producer's table"
   ]
  },
  {
   "cell_type": "code",
   "execution_count": 8,
   "metadata": {
    "ExecuteTime": {
     "end_time": "2019-11-16T07:08:27.631829Z",
     "start_time": "2019-11-16T07:08:27.564920Z"
    },
    "hidden": true
   },
   "outputs": [],
   "source": [
    "credit_df = pd.read_csv('./data/clean_credit.csv', encoding='raw_unicode_escape', usecols=['movie_id','producer'])"
   ]
  },
  {
   "cell_type": "code",
   "execution_count": 35,
   "metadata": {
    "ExecuteTime": {
     "end_time": "2019-11-15T17:04:38.947758Z",
     "start_time": "2019-11-15T16:51:29.378000Z"
    },
    "hidden": true
   },
   "outputs": [],
   "source": [
    "index = 0\n",
    "for i in credit_df['producer']:\n",
    "    if i == '-': continue\n",
    "    list_producer = i.split(',')\n",
    "    for j in list_producer:\n",
    "        if not j in list(credit_df.columns):\n",
    "            credit_df[j] = 0\n",
    "        credit_df[j].loc[index] = 1\n",
    "    index += 1"
   ]
  },
  {
   "cell_type": "code",
   "execution_count": 39,
   "metadata": {
    "ExecuteTime": {
     "end_time": "2019-11-15T17:12:21.197346Z",
     "start_time": "2019-11-15T17:12:21.033944Z"
    },
    "hidden": true
   },
   "outputs": [],
   "source": [
    "credit_df.drop(['producer','director'],axis=1,inplace=True)"
   ]
  },
  {
   "cell_type": "code",
   "execution_count": 2,
   "metadata": {
    "ExecuteTime": {
     "end_time": "2019-11-17T04:38:34.542391Z",
     "start_time": "2019-11-17T04:38:34.536728Z"
    },
    "hidden": true
   },
   "outputs": [],
   "source": [
    "# credit_df.to_csv('./data/producer_table.csv',index=False) #export to producer_table"
   ]
  },
  {
   "cell_type": "markdown",
   "metadata": {
    "heading_collapsed": true
   },
   "source": [
    "## generate director's table "
   ]
  },
  {
   "cell_type": "code",
   "execution_count": 5,
   "metadata": {
    "ExecuteTime": {
     "end_time": "2019-11-17T04:39:23.549594Z",
     "start_time": "2019-11-17T04:39:23.505845Z"
    },
    "hidden": true
   },
   "outputs": [],
   "source": [
    "credit_df = pd.read_csv('./data/clean_credit.csv', encoding='raw_unicode_escape', usecols=['movie_id', 'director'])"
   ]
  },
  {
   "cell_type": "code",
   "execution_count": 7,
   "metadata": {
    "ExecuteTime": {
     "end_time": "2019-11-17T04:45:47.256434Z",
     "start_time": "2019-11-17T04:39:48.785753Z"
    },
    "hidden": true
   },
   "outputs": [],
   "source": [
    "index = 0\n",
    "for i in credit_df['director']:\n",
    "    if type(i) == float: continue\n",
    "    list_director = i.split(',')\n",
    "    for j in list_director:\n",
    "        if not j in list(credit_df.columns):\n",
    "            credit_df[j] = 0\n",
    "        credit_df[j].loc[index] = 1\n",
    "    index += 1"
   ]
  },
  {
   "cell_type": "code",
   "execution_count": 8,
   "metadata": {
    "ExecuteTime": {
     "end_time": "2019-11-17T04:49:55.142798Z",
     "start_time": "2019-11-17T04:49:31.516774Z"
    },
    "hidden": true
   },
   "outputs": [],
   "source": [
    "# credit_df.to_csv('./data/director_table.csv',index=False) #export to producer_table"
   ]
  },
  {
   "cell_type": "markdown",
   "metadata": {},
   "source": [
    "## merge movie and credit's csv "
   ]
  },
  {
   "cell_type": "code",
   "execution_count": 9,
   "metadata": {
    "ExecuteTime": {
     "end_time": "2019-11-17T04:56:47.418313Z",
     "start_time": "2019-11-17T04:56:47.137683Z"
    }
   },
   "outputs": [],
   "source": [
    "movie = pd.read_csv('./data/clean_movie.csv', encoding='raw_unicode_escape')\n",
    "credit_df = pd.read_csv('./data/clean_credit.csv', encoding='raw_unicode_escape')"
   ]
  },
  {
   "cell_type": "code",
   "execution_count": 10,
   "metadata": {
    "ExecuteTime": {
     "end_time": "2019-11-17T04:56:48.346483Z",
     "start_time": "2019-11-17T04:56:48.333340Z"
    }
   },
   "outputs": [
    {
     "name": "stdout",
     "output_type": "stream",
     "text": [
      "<class 'pandas.core.frame.DataFrame'>\n",
      "RangeIndex: 4803 entries, 0 to 4802\n",
      "Data columns (total 22 columns):\n",
      "budget                      4803 non-null int64\n",
      "genres                      4775 non-null object\n",
      "id                          4803 non-null int64\n",
      "keywords                    4390 non-null object\n",
      "original_language           4803 non-null object\n",
      "original_title              4803 non-null object\n",
      "overview                    4803 non-null object\n",
      "popularity                  4803 non-null float64\n",
      "production_companies        4451 non-null object\n",
      "production_countries        4629 non-null object\n",
      "release_date                4803 non-null object\n",
      "revenue                     4803 non-null int64\n",
      "runtime                     4803 non-null float64\n",
      "spoken_languages            4715 non-null object\n",
      "status                      4803 non-null object\n",
      "tagline                     3959 non-null object\n",
      "title                       4803 non-null object\n",
      "vote_average                4803 non-null float64\n",
      "vote_count                  4803 non-null int64\n",
      "production_countries_iso    4629 non-null object\n",
      "spoken_languages_iso        4717 non-null object\n",
      "release_year                4803 non-null int64\n",
      "dtypes: float64(3), int64(5), object(14)\n",
      "memory usage: 825.6+ KB\n"
     ]
    }
   ],
   "source": [
    "movie.info()"
   ]
  },
  {
   "cell_type": "code",
   "execution_count": 11,
   "metadata": {
    "ExecuteTime": {
     "end_time": "2019-11-17T04:57:21.707100Z",
     "start_time": "2019-11-17T04:57:21.692862Z"
    }
   },
   "outputs": [
    {
     "name": "stdout",
     "output_type": "stream",
     "text": [
      "<class 'pandas.core.frame.DataFrame'>\n",
      "RangeIndex: 4803 entries, 0 to 4802\n",
      "Data columns (total 5 columns):\n",
      "movie_id     4803 non-null int64\n",
      "cast_name    4757 non-null object\n",
      "writer       1504 non-null object\n",
      "producer     3743 non-null object\n",
      "director     4562 non-null object\n",
      "dtypes: int64(1), object(4)\n",
      "memory usage: 187.7+ KB\n"
     ]
    }
   ],
   "source": [
    "credit_df.info()"
   ]
  },
  {
   "cell_type": "code",
   "execution_count": 12,
   "metadata": {
    "ExecuteTime": {
     "end_time": "2019-11-17T04:57:48.066084Z",
     "start_time": "2019-11-17T04:57:48.037258Z"
    }
   },
   "outputs": [],
   "source": [
    "merged = pd.merge(movie, credit_df, left_on='id', right_on='movie_id', how='outer')"
   ]
  },
  {
   "cell_type": "code",
   "execution_count": 13,
   "metadata": {
    "ExecuteTime": {
     "end_time": "2019-11-17T04:57:55.252984Z",
     "start_time": "2019-11-17T04:57:55.232909Z"
    }
   },
   "outputs": [
    {
     "name": "stdout",
     "output_type": "stream",
     "text": [
      "<class 'pandas.core.frame.DataFrame'>\n",
      "Int64Index: 4803 entries, 0 to 4802\n",
      "Data columns (total 27 columns):\n",
      "budget                      4803 non-null int64\n",
      "genres                      4775 non-null object\n",
      "id                          4803 non-null int64\n",
      "keywords                    4390 non-null object\n",
      "original_language           4803 non-null object\n",
      "original_title              4803 non-null object\n",
      "overview                    4803 non-null object\n",
      "popularity                  4803 non-null float64\n",
      "production_companies        4451 non-null object\n",
      "production_countries        4629 non-null object\n",
      "release_date                4803 non-null object\n",
      "revenue                     4803 non-null int64\n",
      "runtime                     4803 non-null float64\n",
      "spoken_languages            4715 non-null object\n",
      "status                      4803 non-null object\n",
      "tagline                     3959 non-null object\n",
      "title                       4803 non-null object\n",
      "vote_average                4803 non-null float64\n",
      "vote_count                  4803 non-null int64\n",
      "production_countries_iso    4629 non-null object\n",
      "spoken_languages_iso        4717 non-null object\n",
      "release_year                4803 non-null int64\n",
      "movie_id                    4803 non-null int64\n",
      "cast_name                   4757 non-null object\n",
      "writer                      1504 non-null object\n",
      "producer                    3743 non-null object\n",
      "director                    4562 non-null object\n",
      "dtypes: float64(3), int64(6), object(18)\n",
      "memory usage: 1.0+ MB\n"
     ]
    }
   ],
   "source": [
    "merged.info()"
   ]
  },
  {
   "cell_type": "code",
   "execution_count": 14,
   "metadata": {
    "ExecuteTime": {
     "end_time": "2019-11-17T04:59:48.918478Z",
     "start_time": "2019-11-17T04:59:48.904424Z"
    }
   },
   "outputs": [],
   "source": [
    "merged.drop(['movie_id','writer'], axis=1, inplace=True)"
   ]
  },
  {
   "cell_type": "code",
   "execution_count": 15,
   "metadata": {
    "ExecuteTime": {
     "end_time": "2019-11-17T04:59:57.172844Z",
     "start_time": "2019-11-17T04:59:57.156710Z"
    }
   },
   "outputs": [
    {
     "name": "stdout",
     "output_type": "stream",
     "text": [
      "<class 'pandas.core.frame.DataFrame'>\n",
      "Int64Index: 4803 entries, 0 to 4802\n",
      "Data columns (total 25 columns):\n",
      "budget                      4803 non-null int64\n",
      "genres                      4775 non-null object\n",
      "id                          4803 non-null int64\n",
      "keywords                    4390 non-null object\n",
      "original_language           4803 non-null object\n",
      "original_title              4803 non-null object\n",
      "overview                    4803 non-null object\n",
      "popularity                  4803 non-null float64\n",
      "production_companies        4451 non-null object\n",
      "production_countries        4629 non-null object\n",
      "release_date                4803 non-null object\n",
      "revenue                     4803 non-null int64\n",
      "runtime                     4803 non-null float64\n",
      "spoken_languages            4715 non-null object\n",
      "status                      4803 non-null object\n",
      "tagline                     3959 non-null object\n",
      "title                       4803 non-null object\n",
      "vote_average                4803 non-null float64\n",
      "vote_count                  4803 non-null int64\n",
      "production_countries_iso    4629 non-null object\n",
      "spoken_languages_iso        4717 non-null object\n",
      "release_year                4803 non-null int64\n",
      "cast_name                   4757 non-null object\n",
      "producer                    3743 non-null object\n",
      "director                    4562 non-null object\n",
      "dtypes: float64(3), int64(5), object(17)\n",
      "memory usage: 975.6+ KB\n"
     ]
    }
   ],
   "source": [
    "merged.info()"
   ]
  },
  {
   "cell_type": "code",
   "execution_count": 16,
   "metadata": {
    "ExecuteTime": {
     "end_time": "2019-11-17T05:00:11.835432Z",
     "start_time": "2019-11-17T05:00:11.516609Z"
    }
   },
   "outputs": [],
   "source": [
    "merged.to_csv('./data/clean_movie_plus_credit.csv', index=False)"
   ]
  },
  {
   "cell_type": "code",
   "execution_count": null,
   "metadata": {},
   "outputs": [],
   "source": []
  }
 ],
 "metadata": {
  "kernelspec": {
   "display_name": "Python 3",
   "language": "python",
   "name": "python3"
  },
  "language_info": {
   "codemirror_mode": {
    "name": "ipython",
    "version": 3
   },
   "file_extension": ".py",
   "mimetype": "text/x-python",
   "name": "python",
   "nbconvert_exporter": "python",
   "pygments_lexer": "ipython3",
   "version": "3.7.3"
  },
  "varInspector": {
   "cols": {
    "lenName": 16,
    "lenType": 16,
    "lenVar": 40
   },
   "kernels_config": {
    "python": {
     "delete_cmd_postfix": "",
     "delete_cmd_prefix": "del ",
     "library": "var_list.py",
     "varRefreshCmd": "print(var_dic_list())"
    },
    "r": {
     "delete_cmd_postfix": ") ",
     "delete_cmd_prefix": "rm(",
     "library": "var_list.r",
     "varRefreshCmd": "cat(var_dic_list()) "
    }
   },
   "types_to_exclude": [
    "module",
    "function",
    "builtin_function_or_method",
    "instance",
    "_Feature"
   ],
   "window_display": false
  }
 },
 "nbformat": 4,
 "nbformat_minor": 2
}
