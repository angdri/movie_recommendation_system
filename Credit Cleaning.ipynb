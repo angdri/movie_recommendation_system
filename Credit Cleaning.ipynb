{
 "cells": [
  {
   "cell_type": "code",
   "execution_count": 1,
   "metadata": {
    "ExecuteTime": {
     "end_time": "2019-11-18T03:56:47.699183Z",
     "start_time": "2019-11-18T03:56:35.204502Z"
    }
   },
   "outputs": [],
   "source": [
    "import pandas as pd\n",
    "import numpy as np\n",
    "import seaborn as sns\n",
    "import matplotlib.pyplot as plt\n",
    "\n",
    "%matplotlib inline"
   ]
  },
  {
   "cell_type": "code",
   "execution_count": 2,
   "metadata": {
    "ExecuteTime": {
     "end_time": "2019-11-18T03:56:47.711778Z",
     "start_time": "2019-11-18T03:56:47.707806Z"
    }
   },
   "outputs": [],
   "source": [
    "import warnings\n",
    "warnings.filterwarnings('ignore')\n",
    "\n",
    "# pd.set_option('display.max_rows', 500)\n",
    "# pd.set_option('display.max_columns', 200)\n",
    "# pd.set_option('display.width', 500)\n",
    "# pd.set_option('display.max_colwidth', -1)"
   ]
  },
  {
   "cell_type": "code",
   "execution_count": 4,
   "metadata": {
    "ExecuteTime": {
     "end_time": "2019-11-18T03:56:58.564699Z",
     "start_time": "2019-11-18T03:56:57.582220Z"
    }
   },
   "outputs": [],
   "source": [
    "movie_credit = pd.read_csv('./data/tmdb_5000_credits.csv', encoding='raw_unicode_escape')"
   ]
  },
  {
   "cell_type": "code",
   "execution_count": 4,
   "metadata": {
    "ExecuteTime": {
     "end_time": "2019-11-17T04:35:38.073156Z",
     "start_time": "2019-11-17T04:35:38.051295Z"
    }
   },
   "outputs": [
    {
     "name": "stdout",
     "output_type": "stream",
     "text": [
      "<class 'pandas.core.frame.DataFrame'>\n",
      "RangeIndex: 4803 entries, 0 to 4802\n",
      "Data columns (total 4 columns):\n",
      "movie_id    4803 non-null int64\n",
      "title       4803 non-null object\n",
      "cast        4803 non-null object\n",
      "crew        4803 non-null object\n",
      "dtypes: int64(1), object(3)\n",
      "memory usage: 150.2+ KB\n"
     ]
    }
   ],
   "source": [
    "movie_credit.info()"
   ]
  },
  {
   "cell_type": "code",
   "execution_count": 5,
   "metadata": {
    "ExecuteTime": {
     "end_time": "2019-11-17T04:35:38.190136Z",
     "start_time": "2019-11-17T04:35:38.075276Z"
    },
    "scrolled": false
   },
   "outputs": [
    {
     "data": {
      "text/html": [
       "<div>\n",
       "<style scoped>\n",
       "    .dataframe tbody tr th:only-of-type {\n",
       "        vertical-align: middle;\n",
       "    }\n",
       "\n",
       "    .dataframe tbody tr th {\n",
       "        vertical-align: top;\n",
       "    }\n",
       "\n",
       "    .dataframe thead th {\n",
       "        text-align: right;\n",
       "    }\n",
       "</style>\n",
       "<table border=\"1\" class=\"dataframe\">\n",
       "  <thead>\n",
       "    <tr style=\"text-align: right;\">\n",
       "      <th></th>\n",
       "      <th>movie_id</th>\n",
       "      <th>title</th>\n",
       "      <th>cast</th>\n",
       "      <th>crew</th>\n",
       "    </tr>\n",
       "  </thead>\n",
       "  <tbody>\n",
       "    <tr>\n",
       "      <th>0</th>\n",
       "      <td>19995</td>\n",
       "      <td>Avatar</td>\n",
       "      <td>[{\"cast_id\": 242, \"character\": \"Jake Sully\", \"...</td>\n",
       "      <td>[{\"credit_id\": \"52fe48009251416c750aca23\", \"de...</td>\n",
       "    </tr>\n",
       "    <tr>\n",
       "      <th>1</th>\n",
       "      <td>285</td>\n",
       "      <td>Pirates of the Caribbean: At World's End</td>\n",
       "      <td>[{\"cast_id\": 4, \"character\": \"Captain Jack Spa...</td>\n",
       "      <td>[{\"credit_id\": \"52fe4232c3a36847f800b579\", \"de...</td>\n",
       "    </tr>\n",
       "    <tr>\n",
       "      <th>2</th>\n",
       "      <td>206647</td>\n",
       "      <td>Spectre</td>\n",
       "      <td>[{\"cast_id\": 1, \"character\": \"James Bond\", \"cr...</td>\n",
       "      <td>[{\"credit_id\": \"54805967c3a36829b5002c41\", \"de...</td>\n",
       "    </tr>\n",
       "    <tr>\n",
       "      <th>3</th>\n",
       "      <td>49026</td>\n",
       "      <td>The Dark Knight Rises</td>\n",
       "      <td>[{\"cast_id\": 2, \"character\": \"Bruce Wayne / Ba...</td>\n",
       "      <td>[{\"credit_id\": \"52fe4781c3a36847f81398c3\", \"de...</td>\n",
       "    </tr>\n",
       "    <tr>\n",
       "      <th>4</th>\n",
       "      <td>49529</td>\n",
       "      <td>John Carter</td>\n",
       "      <td>[{\"cast_id\": 5, \"character\": \"John Carter\", \"c...</td>\n",
       "      <td>[{\"credit_id\": \"52fe479ac3a36847f813eaa3\", \"de...</td>\n",
       "    </tr>\n",
       "  </tbody>\n",
       "</table>\n",
       "</div>"
      ],
      "text/plain": [
       "   movie_id                                     title  \\\n",
       "0     19995                                    Avatar   \n",
       "1       285  Pirates of the Caribbean: At World's End   \n",
       "2    206647                                   Spectre   \n",
       "3     49026                     The Dark Knight Rises   \n",
       "4     49529                               John Carter   \n",
       "\n",
       "                                                cast  \\\n",
       "0  [{\"cast_id\": 242, \"character\": \"Jake Sully\", \"...   \n",
       "1  [{\"cast_id\": 4, \"character\": \"Captain Jack Spa...   \n",
       "2  [{\"cast_id\": 1, \"character\": \"James Bond\", \"cr...   \n",
       "3  [{\"cast_id\": 2, \"character\": \"Bruce Wayne / Ba...   \n",
       "4  [{\"cast_id\": 5, \"character\": \"John Carter\", \"c...   \n",
       "\n",
       "                                                crew  \n",
       "0  [{\"credit_id\": \"52fe48009251416c750aca23\", \"de...  \n",
       "1  [{\"credit_id\": \"52fe4232c3a36847f800b579\", \"de...  \n",
       "2  [{\"credit_id\": \"54805967c3a36829b5002c41\", \"de...  \n",
       "3  [{\"credit_id\": \"52fe4781c3a36847f81398c3\", \"de...  \n",
       "4  [{\"credit_id\": \"52fe479ac3a36847f813eaa3\", \"de...  "
      ]
     },
     "execution_count": 5,
     "metadata": {},
     "output_type": "execute_result"
    }
   ],
   "source": [
    "movie_credit.head()"
   ]
  },
  {
   "cell_type": "markdown",
   "metadata": {
    "heading_collapsed": true
   },
   "source": [
    "## get cast's name"
   ]
  },
  {
   "cell_type": "code",
   "execution_count": 6,
   "metadata": {
    "ExecuteTime": {
     "end_time": "2019-11-17T04:35:38.332188Z",
     "start_time": "2019-11-17T04:35:38.193170Z"
    },
    "hidden": true
   },
   "outputs": [],
   "source": [
    "import re\n",
    "def split_cast_name(param):\n",
    "    if param == '[]':\n",
    "        return ''\n",
    "    else:\n",
    "        list_cast = re.findall('\"name\": \"([A-Za-z .]*)\",',param)\n",
    "        cast = ''\n",
    "        for i in list_cast:\n",
    "            if i != '':\n",
    "                cast += (i+',')\n",
    "        return cast[:-1]"
   ]
  },
  {
   "cell_type": "code",
   "execution_count": 7,
   "metadata": {
    "ExecuteTime": {
     "end_time": "2019-11-17T04:35:38.593504Z",
     "start_time": "2019-11-17T04:35:38.335474Z"
    },
    "hidden": true
   },
   "outputs": [],
   "source": [
    "movie_credit['cast_name'] = movie_credit['cast'].apply(split_cast_name)"
   ]
  },
  {
   "cell_type": "markdown",
   "metadata": {
    "heading_collapsed": true
   },
   "source": [
    "## get writer's name"
   ]
  },
  {
   "cell_type": "code",
   "execution_count": 8,
   "metadata": {
    "ExecuteTime": {
     "end_time": "2019-11-17T04:35:38.632920Z",
     "start_time": "2019-11-17T04:35:38.594501Z"
    },
    "hidden": true
   },
   "outputs": [],
   "source": [
    "def split_writer_name(param):\n",
    "    if param == '[]':\n",
    "        return ''\n",
    "    else:\n",
    "        list_writer = re.findall('\"job\": \"Writer\", \"name\": \"([A-Za-z .]*)\"}',param)\n",
    "        writer = ''\n",
    "        for i in list_writer:\n",
    "            if i != '':\n",
    "                writer += (i+',')\n",
    "        if writer == '':\n",
    "            return ''\n",
    "        else:\n",
    "            return writer[:-1]"
   ]
  },
  {
   "cell_type": "code",
   "execution_count": 9,
   "metadata": {
    "ExecuteTime": {
     "end_time": "2019-11-17T04:35:38.835849Z",
     "start_time": "2019-11-17T04:35:38.636910Z"
    },
    "hidden": true
   },
   "outputs": [],
   "source": [
    "movie_credit['writer'] = movie_credit['crew'].apply(split_writer_name)"
   ]
  },
  {
   "cell_type": "markdown",
   "metadata": {
    "heading_collapsed": true
   },
   "source": [
    "## get producer's name"
   ]
  },
  {
   "cell_type": "code",
   "execution_count": 10,
   "metadata": {
    "ExecuteTime": {
     "end_time": "2019-11-17T04:35:38.918465Z",
     "start_time": "2019-11-17T04:35:38.837139Z"
    },
    "hidden": true
   },
   "outputs": [],
   "source": [
    "def split_producer_name(param):\n",
    "    if param == '[]':\n",
    "        return ''\n",
    "    else:\n",
    "        list_producer = re.findall('\"job\": \"Producer\", \"name\": \"([A-Za-z .]*)\"}',param)\n",
    "        producer = ''\n",
    "        for i in list_producer:\n",
    "            if i != '':\n",
    "                producer += (i+',')\n",
    "        if producer == '':\n",
    "            return ''\n",
    "        else:\n",
    "            return producer[:-1]"
   ]
  },
  {
   "cell_type": "code",
   "execution_count": 11,
   "metadata": {
    "ExecuteTime": {
     "end_time": "2019-11-17T04:35:39.086069Z",
     "start_time": "2019-11-17T04:35:38.920411Z"
    },
    "hidden": true
   },
   "outputs": [],
   "source": [
    "movie_credit['producer'] = movie_credit['crew'].apply(split_producer_name)"
   ]
  },
  {
   "cell_type": "markdown",
   "metadata": {
    "heading_collapsed": true
   },
   "source": [
    "## get director's name"
   ]
  },
  {
   "cell_type": "code",
   "execution_count": 12,
   "metadata": {
    "ExecuteTime": {
     "end_time": "2019-11-17T04:35:39.171601Z",
     "start_time": "2019-11-17T04:35:39.088064Z"
    },
    "hidden": true
   },
   "outputs": [],
   "source": [
    "def split_director_name(param):\n",
    "    if param == '[]':\n",
    "        return ''\n",
    "    else:\n",
    "        list_director = re.findall('\"job\": \"Director\", \"name\": \"([A-Za-z .]*)\"}',param)\n",
    "        director = ''\n",
    "        for i in list_director:\n",
    "            if i != '':\n",
    "                director += (i+',')\n",
    "        if director == '':\n",
    "            return ''\n",
    "        else:\n",
    "            return director[:-1]"
   ]
  },
  {
   "cell_type": "code",
   "execution_count": 13,
   "metadata": {
    "ExecuteTime": {
     "end_time": "2019-11-17T04:35:39.302897Z",
     "start_time": "2019-11-17T04:35:39.171601Z"
    },
    "hidden": true
   },
   "outputs": [],
   "source": [
    "movie_credit['director'] = movie_credit['crew'].apply(split_director_name)"
   ]
  },
  {
   "cell_type": "markdown",
   "metadata": {
    "heading_collapsed": true
   },
   "source": [
    "## drop title, cast, and crew's columns"
   ]
  },
  {
   "cell_type": "code",
   "execution_count": 14,
   "metadata": {
    "ExecuteTime": {
     "end_time": "2019-11-17T04:35:39.393351Z",
     "start_time": "2019-11-17T04:35:39.302897Z"
    },
    "hidden": true
   },
   "outputs": [],
   "source": [
    "movie_credit.drop(['title','cast','crew'], axis=1,inplace=True)"
   ]
  },
  {
   "cell_type": "markdown",
   "metadata": {
    "heading_collapsed": true
   },
   "source": [
    "## check head and info again"
   ]
  },
  {
   "cell_type": "code",
   "execution_count": 15,
   "metadata": {
    "ExecuteTime": {
     "end_time": "2019-11-17T04:35:39.553479Z",
     "start_time": "2019-11-17T04:35:39.397340Z"
    },
    "hidden": true
   },
   "outputs": [
    {
     "data": {
      "text/html": [
       "<div>\n",
       "<style scoped>\n",
       "    .dataframe tbody tr th:only-of-type {\n",
       "        vertical-align: middle;\n",
       "    }\n",
       "\n",
       "    .dataframe tbody tr th {\n",
       "        vertical-align: top;\n",
       "    }\n",
       "\n",
       "    .dataframe thead th {\n",
       "        text-align: right;\n",
       "    }\n",
       "</style>\n",
       "<table border=\"1\" class=\"dataframe\">\n",
       "  <thead>\n",
       "    <tr style=\"text-align: right;\">\n",
       "      <th></th>\n",
       "      <th>movie_id</th>\n",
       "      <th>cast_name</th>\n",
       "      <th>writer</th>\n",
       "      <th>producer</th>\n",
       "      <th>director</th>\n",
       "    </tr>\n",
       "  </thead>\n",
       "  <tbody>\n",
       "    <tr>\n",
       "      <th>0</th>\n",
       "      <td>19995</td>\n",
       "      <td>Sam Worthington,Zoe Saldana,Sigourney Weaver,S...</td>\n",
       "      <td>James Cameron</td>\n",
       "      <td>James Cameron,Jon Landau</td>\n",
       "      <td>James Cameron</td>\n",
       "    </tr>\n",
       "    <tr>\n",
       "      <th>1</th>\n",
       "      <td>285</td>\n",
       "      <td>Johnny Depp,Orlando Bloom,Keira Knightley,Bill...</td>\n",
       "      <td></td>\n",
       "      <td>Jerry Bruckheimer,Eric McLeod,Chad Oman,Peter ...</td>\n",
       "      <td>Gore Verbinski</td>\n",
       "    </tr>\n",
       "    <tr>\n",
       "      <th>2</th>\n",
       "      <td>206647</td>\n",
       "      <td>Daniel Craig,Christoph Waltz,Ralph Fiennes,Mon...</td>\n",
       "      <td></td>\n",
       "      <td>Barbara Broccoli,Michael G. Wilson</td>\n",
       "      <td>Sam Mendes</td>\n",
       "    </tr>\n",
       "    <tr>\n",
       "      <th>3</th>\n",
       "      <td>49026</td>\n",
       "      <td>Christian Bale,Michael Caine,Gary Oldman,Anne ...</td>\n",
       "      <td></td>\n",
       "      <td>Charles Roven,Christopher Nolan,Emma Thomas</td>\n",
       "      <td>Christopher Nolan</td>\n",
       "    </tr>\n",
       "    <tr>\n",
       "      <th>4</th>\n",
       "      <td>49529</td>\n",
       "      <td>Taylor Kitsch,Lynn Collins,Samantha Morton,Wil...</td>\n",
       "      <td></td>\n",
       "      <td>Colin Wilson,Jim Morris,Lindsey Collins</td>\n",
       "      <td>Andrew Stanton</td>\n",
       "    </tr>\n",
       "  </tbody>\n",
       "</table>\n",
       "</div>"
      ],
      "text/plain": [
       "   movie_id                                          cast_name         writer  \\\n",
       "0     19995  Sam Worthington,Zoe Saldana,Sigourney Weaver,S...  James Cameron   \n",
       "1       285  Johnny Depp,Orlando Bloom,Keira Knightley,Bill...                  \n",
       "2    206647  Daniel Craig,Christoph Waltz,Ralph Fiennes,Mon...                  \n",
       "3     49026  Christian Bale,Michael Caine,Gary Oldman,Anne ...                  \n",
       "4     49529  Taylor Kitsch,Lynn Collins,Samantha Morton,Wil...                  \n",
       "\n",
       "                                            producer           director  \n",
       "0                           James Cameron,Jon Landau      James Cameron  \n",
       "1  Jerry Bruckheimer,Eric McLeod,Chad Oman,Peter ...     Gore Verbinski  \n",
       "2                 Barbara Broccoli,Michael G. Wilson         Sam Mendes  \n",
       "3        Charles Roven,Christopher Nolan,Emma Thomas  Christopher Nolan  \n",
       "4            Colin Wilson,Jim Morris,Lindsey Collins     Andrew Stanton  "
      ]
     },
     "execution_count": 15,
     "metadata": {},
     "output_type": "execute_result"
    }
   ],
   "source": [
    "movie_credit.head()"
   ]
  },
  {
   "cell_type": "code",
   "execution_count": 16,
   "metadata": {
    "ExecuteTime": {
     "end_time": "2019-11-17T04:35:39.767973Z",
     "start_time": "2019-11-17T04:35:39.553479Z"
    },
    "hidden": true
   },
   "outputs": [
    {
     "name": "stdout",
     "output_type": "stream",
     "text": [
      "<class 'pandas.core.frame.DataFrame'>\n",
      "RangeIndex: 4803 entries, 0 to 4802\n",
      "Data columns (total 5 columns):\n",
      "movie_id     4803 non-null int64\n",
      "cast_name    4803 non-null object\n",
      "writer       4803 non-null object\n",
      "producer     4803 non-null object\n",
      "director     4803 non-null object\n",
      "dtypes: int64(1), object(4)\n",
      "memory usage: 187.7+ KB\n"
     ]
    }
   ],
   "source": [
    "movie_credit.info()"
   ]
  },
  {
   "cell_type": "markdown",
   "metadata": {
    "heading_collapsed": true
   },
   "source": [
    "## export to clean_credit.csv"
   ]
  },
  {
   "cell_type": "code",
   "execution_count": 17,
   "metadata": {
    "ExecuteTime": {
     "end_time": "2019-11-17T04:35:39.899050Z",
     "start_time": "2019-11-17T04:35:39.770240Z"
    },
    "hidden": true
   },
   "outputs": [],
   "source": [
    "movie_credit.to_csv('./data/clean_credit.csv', index=False)"
   ]
  }
 ],
 "metadata": {
  "kernelspec": {
   "display_name": "Python 3",
   "language": "python",
   "name": "python3"
  },
  "language_info": {
   "codemirror_mode": {
    "name": "ipython",
    "version": 3
   },
   "file_extension": ".py",
   "mimetype": "text/x-python",
   "name": "python",
   "nbconvert_exporter": "python",
   "pygments_lexer": "ipython3",
   "version": "3.7.3"
  },
  "varInspector": {
   "cols": {
    "lenName": 16,
    "lenType": 16,
    "lenVar": 40
   },
   "kernels_config": {
    "python": {
     "delete_cmd_postfix": "",
     "delete_cmd_prefix": "del ",
     "library": "var_list.py",
     "varRefreshCmd": "print(var_dic_list())"
    },
    "r": {
     "delete_cmd_postfix": ") ",
     "delete_cmd_prefix": "rm(",
     "library": "var_list.r",
     "varRefreshCmd": "cat(var_dic_list()) "
    }
   },
   "types_to_exclude": [
    "module",
    "function",
    "builtin_function_or_method",
    "instance",
    "_Feature"
   ],
   "window_display": false
  }
 },
 "nbformat": 4,
 "nbformat_minor": 2
}
